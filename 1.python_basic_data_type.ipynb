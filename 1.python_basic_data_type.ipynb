{
 "cells": [
  {
   "cell_type": "markdown",
   "id": "82cecc7a-9470-4d15-827b-1cb2ea3cbd76",
   "metadata": {},
   "source": [
    "# 자료형과 기본 자료형"
   ]
  },
  {
   "cell_type": "code",
   "execution_count": 1,
   "id": "12a24890-3e6d-47ca-8027-ab6de7dd19b9",
   "metadata": {
    "tags": []
   },
   "outputs": [
    {
     "name": "stdout",
     "output_type": "stream",
     "text": [
      "안녕하세요\n"
     ]
    }
   ],
   "source": [
    "print(\"안녕하세요\")"
   ]
  },
  {
   "cell_type": "code",
   "execution_count": 2,
   "id": "62156c5d-f5bc-4fe3-96c9-145b6155ee24",
   "metadata": {
    "tags": []
   },
   "outputs": [
    {
     "ename": "SyntaxError",
     "evalue": "invalid syntax (1373249036.py, line 1)",
     "output_type": "error",
     "traceback": [
      "\u001b[1;36m  Cell \u001b[1;32mIn[2], line 1\u001b[1;36m\u001b[0m\n\u001b[1;33m    print(type\"안녕하세요\")\u001b[0m\n\u001b[1;37m              ^\u001b[0m\n\u001b[1;31mSyntaxError\u001b[0m\u001b[1;31m:\u001b[0m invalid syntax\n"
     ]
    }
   ],
   "source": [
    "print(type\"안녕하세요\")"
   ]
  },
  {
   "cell_type": "code",
   "execution_count": 3,
   "id": "d607e39f-46b8-4992-a519-17cd69f9ec8a",
   "metadata": {
    "tags": []
   },
   "outputs": [
    {
     "name": "stdout",
     "output_type": "stream",
     "text": [
      "<class 'str'>\n"
     ]
    }
   ],
   "source": [
    "print(type(\"너 나와\"))"
   ]
  },
  {
   "cell_type": "code",
   "execution_count": 4,
   "id": "e6132b2c-a783-493f-b18d-77ef464150a9",
   "metadata": {
    "tags": []
   },
   "outputs": [
    {
     "name": "stdout",
     "output_type": "stream",
     "text": [
      "<class 'int'>\n"
     ]
    }
   ],
   "source": [
    "print(type(1234))"
   ]
  },
  {
   "cell_type": "code",
   "execution_count": 5,
   "id": "b685fc41-1c01-44f3-8e99-e656e7d99482",
   "metadata": {
    "tags": []
   },
   "outputs": [
    {
     "name": "stdout",
     "output_type": "stream",
     "text": [
      "test\n"
     ]
    }
   ],
   "source": [
    "print(\"test\")"
   ]
  },
  {
   "cell_type": "code",
   "execution_count": 6,
   "id": "cd699e84-2487-4b66-91c5-54b3480065c3",
   "metadata": {
    "tags": []
   },
   "outputs": [
    {
     "name": "stdout",
     "output_type": "stream",
     "text": [
      "1 2 3 4\n"
     ]
    }
   ],
   "source": [
    "print(1, 2, 3, 4)"
   ]
  },
  {
   "cell_type": "code",
   "execution_count": 7,
   "id": "3a780cf3-1e93-43cd-a81f-2a0a2fa851e9",
   "metadata": {
    "tags": []
   },
   "outputs": [
    {
     "ename": "SyntaxError",
     "evalue": "invalid syntax. Perhaps you forgot a comma? (1974087346.py, line 1)",
     "output_type": "error",
     "traceback": [
      "\u001b[1;36m  Cell \u001b[1;32mIn[7], line 1\u001b[1;36m\u001b[0m\n\u001b[1;33m    print(\"\"안녕하세요.\"박리나입니다\")\u001b[0m\n\u001b[1;37m          ^\u001b[0m\n\u001b[1;31mSyntaxError\u001b[0m\u001b[1;31m:\u001b[0m invalid syntax. Perhaps you forgot a comma?\n"
     ]
    }
   ],
   "source": [
    "print(\"\"안녕하세요.\"박리나입니다\")"
   ]
  },
  {
   "cell_type": "code",
   "execution_count": 8,
   "id": "e107dfc9-2283-456f-94a2-43e0a3773b0b",
   "metadata": {
    "tags": []
   },
   "outputs": [
    {
     "ename": "SyntaxError",
     "evalue": "unterminated string literal (detected at line 1) (730972659.py, line 1)",
     "output_type": "error",
     "traceback": [
      "\u001b[1;36m  Cell \u001b[1;32mIn[8], line 1\u001b[1;36m\u001b[0m\n\u001b[1;33m    print(`\"스포츠맨.\"강백호가 말했다.'\u001b[0m\n\u001b[1;37m                           ^\u001b[0m\n\u001b[1;31mSyntaxError\u001b[0m\u001b[1;31m:\u001b[0m unterminated string literal (detected at line 1)\n"
     ]
    }
   ],
   "source": [
    "print(`\"스포츠맨.\"강백호가 말했다.'"
   ]
  },
  {
   "cell_type": "code",
   "execution_count": 9,
   "id": "d0e511be-fbb5-4bb8-be3f-9051bf536b02",
   "metadata": {
    "tags": []
   },
   "outputs": [
    {
     "name": "stdout",
     "output_type": "stream",
     "text": [
      "\"안녕하세요\"강백호가 말했다\n"
     ]
    }
   ],
   "source": [
    "print('\"안녕하세요\"강백호가 말했다')"
   ]
  },
  {
   "cell_type": "code",
   "execution_count": 10,
   "id": "85db6d6b-9f2f-4366-813b-49864b067a50",
   "metadata": {
    "tags": []
   },
   "outputs": [
    {
     "name": "stdout",
     "output_type": "stream",
     "text": [
      "'생각중'서태웅이다\n"
     ]
    }
   ],
   "source": [
    "print(\"'생각중'서태웅이다\")"
   ]
  },
  {
   "cell_type": "code",
   "execution_count": 11,
   "id": "e5d4af14-3bdf-4e1f-9e9a-4c30941209bb",
   "metadata": {
    "tags": []
   },
   "outputs": [
    {
     "name": "stdout",
     "output_type": "stream",
     "text": [
      "\"안녕하세요\"채치수다\n"
     ]
    }
   ],
   "source": [
    "print(\"\\\"안녕하세요\\\"채치수다\")"
   ]
  },
  {
   "cell_type": "code",
   "execution_count": 12,
   "id": "4711fab2-e3f6-4c28-beca-c9997c05f94c",
   "metadata": {
    "tags": []
   },
   "outputs": [
    {
     "name": "stdout",
     "output_type": "stream",
     "text": [
      "'생각'생각했다\n"
     ]
    }
   ],
   "source": [
    "print('\\'생각\\'생각했다')"
   ]
  },
  {
   "cell_type": "code",
   "execution_count": 13,
   "id": "d6f503ca-5806-4521-a6c7-715d953aeb66",
   "metadata": {
    "tags": []
   },
   "outputs": [
    {
     "name": "stdout",
     "output_type": "stream",
     "text": [
      "\n"
     ]
    }
   ],
   "source": [
    "print()"
   ]
  },
  {
   "cell_type": "code",
   "execution_count": 14,
   "id": "d28b4794-1ebe-4360-8f11-f2524d26b686",
   "metadata": {
    "tags": []
   },
   "outputs": [
    {
     "name": "stdout",
     "output_type": "stream",
     "text": [
      "안녕하세요\n",
      "이명헌입니 뿅\n"
     ]
    }
   ],
   "source": [
    "print(\"안녕하세요\\n이명헌입니 뿅\")"
   ]
  },
  {
   "cell_type": "code",
   "execution_count": 15,
   "id": "9955116f-f931-4a78-8aca-3bf843bb47a6",
   "metadata": {
    "tags": []
   },
   "outputs": [
    {
     "name": "stdout",
     "output_type": "stream",
     "text": [
      "난 정대만 \t 포기를 모르는 남자지\n"
     ]
    }
   ],
   "source": [
    "print(\"난 정대만 \\t 포기를 모르는 남자지\")"
   ]
  },
  {
   "cell_type": "code",
   "execution_count": 16,
   "id": "b52e41fe-e6ce-4404-9b39-b6ecfb41dfd6",
   "metadata": {
    "tags": []
   },
   "outputs": [
    {
     "name": "stdout",
     "output_type": "stream",
     "text": [
      "동해물과 백두산이 \n",
      " 마르고 닳도록 \n",
      " 하느님이 보우하사\n"
     ]
    }
   ],
   "source": [
    "print(\"동해물과 백두산이 \\n 마르고 닳도록 \\n 하느님이 보우하사\")"
   ]
  },
  {
   "cell_type": "code",
   "execution_count": 17,
   "id": "d9dbc3a9-7aae-4fa4-ba5c-83281abc43eb",
   "metadata": {
    "tags": []
   },
   "outputs": [
    {
     "name": "stdout",
     "output_type": "stream",
     "text": [
      "동해물과 백두산이\n",
      "마르고 닳도록\n",
      "하느님이 보우하사\n",
      "우\n",
      "리\n",
      "나라 만\t세\n"
     ]
    }
   ],
   "source": [
    "print(\"\"\"동해물과 백두산이\n",
    "마르고 닳도록\n",
    "하느님이 보우하사\n",
    "우\n",
    "리\n",
    "나라 만\\t세\"\"\")"
   ]
  },
  {
   "cell_type": "code",
   "execution_count": 18,
   "id": "fe7b7f79-6295-4cab-b7e6-34b2566b0f65",
   "metadata": {
    "tags": []
   },
   "outputs": [
    {
     "name": "stdout",
     "output_type": "stream",
     "text": [
      "\n",
      "동해물과 백두산이 마르고 닳도록\n",
      "하느님이 보우하사 우리나라 만세\n",
      "무궁화 삼천리 화려강산 대한사람\n",
      "대한으로 길이 보전하세\n",
      "\n"
     ]
    }
   ],
   "source": [
    "print(\"\"\"\n",
    "동해물과 백두산이 마르고 닳도록\n",
    "하느님이 보우하사 우리나라 만세\n",
    "무궁화 삼천리 화려강산 대한사람\n",
    "대한으로 길이 보전하세\n",
    "\"\"\")"
   ]
  },
  {
   "cell_type": "code",
   "execution_count": 19,
   "id": "26afd228-7c59-45da-a4cf-da78c77a9f7c",
   "metadata": {
    "tags": []
   },
   "outputs": [
    {
     "name": "stdout",
     "output_type": "stream",
     "text": [
      "동해물과 백두산이 마르고 닳도록\n",
      "하느님이 보우하사 우리나라 만세\n",
      "무궁화 삼천리 화려강산 대한사람\n",
      "대한으로 길이 보전하세\n"
     ]
    }
   ],
   "source": [
    "print(\"\"\"\\\n",
    "동해물과 백두산이 마르고 닳도록\n",
    "하느님이 보우하사 우리나라 만세\n",
    "무궁화 삼천리 화려강산 대한사람\n",
    "대한으로 길이 보전하세\\\n",
    "\"\"\")"
   ]
  },
  {
   "cell_type": "code",
   "execution_count": 20,
   "id": "c9b26724-3690-45ae-8ffb-4c0318240831",
   "metadata": {
    "tags": []
   },
   "outputs": [
    {
     "name": "stdout",
     "output_type": "stream",
     "text": [
      "안녕하세요\n"
     ]
    }
   ],
   "source": [
    "print(\"안녕\" + \"하세요\")"
   ]
  },
  {
   "cell_type": "code",
   "execution_count": 21,
   "id": "f69f0acd-b69c-43aa-85bf-0a067cb60ff6",
   "metadata": {
    "tags": []
   },
   "outputs": [
    {
     "name": "stdout",
     "output_type": "stream",
     "text": [
      "안녕하세요\n"
     ]
    },
    {
     "ename": "TypeError",
     "evalue": "unsupported operand type(s) for *: 'NoneType' and 'int'",
     "output_type": "error",
     "traceback": [
      "\u001b[1;31m---------------------------------------------------------------------------\u001b[0m",
      "\u001b[1;31mTypeError\u001b[0m                                 Traceback (most recent call last)",
      "Cell \u001b[1;32mIn[21], line 1\u001b[0m\n\u001b[1;32m----> 1\u001b[0m \u001b[38;5;28;43mprint\u001b[39;49m\u001b[43m(\u001b[49m\u001b[38;5;124;43m\"\u001b[39;49m\u001b[38;5;124;43m안녕하세요\u001b[39;49m\u001b[38;5;124;43m\"\u001b[39;49m\u001b[43m)\u001b[49m\u001b[38;5;241;43m*\u001b[39;49m\u001b[38;5;241;43m3\u001b[39;49m\n",
      "\u001b[1;31mTypeError\u001b[0m: unsupported operand type(s) for *: 'NoneType' and 'int'"
     ]
    }
   ],
   "source": [
    "print(\"안녕하세요\")*3"
   ]
  },
  {
   "cell_type": "code",
   "execution_count": 22,
   "id": "6c1b0b12-a2c6-49ab-ae64-b9d78e3c9948",
   "metadata": {
    "tags": []
   },
   "outputs": [
    {
     "name": "stdout",
     "output_type": "stream",
     "text": [
      "안녕하세요안녕하세요안녕하세요\n"
     ]
    }
   ],
   "source": [
    "print(\"안녕하세요\"*3)"
   ]
  },
  {
   "cell_type": "code",
   "execution_count": 23,
   "id": "a72ae961-7650-40b3-8011-213a90a2b04d",
   "metadata": {
    "tags": []
   },
   "outputs": [],
   "source": [
    "a = \"안녕하세요\""
   ]
  },
  {
   "cell_type": "code",
   "execution_count": 24,
   "id": "c65dda83-d4dc-483c-aa16-93886821197e",
   "metadata": {
    "tags": []
   },
   "outputs": [
    {
     "data": {
      "text/plain": [
       "'녕'"
      ]
     },
     "execution_count": 24,
     "metadata": {},
     "output_type": "execute_result"
    }
   ],
   "source": [
    "a[1:2]"
   ]
  },
  {
   "cell_type": "code",
   "execution_count": 25,
   "id": "63de892c-052b-41cc-85d6-9c2cebe42466",
   "metadata": {
    "tags": []
   },
   "outputs": [
    {
     "data": {
      "text/plain": [
       "'하세'"
      ]
     },
     "execution_count": 25,
     "metadata": {},
     "output_type": "execute_result"
    }
   ],
   "source": [
    "a[2:4]"
   ]
  },
  {
   "cell_type": "code",
   "execution_count": 29,
   "id": "c6800f83-0150-4edc-a798-f1cb54d3e2ae",
   "metadata": {
    "tags": []
   },
   "outputs": [
    {
     "data": {
      "text/plain": [
       "'녕하세'"
      ]
     },
     "execution_count": 29,
     "metadata": {},
     "output_type": "execute_result"
    }
   ],
   "source": [
    "# 0~(2~1)\n",
    "a[1:4]"
   ]
  },
  {
   "cell_type": "code",
   "execution_count": 30,
   "id": "2785a588-78d1-4c12-8ca2-9f6683a177b5",
   "metadata": {
    "tags": []
   },
   "outputs": [
    {
     "ename": "IndexError",
     "evalue": "string index out of range",
     "output_type": "error",
     "traceback": [
      "\u001b[1;31m---------------------------------------------------------------------------\u001b[0m",
      "\u001b[1;31mIndexError\u001b[0m                                Traceback (most recent call last)",
      "Cell \u001b[1;32mIn[30], line 1\u001b[0m\n\u001b[1;32m----> 1\u001b[0m \u001b[43ma\u001b[49m\u001b[43m[\u001b[49m\u001b[38;5;241;43m5\u001b[39;49m\u001b[43m]\u001b[49m\n",
      "\u001b[1;31mIndexError\u001b[0m: string index out of range"
     ]
    }
   ],
   "source": [
    "a[5]"
   ]
  },
  {
   "cell_type": "code",
   "execution_count": 31,
   "id": "9069c0e2-41a9-454e-b682-eacd18215ab0",
   "metadata": {
    "tags": []
   },
   "outputs": [
    {
     "data": {
      "text/plain": [
       "5"
      ]
     },
     "execution_count": 31,
     "metadata": {},
     "output_type": "execute_result"
    }
   ],
   "source": [
    "len(a)"
   ]
  },
  {
   "cell_type": "code",
   "execution_count": 32,
   "id": "b9da6f04-efd7-4e01-8688-35b10e69846e",
   "metadata": {
    "tags": []
   },
   "outputs": [],
   "source": [
    "a = 2"
   ]
  },
  {
   "cell_type": "code",
   "execution_count": 33,
   "id": "1a3b7388-e2ab-4f24-9f8d-115c39816c73",
   "metadata": {
    "tags": []
   },
   "outputs": [
    {
     "ename": "SyntaxError",
     "evalue": "invalid syntax (1277751513.py, line 1)",
     "output_type": "error",
     "traceback": [
      "\u001b[1;36m  Cell \u001b[1;32mIn[33], line 1\u001b[1;36m\u001b[0m\n\u001b[1;33m    a++\u001b[0m\n\u001b[1;37m       ^\u001b[0m\n\u001b[1;31mSyntaxError\u001b[0m\u001b[1;31m:\u001b[0m invalid syntax\n"
     ]
    }
   ],
   "source": [
    "a++"
   ]
  },
  {
   "cell_type": "code",
   "execution_count": 34,
   "id": "c1e5c746-35e7-40b9-8993-0232f479448b",
   "metadata": {
    "tags": []
   },
   "outputs": [],
   "source": [
    "a += 2"
   ]
  },
  {
   "cell_type": "code",
   "execution_count": 35,
   "id": "855a0c59-0b90-4c12-a62e-4e0200e78836",
   "metadata": {
    "tags": []
   },
   "outputs": [
    {
     "data": {
      "text/plain": [
       "4"
      ]
     },
     "execution_count": 35,
     "metadata": {},
     "output_type": "execute_result"
    }
   ],
   "source": [
    "a"
   ]
  },
  {
   "cell_type": "code",
   "execution_count": 36,
   "id": "18d15172-d379-4361-b79e-98304aa24069",
   "metadata": {
    "tags": []
   },
   "outputs": [],
   "source": [
    "a*=2"
   ]
  },
  {
   "cell_type": "code",
   "execution_count": 37,
   "id": "259a37f9-1754-48f7-a1f7-77b68ec84e18",
   "metadata": {
    "tags": []
   },
   "outputs": [
    {
     "data": {
      "text/plain": [
       "8"
      ]
     },
     "execution_count": 37,
     "metadata": {},
     "output_type": "execute_result"
    }
   ],
   "source": [
    "a"
   ]
  },
  {
   "cell_type": "code",
   "execution_count": 38,
   "id": "6b0574b5-d556-43e7-a1ca-9e5da9a06242",
   "metadata": {
    "tags": []
   },
   "outputs": [
    {
     "ename": "SyntaxError",
     "evalue": "invalid syntax (93290212.py, line 3)",
     "output_type": "error",
     "traceback": [
      "\u001b[1;36m  Cell \u001b[1;32mIn[38], line 3\u001b[1;36m\u001b[0m\n\u001b[1;33m    a // =\u001b[0m\n\u001b[1;37m         ^\u001b[0m\n\u001b[1;31mSyntaxError\u001b[0m\u001b[1;31m:\u001b[0m invalid syntax\n"
     ]
    }
   ],
   "source": [
    "a = 4\n",
    "b = 8\n",
    "a // ="
   ]
  },
  {
   "cell_type": "code",
   "execution_count": 39,
   "id": "5abfa144-165d-4340-aaa0-1afd853abe99",
   "metadata": {
    "tags": []
   },
   "outputs": [
    {
     "ename": "SyntaxError",
     "evalue": "cannot assign to expression (3654179826.py, line 1)",
     "output_type": "error",
     "traceback": [
      "\u001b[1;36m  Cell \u001b[1;32mIn[39], line 1\u001b[1;36m\u001b[0m\n\u001b[1;33m    a//b =\u001b[0m\n\u001b[1;37m    ^\u001b[0m\n\u001b[1;31mSyntaxError\u001b[0m\u001b[1;31m:\u001b[0m cannot assign to expression\n"
     ]
    }
   ],
   "source": [
    "a//b = "
   ]
  },
  {
   "cell_type": "code",
   "execution_count": 40,
   "id": "5ea19610-1881-49d9-9fe6-957ddb1c56d2",
   "metadata": {
    "tags": []
   },
   "outputs": [
    {
     "ename": "SyntaxError",
     "evalue": "cannot assign to expression (524250341.py, line 1)",
     "output_type": "error",
     "traceback": [
      "\u001b[1;36m  Cell \u001b[1;32mIn[40], line 1\u001b[1;36m\u001b[0m\n\u001b[1;33m    b//a =\u001b[0m\n\u001b[1;37m    ^\u001b[0m\n\u001b[1;31mSyntaxError\u001b[0m\u001b[1;31m:\u001b[0m cannot assign to expression\n"
     ]
    }
   ],
   "source": [
    "b//a = "
   ]
  },
  {
   "cell_type": "code",
   "execution_count": 41,
   "id": "3d083828-5c1a-438c-b699-511680d7cca0",
   "metadata": {
    "tags": []
   },
   "outputs": [
    {
     "ename": "NameError",
     "evalue": "name 'b' is not defined",
     "output_type": "error",
     "traceback": [
      "\u001b[1;31m---------------------------------------------------------------------------\u001b[0m",
      "\u001b[1;31mNameError\u001b[0m                                 Traceback (most recent call last)",
      "Cell \u001b[1;32mIn[41], line 1\u001b[0m\n\u001b[1;32m----> 1\u001b[0m a \u001b[38;5;241m/\u001b[39m\u001b[38;5;241m/\u001b[39m \u001b[43mb\u001b[49m\n",
      "\u001b[1;31mNameError\u001b[0m: name 'b' is not defined"
     ]
    }
   ],
   "source": [
    "a // b"
   ]
  },
  {
   "cell_type": "code",
   "execution_count": 42,
   "id": "1d06fde2-24c5-45e4-ae71-1f44bdc6a11f",
   "metadata": {
    "tags": []
   },
   "outputs": [
    {
     "ename": "NameError",
     "evalue": "name 'b' is not defined",
     "output_type": "error",
     "traceback": [
      "\u001b[1;31m---------------------------------------------------------------------------\u001b[0m",
      "\u001b[1;31mNameError\u001b[0m                                 Traceback (most recent call last)",
      "Cell \u001b[1;32mIn[42], line 1\u001b[0m\n\u001b[1;32m----> 1\u001b[0m \u001b[43mb\u001b[49m \u001b[38;5;241m/\u001b[39m\u001b[38;5;241m/\u001b[39ma\n",
      "\u001b[1;31mNameError\u001b[0m: name 'b' is not defined"
     ]
    }
   ],
   "source": [
    "b //a"
   ]
  },
  {
   "cell_type": "code",
   "execution_count": 43,
   "id": "2dab36df-dbcb-44ce-ae60-c00d1f72b486",
   "metadata": {
    "tags": []
   },
   "outputs": [
    {
     "data": {
      "text/plain": [
       "8"
      ]
     },
     "execution_count": 43,
     "metadata": {},
     "output_type": "execute_result"
    }
   ],
   "source": [
    "a"
   ]
  },
  {
   "cell_type": "code",
   "execution_count": 44,
   "id": "8de88fea-a4a8-44d6-a37b-f9e988037c85",
   "metadata": {
    "tags": []
   },
   "outputs": [
    {
     "ename": "NameError",
     "evalue": "name 'b' is not defined",
     "output_type": "error",
     "traceback": [
      "\u001b[1;31m---------------------------------------------------------------------------\u001b[0m",
      "\u001b[1;31mNameError\u001b[0m                                 Traceback (most recent call last)",
      "Cell \u001b[1;32mIn[44], line 1\u001b[0m\n\u001b[1;32m----> 1\u001b[0m \u001b[43mb\u001b[49m\n",
      "\u001b[1;31mNameError\u001b[0m: name 'b' is not defined"
     ]
    }
   ],
   "source": [
    "b"
   ]
  },
  {
   "cell_type": "code",
   "execution_count": 45,
   "id": "5ce0b12c-b1e8-4e5f-94a5-51d39ab232f7",
   "metadata": {
    "tags": []
   },
   "outputs": [],
   "source": [
    "b=16"
   ]
  },
  {
   "cell_type": "code",
   "execution_count": 46,
   "id": "b1454e2c-87bc-49cf-adb4-87b0810bd01b",
   "metadata": {
    "tags": []
   },
   "outputs": [
    {
     "data": {
      "text/plain": [
       "0"
      ]
     },
     "execution_count": 46,
     "metadata": {},
     "output_type": "execute_result"
    }
   ],
   "source": [
    "a // b"
   ]
  },
  {
   "cell_type": "code",
   "execution_count": 47,
   "id": "fd943c2d-fa16-449c-a19d-489918aa72eb",
   "metadata": {
    "tags": []
   },
   "outputs": [
    {
     "data": {
      "text/plain": [
       "2"
      ]
     },
     "execution_count": 47,
     "metadata": {},
     "output_type": "execute_result"
    }
   ],
   "source": [
    "b//a"
   ]
  },
  {
   "cell_type": "code",
   "execution_count": 48,
   "id": "cb4e1c84-d70a-48ce-878d-987fa588cd5e",
   "metadata": {
    "tags": []
   },
   "outputs": [
    {
     "data": {
      "text/plain": [
       "0"
      ]
     },
     "execution_count": 48,
     "metadata": {},
     "output_type": "execute_result"
    }
   ],
   "source": [
    "2//5"
   ]
  },
  {
   "cell_type": "code",
   "execution_count": 49,
   "id": "ba9b937c-d00e-480a-822f-48f273151e55",
   "metadata": {
    "tags": []
   },
   "outputs": [
    {
     "data": {
      "text/plain": [
       "2"
      ]
     },
     "execution_count": 49,
     "metadata": {},
     "output_type": "execute_result"
    }
   ],
   "source": [
    "5//2"
   ]
  },
  {
   "cell_type": "code",
   "execution_count": 50,
   "id": "42e1a93b-34b8-43e8-8079-c8e399ac1193",
   "metadata": {
    "tags": []
   },
   "outputs": [
    {
     "data": {
      "text/plain": [
       "0"
      ]
     },
     "execution_count": 50,
     "metadata": {},
     "output_type": "execute_result"
    }
   ],
   "source": [
    "2//8"
   ]
  },
  {
   "cell_type": "code",
   "execution_count": 51,
   "id": "3e2fb043-8ce0-4ff7-8dd6-6e6565fa18c6",
   "metadata": {
    "tags": []
   },
   "outputs": [
    {
     "data": {
      "text/plain": [
       "4"
      ]
     },
     "execution_count": 51,
     "metadata": {},
     "output_type": "execute_result"
    }
   ],
   "source": [
    "8//2"
   ]
  },
  {
   "cell_type": "code",
   "execution_count": 52,
   "id": "0875525e-dcdd-4a63-a6ab-ed8d449760c2",
   "metadata": {
    "tags": []
   },
   "outputs": [
    {
     "data": {
      "text/plain": [
       "0"
      ]
     },
     "execution_count": 52,
     "metadata": {},
     "output_type": "execute_result"
    }
   ],
   "source": [
    "8%2"
   ]
  },
  {
   "cell_type": "code",
   "execution_count": 53,
   "id": "bfa446c3-9181-49d2-8787-9260b190e2c3",
   "metadata": {
    "tags": []
   },
   "outputs": [
    {
     "data": {
      "text/plain": [
       "2"
      ]
     },
     "execution_count": 53,
     "metadata": {},
     "output_type": "execute_result"
    }
   ],
   "source": [
    "2**1"
   ]
  },
  {
   "cell_type": "code",
   "execution_count": 54,
   "id": "4ae0a3e8-7a09-4e6a-bac4-cf7e1eb97a24",
   "metadata": {
    "tags": []
   },
   "outputs": [
    {
     "data": {
      "text/plain": [
       "4"
      ]
     },
     "execution_count": 54,
     "metadata": {},
     "output_type": "execute_result"
    }
   ],
   "source": [
    "2**2"
   ]
  },
  {
   "cell_type": "code",
   "execution_count": 55,
   "id": "c14b2237-d852-4170-8a40-ca9515760b86",
   "metadata": {
    "tags": []
   },
   "outputs": [
    {
     "data": {
      "text/plain": [
       "16"
      ]
     },
     "execution_count": 55,
     "metadata": {},
     "output_type": "execute_result"
    }
   ],
   "source": [
    "2**4"
   ]
  },
  {
   "cell_type": "code",
   "execution_count": 56,
   "id": "2b584df9-c740-4d8a-b407-d7b22bcc6064",
   "metadata": {
    "tags": []
   },
   "outputs": [
    {
     "data": {
      "text/plain": [
       "8"
      ]
     },
     "execution_count": 56,
     "metadata": {},
     "output_type": "execute_result"
    }
   ],
   "source": [
    "2**3"
   ]
  },
  {
   "cell_type": "code",
   "execution_count": 57,
   "id": "9a7ee513-5eeb-4c9e-924f-907daf2b04aa",
   "metadata": {
    "tags": []
   },
   "outputs": [
    {
     "data": {
      "text/plain": [
       "32"
      ]
     },
     "execution_count": 57,
     "metadata": {},
     "output_type": "execute_result"
    }
   ],
   "source": [
    "2**5"
   ]
  },
  {
   "cell_type": "code",
   "execution_count": 58,
   "id": "04c02f17-561d-442c-89ea-c0e7bf01ddd8",
   "metadata": {
    "tags": []
   },
   "outputs": [
    {
     "ename": "SyntaxError",
     "evalue": "invalid syntax (3485933480.py, line 1)",
     "output_type": "error",
     "traceback": [
      "\u001b[1;36m  Cell \u001b[1;32mIn[58], line 1\u001b[1;36m\u001b[0m\n\u001b[1;33m    2+2-2*/2*2\u001b[0m\n\u001b[1;37m          ^\u001b[0m\n\u001b[1;31mSyntaxError\u001b[0m\u001b[1;31m:\u001b[0m invalid syntax\n"
     ]
    }
   ],
   "source": [
    "2+2-2*/2*2"
   ]
  },
  {
   "cell_type": "code",
   "execution_count": 59,
   "id": "d9357918-a8c2-4ea5-9e71-691660c12a28",
   "metadata": {
    "tags": []
   },
   "outputs": [
    {
     "data": {
      "text/plain": [
       "0.0"
      ]
     },
     "execution_count": 59,
     "metadata": {},
     "output_type": "execute_result"
    }
   ],
   "source": [
    "2+2-2*2/2*2"
   ]
  },
  {
   "cell_type": "code",
   "execution_count": 60,
   "id": "3038841f-41da-45ec-a5a9-af05a1048523",
   "metadata": {
    "tags": []
   },
   "outputs": [
    {
     "data": {
      "text/plain": [
       "16"
      ]
     },
     "execution_count": 60,
     "metadata": {},
     "output_type": "execute_result"
    }
   ],
   "source": [
    "(5+3)*2"
   ]
  },
  {
   "cell_type": "code",
   "execution_count": 61,
   "id": "28224e50-9c27-48d7-b290-6e5bf70f6df7",
   "metadata": {
    "tags": []
   },
   "outputs": [
    {
     "name": "stdout",
     "output_type": "stream",
     "text": [
      "8\n"
     ]
    }
   ],
   "source": [
    "print(a)"
   ]
  },
  {
   "cell_type": "code",
   "execution_count": 62,
   "id": "93bb1190-c6f3-455d-b03a-d6a7510de94c",
   "metadata": {
    "tags": []
   },
   "outputs": [
    {
     "ename": "IndentationError",
     "evalue": "unexpected indent (1588910069.py, line 2)",
     "output_type": "error",
     "traceback": [
      "\u001b[1;36m  Cell \u001b[1;32mIn[62], line 2\u001b[1;36m\u001b[0m\n\u001b[1;33m    print(b)\u001b[0m\n\u001b[1;37m    ^\u001b[0m\n\u001b[1;31mIndentationError\u001b[0m\u001b[1;31m:\u001b[0m unexpected indent\n"
     ]
    }
   ],
   "source": [
    "print(a)\n",
    "    print(b)\n",
    "# 한줄씩 읽어가기 때문에 들여쓰기가 다른문장과 다를 때 오류 발생"
   ]
  },
  {
   "cell_type": "code",
   "execution_count": 65,
   "id": "021f6a23-5cd3-46c0-a900-3cf9cf76c61b",
   "metadata": {
    "tags": []
   },
   "outputs": [
    {
     "name": "stdout",
     "output_type": "stream",
     "text": [
      "8\n",
      "16\n"
     ]
    }
   ],
   "source": [
    "    print(a)\n",
    "    print(b)"
   ]
  },
  {
   "cell_type": "markdown",
   "id": "3d863e32-2069-4891-9cf2-ca0aa7904e37",
   "metadata": {},
   "source": [
    "# 파이썬 변수와 입력"
   ]
  },
  {
   "cell_type": "markdown",
   "id": "1fac55a3-ba6b-462f-932d-32bac1465ff1",
   "metadata": {},
   "source": [
    "- 변수 선언: 변수에 값을 대입할 때, 선언이 자동으로 일어남\n",
    "- 변수 할당: 변수에 값을 대입하는 것 (ex.a=1)\n",
    "- 변수 참조: 변수에 값을 읽음"
   ]
  },
  {
   "cell_type": "markdown",
   "id": "ffa71d0a-cdf4-4ce9-80bd-7ddd8e83c396",
   "metadata": {},
   "source": [
    "# 파이썬 식별자 컨벤션"
   ]
  },
  {
   "cell_type": "markdown",
   "id": "c4bbaf6d-c556-4d5b-bc0a-806525511023",
   "metadata": {},
   "source": [
    "- 일반변수: hello_world\n",
    "- 함수: helloWorld()\n",
    "- class: HelloWorld(), World"
   ]
  },
  {
   "cell_type": "code",
   "execution_count": 102,
   "id": "35f47558-149c-48a1-b194-84ca74d20913",
   "metadata": {
    "tags": []
   },
   "outputs": [
    {
     "name": "stdin",
     "output_type": "stream",
     "text": [
      "숫자를 입력하세요>> 10\n"
     ]
    },
    {
     "data": {
      "text/plain": [
       "10"
      ]
     },
     "execution_count": 102,
     "metadata": {},
     "output_type": "execute_result"
    }
   ],
   "source": [
    "int(input(\"숫자를 입력하세요>>\"))"
   ]
  },
  {
   "cell_type": "code",
   "execution_count": 108,
   "id": "2c00f042-bac5-438f-a7e1-ccce7c3ff1e3",
   "metadata": {
    "tags": []
   },
   "outputs": [],
   "source": [
    "# 변수 선언이 잘못되었을 경우 삭제해주는 명령어\n",
    "# del 병수명"
   ]
  },
  {
   "cell_type": "code",
   "execution_count": 103,
   "id": "febe8b0e-401b-4574-aa38-a3b48099f9bf",
   "metadata": {
    "tags": []
   },
   "outputs": [
    {
     "name": "stdin",
     "output_type": "stream",
     "text": [
      "숫자를 입력하세요>> 10\n"
     ]
    }
   ],
   "source": [
    "num = int(input(\"숫자를 입력하세요>>\"))"
   ]
  },
  {
   "cell_type": "code",
   "execution_count": 104,
   "id": "d202909a-f0d2-43f4-80af-c75e492bd1d9",
   "metadata": {
    "tags": []
   },
   "outputs": [
    {
     "name": "stdout",
     "output_type": "stream",
     "text": [
      "10\n"
     ]
    }
   ],
   "source": [
    "print(num)"
   ]
  },
  {
   "cell_type": "code",
   "execution_count": 105,
   "id": "718de4ac-6152-4a3a-8bd7-a84ec45aa2e9",
   "metadata": {
    "tags": []
   },
   "outputs": [
    {
     "name": "stdin",
     "output_type": "stream",
     "text": [
      "숫자를 입력하세요>> 10\n",
      "숫자를 입력하세요>> 10\n"
     ]
    }
   ],
   "source": [
    "num1 = int(input(\"숫자를 입력하세요>>\"))\n",
    "num2 = int(input(\"숫자를 입력하세요>>\"))\n",
    "\n",
    "# num1 = eval(input(\"숫자를 입력하세요>>\"))\n",
    "# num2 = eval(input(\"숫자를 입력하세요>>\"))"
   ]
  },
  {
   "cell_type": "code",
   "execution_count": 74,
   "id": "1954b13d-150f-4b82-a8ae-1dcafaad45f2",
   "metadata": {
    "tags": []
   },
   "outputs": [
    {
     "data": {
      "text/plain": [
       "20"
      ]
     },
     "execution_count": 74,
     "metadata": {},
     "output_type": "execute_result"
    }
   ],
   "source": [
    "num1+num2"
   ]
  },
  {
   "cell_type": "code",
   "execution_count": 72,
   "id": "1119b69e-6224-4ef6-88fa-806aaa50ca06",
   "metadata": {
    "tags": []
   },
   "outputs": [
    {
     "name": "stdin",
     "output_type": "stream",
     "text": [
      "숫자를 입력하세요 정수>> 2\n",
      "숫자를 입력하세요 실수>> 2.5\n"
     ]
    }
   ],
   "source": [
    "num3 = eval(input(\"숫자를 입력하세요 정수>>\"))\n",
    "num4 = eval(input(\"숫자를 입력하세요 실수>>\"))"
   ]
  },
  {
   "cell_type": "code",
   "execution_count": 75,
   "id": "48f30ecd-6708-45ff-a31a-ac03a5dd3097",
   "metadata": {
    "tags": []
   },
   "outputs": [
    {
     "data": {
      "text/plain": [
       "(2, 2.5)"
      ]
     },
     "execution_count": 75,
     "metadata": {},
     "output_type": "execute_result"
    }
   ],
   "source": [
    "num3, num4"
   ]
  },
  {
   "cell_type": "code",
   "execution_count": 76,
   "id": "904bb29d-f655-4a9a-99db-0f857392f56b",
   "metadata": {
    "tags": []
   },
   "outputs": [
    {
     "data": {
      "text/plain": [
       "4.5"
      ]
     },
     "execution_count": 76,
     "metadata": {},
     "output_type": "execute_result"
    }
   ],
   "source": [
    "num3+num4"
   ]
  },
  {
   "cell_type": "markdown",
   "id": "010f221e-b52c-4fbe-894a-097cb9d9353a",
   "metadata": {},
   "source": [
    "## 실수 변형"
   ]
  },
  {
   "cell_type": "code",
   "execution_count": 2,
   "id": "63a44787-643e-4e51-89ce-a3727192fcfc",
   "metadata": {
    "tags": []
   },
   "outputs": [
    {
     "ename": "ValueError",
     "evalue": "invalid literal for int() with base 10: '1.54'",
     "output_type": "error",
     "traceback": [
      "\u001b[1;31m---------------------------------------------------------------------------\u001b[0m",
      "\u001b[1;31mValueError\u001b[0m                                Traceback (most recent call last)",
      "Cell \u001b[1;32mIn[2], line 1\u001b[0m\n\u001b[1;32m----> 1\u001b[0m \u001b[38;5;28;43mint\u001b[39;49m\u001b[43m(\u001b[49m\u001b[38;5;124;43m\"\u001b[39;49m\u001b[38;5;124;43m1.54\u001b[39;49m\u001b[38;5;124;43m\"\u001b[39;49m\u001b[43m)\u001b[49m\n",
      "\u001b[1;31mValueError\u001b[0m: invalid literal for int() with base 10: '1.54'"
     ]
    }
   ],
   "source": [
    "int(\"1.54\")"
   ]
  },
  {
   "cell_type": "code",
   "execution_count": 3,
   "id": "21bc5950-5730-4898-97ea-6983eb3fa8e4",
   "metadata": {
    "tags": []
   },
   "outputs": [
    {
     "data": {
      "text/plain": [
       "5.24"
      ]
     },
     "execution_count": 3,
     "metadata": {},
     "output_type": "execute_result"
    }
   ],
   "source": [
    "# 실수 변형\n",
    "float(\"5.24\")"
   ]
  },
  {
   "cell_type": "code",
   "execution_count": 4,
   "id": "4dd0185c-32f2-4946-b45f-cfd5e8e35ae7",
   "metadata": {
    "tags": []
   },
   "outputs": [
    {
     "name": "stdin",
     "output_type": "stream",
     "text": [
      "숫자를 입력하세요 12.54\n"
     ]
    }
   ],
   "source": [
    "num6 = input(\"숫자를 입력하세요\")"
   ]
  },
  {
   "cell_type": "code",
   "execution_count": 8,
   "id": "e5c0d3a0-c63f-41f9-bdc0-fd5a47aefce4",
   "metadata": {
    "tags": []
   },
   "outputs": [
    {
     "data": {
      "text/plain": [
       "12.54"
      ]
     },
     "execution_count": 8,
     "metadata": {},
     "output_type": "execute_result"
    }
   ],
   "source": [
    "# float 로 담아주고 int로 변형할 경우 소수점 이하 값이 버려진다\n",
    "float(num6)"
   ]
  },
  {
   "cell_type": "code",
   "execution_count": 10,
   "id": "73df21ff-3dfc-4d29-8ce2-ede93db52319",
   "metadata": {
    "tags": []
   },
   "outputs": [
    {
     "ename": "ValueError",
     "evalue": "invalid literal for int() with base 10: '12.54'",
     "output_type": "error",
     "traceback": [
      "\u001b[1;31m---------------------------------------------------------------------------\u001b[0m",
      "\u001b[1;31mValueError\u001b[0m                                Traceback (most recent call last)",
      "Cell \u001b[1;32mIn[10], line 1\u001b[0m\n\u001b[1;32m----> 1\u001b[0m \u001b[38;5;28;43mint\u001b[39;49m\u001b[43m(\u001b[49m\u001b[43mnum6\u001b[49m\u001b[43m)\u001b[49m\n",
      "\u001b[1;31mValueError\u001b[0m: invalid literal for int() with base 10: '12.54'"
     ]
    }
   ],
   "source": [
    "int(num6)"
   ]
  },
  {
   "cell_type": "markdown",
   "id": "0b06b777-a197-4823-a601-89cc741511ac",
   "metadata": {},
   "source": [
    "## 문자열"
   ]
  },
  {
   "cell_type": "code",
   "execution_count": 15,
   "id": "fe8d158c-7fe9-4e47-925e-e97fca02f350",
   "metadata": {
    "tags": []
   },
   "outputs": [
    {
     "name": "stdin",
     "output_type": "stream",
     "text": [
      "문자를 입력해주세요  가나 \n"
     ]
    }
   ],
   "source": [
    "input_a = input(\"문자를 입력해주세요\")"
   ]
  },
  {
   "cell_type": "code",
   "execution_count": 16,
   "id": "8d9187db-27ca-42ab-8b74-7a72456f17ac",
   "metadata": {
    "tags": []
   },
   "outputs": [
    {
     "name": "stdout",
     "output_type": "stream",
     "text": [
      "가나\n"
     ]
    }
   ],
   "source": [
    "print(input_a.strip())"
   ]
  },
  {
   "cell_type": "markdown",
   "id": "be7934c4-8b38-42a0-a5fc-d5899b761e95",
   "metadata": {},
   "source": [
    "## 문자열 구성 파악"
   ]
  },
  {
   "cell_type": "code",
   "execution_count": 48,
   "id": "9eff4cb3-3965-4102-8b58-7a93b5d45755",
   "metadata": {
    "tags": []
   },
   "outputs": [
    {
     "name": "stdin",
     "output_type": "stream",
     "text": [
      "입력해주세요. df.dfd\n"
     ]
    },
    {
     "name": "stdout",
     "output_type": "stream",
     "text": [
      "False\n",
      "False\n",
      "False\n",
      "False\n",
      "False\n",
      "True\n",
      "False\n"
     ]
    }
   ],
   "source": [
    "result = input(\"입력해주세요.\")\n",
    "# 공백 포함 시 False\n",
    "print(result.isalnum()) # 문자열이 영어, 한글, 숫자로 되어 있으면 true\n",
    "print(result.isalpha()) # 문자열이 영어 혹은 한글로 되어 있으면 true\n",
    "print(result.isidentifier()) # 문자열이 식별자로 사용이 가능하면 true\n",
    "print(result.isdigit()) # 문자열이 숫자로 인식되면 True\n",
    "print(result.isspace()) # 문자열이 공백으로 구성되어 있으면 True\n",
    "print(result.islower()) # 문자열이 전부 소문자면 True\n",
    "print(result.isupper()) # 문자열이 전부 대문자면 True"
   ]
  },
  {
   "cell_type": "code",
   "execution_count": 53,
   "id": "dffc4e4f-2e3b-4de3-9f4e-bb8aeb7b81a2",
   "metadata": {
    "tags": []
   },
   "outputs": [
    {
     "name": "stdout",
     "output_type": "stream",
     "text": [
      "True\n",
      "False\n",
      "True\n"
     ]
    }
   ],
   "source": [
    "# 식별자 판단 :변수명, 함수명, 클래스명으로 사용할 수 있는지 판단\n",
    "print(\"aaa_a\".isidentifier())\n",
    "print(\"aa@aa\".isidentifier()) # 특수 문자 사용 불가\n",
    "print(\"Aa_bb1\".isidentifier())"
   ]
  },
  {
   "cell_type": "code",
   "execution_count": 8,
   "id": "8ec91d9d-1c05-4924-8cb8-1eb1a0572282",
   "metadata": {},
   "outputs": [
    {
     "data": {
      "text/plain": [
       "''"
      ]
     },
     "execution_count": 8,
     "metadata": {},
     "output_type": "execute_result"
    }
   ],
   "source": [
    "# \"str\".isidentifier()\n",
    "# str = \"aaaa\" # 예약어는 변수로 쓰면 안됨,\n",
    "# 만약에 예약어(내장된 변수명, 함수명, 클래스명 ...)\n",
    "# 사용했을 경우는 kernel restart 해야함 : 메모리 초기화\n",
    "str()"
   ]
  },
  {
   "cell_type": "markdown",
   "id": "c6c56f6f-976b-4feb-9935-868b1ddbc597",
   "metadata": {},
   "source": [
    "# find() 함수 사용"
   ]
  },
  {
   "cell_type": "code",
   "execution_count": 9,
   "id": "16bfc3e8-80b3-45c7-98ff-c08150665108",
   "metadata": {
    "tags": []
   },
   "outputs": [
    {
     "data": {
      "text/plain": [
       "10"
      ]
     },
     "execution_count": 9,
     "metadata": {},
     "output_type": "execute_result"
    }
   ],
   "source": [
    "# 사용 방법: \"\".find(search, start, end)\n",
    "\"안녕bbbbbbb 안녕 bbbbb 안녕 안 녕 cccddfsd하세요.\".find(\"안녕\", 5, 30)"
   ]
  },
  {
   "cell_type": "markdown",
   "id": "21863ca0-f2f5-4ba0-9db6-9cc73081d2ee",
   "metadata": {},
   "source": [
    "# 문자열의 format() 함수"
   ]
  },
  {
   "cell_type": "code",
   "execution_count": 80,
   "id": "350d30c4-bc1b-4a11-bd29-8cb53b4b101f",
   "metadata": {
    "tags": []
   },
   "outputs": [],
   "source": [
    "forNum = 20"
   ]
  },
  {
   "cell_type": "code",
   "execution_count": 81,
   "id": "bdee9444-ce29-4fc9-82a3-12d6e3e8ff82",
   "metadata": {
    "tags": []
   },
   "outputs": [
    {
     "data": {
      "text/plain": [
       "'안녕20'"
      ]
     },
     "execution_count": 81,
     "metadata": {},
     "output_type": "execute_result"
    }
   ],
   "source": [
    "\"안녕{}\".format(forNum)"
   ]
  },
  {
   "cell_type": "code",
   "execution_count": 87,
   "id": "b69e4019-ebed-4a65-a4ef-7e7f7c98cc35",
   "metadata": {
    "tags": []
   },
   "outputs": [],
   "source": [
    "forNum2 = 40"
   ]
  },
  {
   "cell_type": "code",
   "execution_count": 88,
   "id": "74d10335-d564-4012-b3c7-733c23e3ac18",
   "metadata": {
    "tags": []
   },
   "outputs": [
    {
     "data": {
      "text/plain": [
       "'안녕20'"
      ]
     },
     "execution_count": 88,
     "metadata": {},
     "output_type": "execute_result"
    }
   ],
   "source": [
    "\"안녕{}\".format(forNum, forNum2)"
   ]
  },
  {
   "cell_type": "code",
   "execution_count": 89,
   "id": "db0a8808-bbb8-4f73-9f12-d8b04f8c49d6",
   "metadata": {
    "tags": []
   },
   "outputs": [
    {
     "data": {
      "text/plain": [
       "'안녕20, 안녕40'"
      ]
     },
     "execution_count": 89,
     "metadata": {},
     "output_type": "execute_result"
    }
   ],
   "source": [
    "\"안녕{}, 안녕{}\".format(forNum, forNum2)"
   ]
  },
  {
   "cell_type": "code",
   "execution_count": 91,
   "id": "0a19cfd4-4e2b-4a7f-b1f8-62da8f2f0a22",
   "metadata": {
    "tags": []
   },
   "outputs": [
    {
     "data": {
      "text/plain": [
       "'안녕20, 안녕40'"
      ]
     },
     "execution_count": 91,
     "metadata": {},
     "output_type": "execute_result"
    }
   ],
   "source": [
    "# format 문의 약식: 아무 곳에서나 사용 불가\n",
    "f\"안녕{forNum}, 안녕{forNum2}\""
   ]
  },
  {
   "cell_type": "markdown",
   "id": "69ee54e7-7f22-4687-9149-294a9e748093",
   "metadata": {},
   "source": [
    "# 확인 문제1"
   ]
  },
  {
   "cell_type": "code",
   "execution_count": 55,
   "id": "5123d0c5-6177-4639-9912-5004f40eb3b0",
   "metadata": {
    "tags": []
   },
   "outputs": [
    {
     "name": "stdin",
     "output_type": "stream",
     "text": [
      "정수를 입력해주세요 10\n",
      "소수를 입력해주세요 10.25\n"
     ]
    },
    {
     "name": "stdout",
     "output_type": "stream",
     "text": [
      "False\n",
      "True\n",
      "False\n",
      "False\n",
      "True\n",
      "10\n",
      "10.25\n",
      "10\n",
      "if1\n",
      "numA + numB =  20.25\n",
      "numA - numB =  -0.25\n",
      "numA * numB =  102.5\n",
      "numA / numB =  0.975609756097561\n",
      "numA % numB =  10.0\n",
      "numA // numB =  0.0\n"
     ]
    }
   ],
   "source": [
    "# 문제: float 소수 false 잡아내야 함\n",
    "\n",
    "strA = input(\"정수를 입력해주세요\")\n",
    "strB = input(\"소수를 입력해주세요\")\n",
    "\n",
    "ack = isinstance(strA, int)\n",
    "bck = \".\" in strB\n",
    "print(ack)\n",
    "print(strA.isdigit())\n",
    "test = strB.split(\".\")\n",
    "print(test[0].isalpha())\n",
    "print(isinstance(strB, float))\n",
    "print(bck)\n",
    "\n",
    "# bck가 True 이며 숫자 형태여야 함\n",
    "if bck == True and strA.isdigit() == True and strB.isalpha() == False:\n",
    "    numA = int(strA)\n",
    "    numB = eval(strB)\n",
    "    print(numA)\n",
    "    print(numB)\n",
    "    aInst = isinstance(numA, int)\n",
    "    bInst = int(numB)\n",
    "    print(bInst)\n",
    "    if aInst == True and bInst != 0:\n",
    "        print(\"if1\")\n",
    "        print(\"numA + numB = \", (numA + numB))\n",
    "        print(\"numA - numB = \", (numA - numB))\n",
    "        print(\"numA * numB = \", (numA * numB))\n",
    "        print(\"numA / numB = \", (numA / numB))\n",
    "        print(\"numA % numB = \", (numA % numB))\n",
    "        print(\"numA // numB = \", (numA // numB))\n",
    "    elif aInst == False :\n",
    "        numA = int(input(\"정수가 아닙니다. 정수를 입력해주세요\"))\n",
    "        aInst = isinstance(numA, int)\n",
    "        bInst = float(numB).is_integer()\n",
    "        if aInst == True and bInst == True :\n",
    "            print(\"numA + numB = \", (numA + numB))\n",
    "            print(\"numA - numB = \", (numA - numB))\n",
    "            print(\"numA * numB = \", (numA * numB))\n",
    "            print(\"numA / numB = \", (numA / numB))\n",
    "            print(\"numA % numB = \", (numA % numB))\n",
    "            print(\"numA // numB = \", (numA // numB))\n",
    "    elif bInst == False :\n",
    "        numB = float(input(\"실수가 아닙니다. 실수를 입력해주세요\"))\n",
    "        aInst = isinstance(numA, int)\n",
    "        bInst = float(numB).is_integer()\n",
    "        if aInst == True and bInst == True :\n",
    "            print(\"numA + numB = \", (numA + numB))\n",
    "            print(\"numA - numB = \", (numA - numB))\n",
    "            print(\"numA * numB = \", (numA * numB))\n",
    "            print(\"numA / numB = \", (numA / numB))\n",
    "            print(\"numA % numB = \", (numA % numB))\n",
    "            print(\"numA // numB = \", (numA // numB))"
   ]
  },
  {
   "cell_type": "markdown",
   "id": "bf2c589b-5bd3-4128-868d-9730cab1c21b",
   "metadata": {},
   "source": [
    "# 확인 문제2bInst"
   ]
  },
  {
   "cell_type": "code",
   "execution_count": 129,
   "id": "fce6a0fb-1d65-489c-a031-ed55f363557d",
   "metadata": {
    "tags": []
   },
   "outputs": [
    {
     "name": "stdin",
     "output_type": "stream",
     "text": [
      "정수 또는 소수를 입력해주세요 ex. 10, 0.75 10, 20.5\n"
     ]
    },
    {
     "name": "stdout",
     "output_type": "stream",
     "text": [
      "10  20.5\n",
      "numC + numD =  30.5\n",
      "numC - numD =  -10.5\n",
      "numC * numD =  205.0\n",
      "numC / numD =  0.4878048780487805\n",
      "numC % numD =  10.0\n",
      "numC // numD =  0.0\n"
     ]
    }
   ],
   "source": [
    "str = input(\"정수 또는 소수를 입력해주세요 ex. 10, 0.75\")\n",
    "print(str.strip().split(\",\")[0], str.strip().split(\",\")[1])\n",
    "\n",
    "numC = eval(str.strip().split(\",\")[0])\n",
    "numD = eval(str.strip().split(\",\")[1])\n",
    "\n",
    "print(\"numC + numD = \", (numC + numD))\n",
    "print(\"numC - numD = \", (numC - numD))\n",
    "print(\"numC * numD = \", (numC * numD))\n",
    "print(\"numC / numD = \", (numC / numD))\n",
    "print(\"numC % numD = \", (numC % numD))\n",
    "print(\"numC // numD = \", (numC // numD))"
   ]
  },
  {
   "cell_type": "code",
   "execution_count": null,
   "id": "daff89f1-b3c7-4060-bda1-0fd821762114",
   "metadata": {},
   "outputs": [],
   "source": [
    "# 두 수 같이 입력 받아서 하기\n",
    "# input_data = input(\"두 수를 입력해주세요 ex. 29, 34\")\n",
    "input_data = input(\"두 수를 입력해주세요 ex. 29, 34\")\n",
    "input_data = input_data.strip().split(\",\")\n",
    "\n",
    "# input_list = input_data.split(\",\")\n",
    "input_data = input_data.split(\",\")\n",
    "numZ = eval(input_data[0])\n",
    "numY = eval(input_data[1])\n",
    "print(f\"{numZ}+{numY} = \", numZ+numY)\n",
    "print(f\"{numZ}-{numY} = \", numZ-numY)\n",
    "print(f\"{numZ}*{numY} = \", numZ*numY)\n",
    "print(f\"{numZ}/{numY} = \", numZ/numY)\n",
    "print(f\"{numZ}%{numY} = \", numZ%numY)\n",
    "print(f\"{numZ}//{numY} = \", numZ//numY)"
   ]
  },
  {
   "cell_type": "code",
   "execution_count": null,
   "id": "db0e4a53-9de7-4448-9f71-163933c89b37",
   "metadata": {},
   "outputs": [],
   "source": []
  }
 ],
 "metadata": {
  "kernelspec": {
   "display_name": "Python 3 (ipykernel)",
   "language": "python",
   "name": "python3"
  },
  "language_info": {
   "codemirror_mode": {
    "name": "ipython",
    "version": 3
   },
   "file_extension": ".py",
   "mimetype": "text/x-python",
   "name": "python",
   "nbconvert_exporter": "python",
   "pygments_lexer": "ipython3",
   "version": "3.10.10"
  }
 },
 "nbformat": 4,
 "nbformat_minor": 5
}
