{
 "cells": [
  {
   "cell_type": "markdown",
   "id": "3214f784-12b8-4091-bbd6-cb92300c8d6f",
   "metadata": {},
   "source": [
    "# 2장 비교 연산자 / 논리 연산자 / 제어문"
   ]
  },
  {
   "cell_type": "markdown",
   "id": "dda6f13d-d57a-454e-9958-4c04a45bbafd",
   "metadata": {},
   "source": [
    "## 비교 연산자"
   ]
  },
  {
   "cell_type": "code",
   "execution_count": 4,
   "id": "476e35db-04f1-4a24-8137-0a5a5c3cafb9",
   "metadata": {
    "tags": []
   },
   "outputs": [
    {
     "name": "stdout",
     "output_type": "stream",
     "text": [
      "False\n",
      "True\n",
      "True\n",
      "False\n",
      "True\n",
      "False\n"
     ]
    }
   ],
   "source": [
    "print(10 == 100)\n",
    "print(10 != 100)\n",
    "print(10 < 100)\n",
    "print(10 > 100)\n",
    "print(10 <= 100)\n",
    "print(10 >= 100)"
   ]
  },
  {
   "cell_type": "code",
   "execution_count": 8,
   "id": "3933d21d-3069-48b0-add3-0d1a44bb6d86",
   "metadata": {
    "tags": []
   },
   "outputs": [
    {
     "data": {
      "text/plain": [
       "True"
      ]
     },
     "execution_count": 8,
     "metadata": {},
     "output_type": "execute_result"
    }
   ],
   "source": [
    "# 아스키 코드로 비교\n",
    "\"a\" < \"b\""
   ]
  },
  {
   "cell_type": "code",
   "execution_count": 7,
   "id": "dc585128-444e-48f4-be1f-917e99a01f2b",
   "metadata": {
    "tags": []
   },
   "outputs": [
    {
     "data": {
      "text/plain": [
       "False"
      ]
     },
     "execution_count": 7,
     "metadata": {},
     "output_type": "execute_result"
    }
   ],
   "source": [
    "\"a\" > \"b\""
   ]
  },
  {
   "cell_type": "markdown",
   "id": "d2fc5df0-2b8a-488e-8f9e-0e69d99e4ba8",
   "metadata": {},
   "source": [
    "## 논리 연산자"
   ]
  },
  {
   "cell_type": "code",
   "execution_count": 1,
   "id": "cae51484-b550-4dd8-8936-82a5e253f4b7",
   "metadata": {
    "tags": []
   },
   "outputs": [
    {
     "name": "stdout",
     "output_type": "stream",
     "text": [
      "under_20:  True\n",
      "not under_20:  False\n"
     ]
    }
   ],
   "source": [
    "x=10\n",
    "under_20 = x < 20\n",
    "print(\"under_20: \", under_20)\n",
    "print(\"not under_20: \", not under_20)"
   ]
  },
  {
   "cell_type": "code",
   "execution_count": 5,
   "id": "1d4ca18c-7f52-4cbb-abce-b71e5f6d3179",
   "metadata": {
    "tags": []
   },
   "outputs": [
    {
     "name": "stdout",
     "output_type": "stream",
     "text": [
      "True\n",
      "False\n",
      "False\n",
      "False\n",
      "True\n",
      "True\n",
      "True\n",
      "False\n"
     ]
    }
   ],
   "source": [
    "print(True and True)\n",
    "print(True and False)\n",
    "print(False and True)\n",
    "print(False and False)\n",
    "print(True or True)\n",
    "print(True or False)\n",
    "print(False or True)\n",
    "print(False or False)"
   ]
  },
  {
   "cell_type": "markdown",
   "id": "a8aeb7f6-06c7-4b0f-8d57-cd13b85236b1",
   "metadata": {},
   "source": [
    "## boolean 연산\n",
    " - and, or, not"
   ]
  },
  {
   "cell_type": "code",
   "execution_count": null,
   "id": "791454de-43f9-478e-9c38-40c3e698dc5a",
   "metadata": {},
   "outputs": [],
   "source": [
    "# 좌변 and 우변\n",
    "print(True and True)\n",
    "print(True and False)\n",
    "print(False and False)"
   ]
  },
  {
   "cell_type": "code",
   "execution_count": 10,
   "id": "f0553cac-bf1d-4cf9-99c7-51ea82a24535",
   "metadata": {
    "tags": []
   },
   "outputs": [],
   "source": [
    "a = 2\n",
    "b = 5\n",
    "c = 7"
   ]
  },
  {
   "cell_type": "code",
   "execution_count": 13,
   "id": "4423c297-4fa5-44c5-b5fa-676f3af2805b",
   "metadata": {
    "tags": []
   },
   "outputs": [
    {
     "name": "stdout",
     "output_type": "stream",
     "text": [
      "False\n",
      "False\n",
      "True\n"
     ]
    }
   ],
   "source": [
    "print(a>b and b>c) # False and False = False\n",
    "print(a<b and b>c) # False and True = False\n",
    "print(a<b and b<c) # True and True = True"
   ]
  },
  {
   "cell_type": "markdown",
   "id": "3eb37f5f-24cd-404e-a808-2ad5a7d60a00",
   "metadata": {},
   "source": [
    "## boolean : or"
   ]
  },
  {
   "cell_type": "code",
   "execution_count": 14,
   "id": "06155b65-7951-4a23-adbb-828b302cae09",
   "metadata": {
    "tags": []
   },
   "outputs": [
    {
     "name": "stdout",
     "output_type": "stream",
     "text": [
      "False\n",
      "True\n",
      "True\n"
     ]
    }
   ],
   "source": [
    "print(a>b or b>c) # False and False = False\n",
    "print(a<b or b>c) # False and True = True\n",
    "print(a<b or b<c) # True and True = True"
   ]
  },
  {
   "cell_type": "markdown",
   "id": "17e1bbe8-106d-44f0-8b74-6c8330387913",
   "metadata": {},
   "source": [
    "## boolean : not"
   ]
  },
  {
   "cell_type": "code",
   "execution_count": 15,
   "id": "c1319357-c970-4e90-8905-d9e5ca7bedd6",
   "metadata": {
    "tags": []
   },
   "outputs": [
    {
     "name": "stdout",
     "output_type": "stream",
     "text": [
      "False\n",
      "False\n",
      "False\n"
     ]
    }
   ],
   "source": [
    "print(not a>b and b>c) # False and False = False\n",
    "print(not a<b and b>c) # False and True = False\n",
    "print(not a<b and b<c) # True and True = True"
   ]
  },
  {
   "cell_type": "markdown",
   "id": "65f73c54-ee5d-457a-8120-c91b2b621771",
   "metadata": {},
   "source": [
    "# 조건문 : if"
   ]
  },
  {
   "cell_type": "code",
   "execution_count": 17,
   "id": "a3f7c6ad-abf6-458f-9d27-84230b09ee92",
   "metadata": {
    "tags": []
   },
   "outputs": [
    {
     "name": "stdout",
     "output_type": "stream",
     "text": [
      "True\n"
     ]
    }
   ],
   "source": [
    "# 문법 if 조건 :\n",
    "if True:\n",
    "    print(\"True\")\n",
    "else:\n",
    "    print(\"false\")"
   ]
  },
  {
   "cell_type": "code",
   "execution_count": 30,
   "id": "3484cb65-d7dd-4ab9-9112-724a9f1b2a5a",
   "metadata": {
    "tags": []
   },
   "outputs": [
    {
     "name": "stdin",
     "output_type": "stream",
     "text": [
      "정수 입력>  10\n"
     ]
    },
    {
     "name": "stdout",
     "output_type": "stream",
     "text": [
      "양수입니다.\n"
     ]
    }
   ],
   "source": [
    "num = int(input(\"정수 입력> \"));\n",
    "\n",
    "if num > 0:\n",
    "    print(\"양수입니다.\")\n",
    "    \n",
    "if num < 0:\n",
    "    print(\"음수입니다.\")\n",
    "    \n",
    "if num == 0:\n",
    "    print(\"0 입니다.\")"
   ]
  },
  {
   "cell_type": "code",
   "execution_count": 33,
   "id": "b8758d2b-aefd-4f38-b33f-80c9fd9af8eb",
   "metadata": {
    "tags": []
   },
   "outputs": [
    {
     "name": "stdin",
     "output_type": "stream",
     "text": [
      "정수 입력>  0\n"
     ]
    },
    {
     "name": "stdout",
     "output_type": "stream",
     "text": [
      "0 입니다.\n"
     ]
    }
   ],
   "source": [
    "num = int(input(\"정수 입력> \"));\n",
    "\n",
    "if num > 0:\n",
    "    print(\"양수입니다.\")\n",
    "    \n",
    "elif num < 0:\n",
    "    print(\"음수입니다.\")\n",
    "    \n",
    "elif num == 0:\n",
    "    print(\"0 입니다.\")"
   ]
  },
  {
   "cell_type": "code",
   "execution_count": 35,
   "id": "c88d82cb-a134-41b5-a91c-bf6ed8fe4121",
   "metadata": {
    "tags": []
   },
   "outputs": [
    {
     "name": "stdout",
     "output_type": "stream",
     "text": [
      "양수입니다.\n"
     ]
    }
   ],
   "source": [
    "# 모든 조건이 동일 할 때 : 코드가 실행되는 원리\n",
    "num=3\n",
    "\n",
    "if num > 0:\n",
    "    print(\"양수입니다.\")\n",
    "    \n",
    "elif num > 0:\n",
    "    print(\"음수입니다.\")\n",
    "    \n",
    "elif num > 0:\n",
    "    print(\"0 입니다.\")"
   ]
  },
  {
   "cell_type": "code",
   "execution_count": 45,
   "id": "312fcb57-3c9c-4102-804c-72782a4b0b74",
   "metadata": {
    "tags": []
   },
   "outputs": [
    {
     "name": "stdout",
     "output_type": "stream",
     "text": [
      "2023-03-14 14:31:18.383180\n",
      "2023년 3월 14일 14시 31분 18초\n"
     ]
    }
   ],
   "source": [
    "# module 사용 방법\n",
    "# import datetime\n",
    "now_date = datetime.datetime.now()\n",
    "print(now_date)\n",
    "now_date\n",
    "now_date.year\n",
    "now_date.month\n",
    "print(\"{}년 {}월 {}일 {}시 {}분 {}초\".format(\n",
    "    now_date.year,\n",
    "    now_date.month,\n",
    "    now_date.day,\n",
    "    now_date.hour,\n",
    "    now_date.minute,\n",
    "    now_date.second\n",
    "))"
   ]
  },
  {
   "cell_type": "code",
   "execution_count": 47,
   "id": "0256b6ec-c49d-45c0-95c4-046ba2d3c2ac",
   "metadata": {
    "tags": []
   },
   "outputs": [
    {
     "name": "stdout",
     "output_type": "stream",
     "text": [
      "현재 시각은 14시로 오후입니다.\n"
     ]
    }
   ],
   "source": [
    "now_date = datetime.datetime.now()\n",
    "if now_date.hour < 12:\n",
    "    print(f\"현재 시각은 {now_date.hour}시로 오전입니다.\")\n",
    "\n",
    "if now_date.hour > 12:\n",
    "    print(f\"현재 시각은 {now_date.hour}시로 오후입니다.\")"
   ]
  },
  {
   "cell_type": "code",
   "execution_count": 61,
   "id": "0a4a0e8f-8664-4435-93d1-0d26ac3f2870",
   "metadata": {
    "tags": []
   },
   "outputs": [
    {
     "name": "stdout",
     "output_type": "stream",
     "text": [
      "이번 달은 3월 봄입니다.\n"
     ]
    }
   ],
   "source": [
    "if 3 <= now_date.month <=5:\n",
    "    print(f\"이번 달은 {now_date.month}월 봄입니다.\")\n",
    "if 6 <= now_date.month <= 7:\n",
    "    print(f\"이번 달은 {now_date.month}월 여름입니다.\")\n",
    "if 9 <= now_date.month <= 11:\n",
    "    print(f\"이번 달은 {now_date.month}월 가을입니다.\")\n",
    "if now_date.month == 12 or 1 == now_date.month == 2:\n",
    "    print(f\"이번 달은 {now_date.month}월 겨울입니다.\")"
   ]
  },
  {
   "cell_type": "code",
   "execution_count": 62,
   "id": "2cea5384-bce1-4de6-9724-f496e1829d0b",
   "metadata": {
    "tags": []
   },
   "outputs": [
    {
     "name": "stdout",
     "output_type": "stream",
     "text": [
      "이번 달은 3월 봄입니다.\n"
     ]
    }
   ],
   "source": [
    "if 3 <= now_date.month <=5:\n",
    "    print(f\"이번 달은 {now_date.month}월 봄입니다.\")\n",
    "elif 6 <= now_date.month <= 7:\n",
    "    print(f\"이번 달은 {now_date.month}월 여름입니다.\")\n",
    "elif 9 <= now_date.month <= 11:\n",
    "    print(f\"이번 달은 {now_date.month}월 가을입니다.\")\n",
    "else:\n",
    "    print(f\"이번 달은 {now_date.month}월 겨울입니다.\")"
   ]
  },
  {
   "cell_type": "code",
   "execution_count": 58,
   "id": "25aaa6a2-3c93-4b13-9eaf-f021187b44fe",
   "metadata": {
    "tags": []
   },
   "outputs": [
    {
     "name": "stdin",
     "output_type": "stream",
     "text": [
      "정수 입력>  55\n"
     ]
    },
    {
     "name": "stdout",
     "output_type": "stream",
     "text": [
      "5\n",
      "<class 'str'>\n",
      "5\n",
      "<class 'int'>\n",
      "홀수입니다.\n"
     ]
    }
   ],
   "source": [
    "num = input(\"정수 입력> \")\n",
    "\n",
    "# 마지막 자리 숫자를 추출\n",
    "last_str = num[-1]\n",
    "print(last_str)\n",
    "print(type(last_str))\n",
    "\n",
    "# 숫자로 변환\n",
    "last_num = int(last_str)\n",
    "print(last_num)\n",
    "print(type(last_num))\n",
    "\n",
    "# 짝수 확인\n",
    "if last_num == 0\\\n",
    "    or last_num == 2\\\n",
    "    or last_num == 4\\\n",
    "    or last_num == 6\\\n",
    "    or last_num == 8:\n",
    "    print(\"짝수입니다.\")\n",
    "\n",
    "# 홀수 확인\n",
    "if last_num == 1\\\n",
    "    or last_num == 3\\\n",
    "    or last_num == 5\\\n",
    "    or last_num == 7\\\n",
    "    or last_num == 9:\n",
    "    print(\"홀수입니다.\")"
   ]
  },
  {
   "cell_type": "code",
   "execution_count": 59,
   "id": "5fa919b4-1b1c-44e9-a6c7-9aca9ac209c4",
   "metadata": {
    "tags": []
   },
   "outputs": [
    {
     "name": "stdin",
     "output_type": "stream",
     "text": [
      "정수 입력>  2\n"
     ]
    },
    {
     "name": "stdout",
     "output_type": "stream",
     "text": [
      "2\n",
      "<class 'str'>\n",
      "짝수입니다.\n"
     ]
    }
   ],
   "source": [
    "num = input(\"정수 입력> \")\n",
    "\n",
    "# 마지막 자리 숫자를 추출\n",
    "last_str = num[-1]\n",
    "print(last_str)\n",
    "print(type(last_str))\n",
    "\n",
    "if last_str in \"02468\":\n",
    "    print(\"짝수입니다.\")\n",
    "if last_str in \"13579\":\n",
    "    print(\"홀수입니다.\")"
   ]
  },
  {
   "cell_type": "code",
   "execution_count": 60,
   "id": "f99743b5-7632-4733-bc2f-7a13ef9929d1",
   "metadata": {
    "tags": []
   },
   "outputs": [
    {
     "name": "stdin",
     "output_type": "stream",
     "text": [
      "정수 입력>  5\n"
     ]
    },
    {
     "name": "stdout",
     "output_type": "stream",
     "text": [
      "홀수입니다.\n"
     ]
    }
   ],
   "source": [
    "num = int(input(\"정수 입력> \"))\n",
    "\n",
    "# 짝수 조건\n",
    "if num % 2 == 0:\n",
    "    print(\"짝수입니다.\")\n",
    "if num % 2 == 1:\n",
    "    print(\"홀수입니다.\")"
   ]
  },
  {
   "cell_type": "code",
   "execution_count": 64,
   "id": "f56b7d7a-54d2-4881-8b84-10ca3d418bbb",
   "metadata": {
    "tags": []
   },
   "outputs": [
    {
     "name": "stdin",
     "output_type": "stream",
     "text": [
      "학점 입력>  1.5\n"
     ]
    },
    {
     "name": "stdout",
     "output_type": "stream",
     "text": [
      "불가촉천민\n"
     ]
    }
   ],
   "source": [
    "score = float(input(\"학점 입력> \"))\n",
    "\n",
    "# 조건문 생성\n",
    "if score == 4.5:\n",
    "    print(\"신\")\n",
    "elif 4.2 <= score:\n",
    "    print(\"교수님의 사랑\")\n",
    "elif 3.5 <= score:\n",
    "    print(\"현 체제의 수호자\")\n",
    "elif 2.8 <= score:\n",
    "    print(\"일반인\")\n",
    "elif 2.3 <= score:\n",
    "    print(\"일탈을 꿈꾸는 소시민\")\n",
    "elif 1.75 <= score:\n",
    "    print(\"오락문화의 선구자\")\n",
    "elif 1.0 <= score:\n",
    "    print(\"불가촉천민\")\n",
    "elif 0.5 <= score:\n",
    "    print(\"자벌레\")\n",
    "elif 0 < score:\n",
    "    print(\"플랑크톤\")\n",
    "elif 0 == score:\n",
    "    print(\"시대를 앞서가는 혁명의 씨앗\")\n",
    "else:\n",
    "    print(\"잘못 입력하셨습니다.\")"
   ]
  },
  {
   "cell_type": "code",
   "execution_count": 73,
   "id": "cbb883c4-5a5d-4705-9c38-44bdd97ba2ca",
   "metadata": {
    "tags": []
   },
   "outputs": [
    {
     "name": "stdout",
     "output_type": "stream",
     "text": [
      "0은 false로 변환됩니다.\n",
      "\n",
      "빈 문자열은 false로 변환됩니다.\n"
     ]
    }
   ],
   "source": [
    "# if 조건문에 0 넣기\n",
    "if 0:\n",
    "    print(\"0은 True로 변환됩니다.\")\n",
    "else:\n",
    "    print(\"0은 false로 변환됩니다.\")\n",
    "print()\n",
    "\n",
    "# if 조건문에 빈 문자열 넣기\n",
    "if \"\":\n",
    "    print(\"빈 문자열은 True로 변환됩니다.\")\n",
    "else:\n",
    "    print(\"빈 문자열은 false로 변환됩니다.\")\n",
    "# error\n",
    "# if zero == 0:\n",
    "# else:"
   ]
  },
  {
   "cell_type": "code",
   "execution_count": 74,
   "id": "f722da96-8f9a-49e0-8e3e-1b8af85b426b",
   "metadata": {
    "tags": []
   },
   "outputs": [
    {
     "ename": "IndentationError",
     "evalue": "expected an indented block after 'if' statement on line 4 (3323201974.py, line 6)",
     "output_type": "error",
     "traceback": [
      "\u001b[1;36m  Cell \u001b[1;32mIn[74], line 6\u001b[1;36m\u001b[0m\n\u001b[1;33m    else:\u001b[0m\n\u001b[1;37m    ^\u001b[0m\n\u001b[1;31mIndentationError\u001b[0m\u001b[1;31m:\u001b[0m expected an indented block after 'if' statement on line 4\n"
     ]
    }
   ],
   "source": [
    "num = int(input(\"정수 입력> \"))\n",
    "\n",
    "# 조건문\n",
    "if num > 0:\n",
    "    # 미구현\n",
    "else:\n",
    "    # 미구현"
   ]
  },
  {
   "cell_type": "code",
   "execution_count": 76,
   "id": "0ed4aaa4-6488-4caa-9ab3-e82d309fc0ce",
   "metadata": {
    "tags": []
   },
   "outputs": [
    {
     "name": "stdin",
     "output_type": "stream",
     "text": [
      "정수 입력>  0\n"
     ]
    }
   ],
   "source": [
    "num = int(input(\"정수 입력> \"))\n",
    "\n",
    "# 조건문\n",
    "if num > 0:\n",
    "    # 미구현\n",
    "    pass\n",
    "else:\n",
    "    # 미구현\n",
    "    pass"
   ]
  },
  {
   "cell_type": "markdown",
   "id": "95749636-49fc-418b-82d6-7fe230ce38d2",
   "metadata": {},
   "source": [
    "# 확인 문제"
   ]
  },
  {
   "cell_type": "markdown",
   "id": "93604502-7487-4f95-ac91-b188efd5f615",
   "metadata": {},
   "source": [
    "## 확인문제 1\n",
    "\n",
    "\"주머니에 돈이 있으면 택시를 타고, 주머니에 돈은 없지만 카드가 있으면 택시를 타고, 돈도 없고 카드도 없으면 걸어 가라.\""
   ]
  },
  {
   "cell_type": "code",
   "execution_count": 101,
   "id": "c9dcc148-4f82-4e40-8329-88bdc36260b2",
   "metadata": {
    "tags": []
   },
   "outputs": [
    {
     "name": "stdin",
     "output_type": "stream",
     "text": [
      "주머니에 뭐가 있나요? 1.돈 2.카드 3.없음 1\n"
     ]
    },
    {
     "name": "stdout",
     "output_type": "stream",
     "text": [
      "택시를 타세요.\n"
     ]
    }
   ],
   "source": [
    "str = input(\"주머니에 뭐가 있나요? 1.돈 2.카드 3.없음\")\n",
    "\n",
    "if str == \"1\" or str == \"2\" or str == \"돈\" or str == \"카드\" or str == \"card\":\n",
    "    print(\"택시를 타세요.\")\n",
    "elif str == \"3\" or str == \"없음\":\n",
    "    print(\"걸어가세요.\")\n",
    "else:\n",
    "    print(\"선택지를 입력해주세요.\")\n",
    "    str = input(\"주머니에 뭐가 있나요? 1.돈 2.카드 3.없음\")\n",
    "    if str == \"1\" or str == \"2\" or str == \"돈\" or str == \"카드\" or str == \"card\":\n",
    "        print(\"택시를 타세요.\")\n",
    "    elif str == \"3\" or str == \"없음\":\n",
    "        print(\"걸어가세요.\")"
   ]
  },
  {
   "cell_type": "code",
   "execution_count": null,
   "id": "2f10614d-3273-4181-87f9-b1ec8cf8acd0",
   "metadata": {},
   "outputs": [],
   "source": [
    "# 포켓의 상태\n",
    "pocket = \"paper, pocket\"\n",
    "card = True\n",
    "\n",
    "if \"money\" in pocket:\n",
    "    print(\"택시를 타세요.\")\n",
    "elif card == True:\n",
    "    print(\"택시를 타세요.\")\n",
    "else:\n",
    "    print(\"걸어가세요\")"
   ]
  },
  {
   "cell_type": "code",
   "execution_count": null,
   "id": "9d1deb37-a6a8-4fcd-a64b-cc22e1cb2c95",
   "metadata": {},
   "outputs": [],
   "source": [
    "# 포켓의 상태\n",
    "pocket = \"paper, pocket\"\n",
    "card = True\n",
    "\n",
    "if \"money\" in pocket or card == True:\n",
    "    print(\"택시를 타세요.\")\n",
    "else:\n",
    "    print(\"걸어가세요\")"
   ]
  },
  {
   "cell_type": "markdown",
   "id": "a418e82e-6a3b-474c-9720-037efe688502",
   "metadata": {},
   "source": [
    "## 확인 문제2\n",
    "\n",
    "자판기 문제, \n",
    "돈을 넣고 => input()으로 입력 받음\n",
    "콜라, 사이다, 환타를 고를 수 있음 => input()으로 입력 받음\n",
    "한번에 1개만 고를 수 있음.\n",
    "고른 것에 따라 값을 차감하고 고른것과 잔돈을 출력함\n",
    "각각의 가격:\n",
    "콜라 : 500, 사이다 600, 환타 700 \n",
    "만약 : 입력값이 700원보다 작을 경우, \"잔돈이 부족합니다.\" 출력할것"
   ]
  },
  {
   "cell_type": "code",
   "execution_count": 164,
   "id": "5b8f6b32-929e-4042-a029-977ed9767a5e",
   "metadata": {
    "tags": []
   },
   "outputs": [
    {
     "ename": "KeyboardInterrupt",
     "evalue": "Interrupted by user",
     "output_type": "error",
     "traceback": [
      "\u001b[1;31m---------------------------------------------------------------------------\u001b[0m",
      "\u001b[1;31mKeyboardInterrupt\u001b[0m                         Traceback (most recent call last)",
      "Cell \u001b[1;32mIn[164], line 1\u001b[0m\n\u001b[1;32m----> 1\u001b[0m money \u001b[38;5;241m=\u001b[39m \u001b[38;5;28;43minput\u001b[39;49m\u001b[43m(\u001b[49m\u001b[38;5;124;43m\"\u001b[39;49m\u001b[38;5;124;43m돈을 넣어주세요.\u001b[39;49m\u001b[38;5;124;43m\"\u001b[39;49m\u001b[43m)\u001b[49m\n\u001b[0;32m      2\u001b[0m \u001b[38;5;28mprint\u001b[39m(money)\n\u001b[0;32m      3\u001b[0m coke \u001b[38;5;241m=\u001b[39m \u001b[38;5;241m500\u001b[39m\n",
      "File \u001b[1;32m~\\AppData\\Roaming\\Python\\Python310\\site-packages\\ipykernel\\kernelbase.py:1191\u001b[0m, in \u001b[0;36mKernel.raw_input\u001b[1;34m(self, prompt)\u001b[0m\n\u001b[0;32m   1189\u001b[0m     msg \u001b[38;5;241m=\u001b[39m \u001b[38;5;124m\"\u001b[39m\u001b[38;5;124mraw_input was called, but this frontend does not support input requests.\u001b[39m\u001b[38;5;124m\"\u001b[39m\n\u001b[0;32m   1190\u001b[0m     \u001b[38;5;28;01mraise\u001b[39;00m StdinNotImplementedError(msg)\n\u001b[1;32m-> 1191\u001b[0m \u001b[38;5;28;01mreturn\u001b[39;00m \u001b[38;5;28;43mself\u001b[39;49m\u001b[38;5;241;43m.\u001b[39;49m\u001b[43m_input_request\u001b[49m\u001b[43m(\u001b[49m\n\u001b[0;32m   1192\u001b[0m \u001b[43m    \u001b[49m\u001b[38;5;28;43mstr\u001b[39;49m\u001b[43m(\u001b[49m\u001b[43mprompt\u001b[49m\u001b[43m)\u001b[49m\u001b[43m,\u001b[49m\n\u001b[0;32m   1193\u001b[0m \u001b[43m    \u001b[49m\u001b[38;5;28;43mself\u001b[39;49m\u001b[38;5;241;43m.\u001b[39;49m\u001b[43m_parent_ident\u001b[49m\u001b[43m[\u001b[49m\u001b[38;5;124;43m\"\u001b[39;49m\u001b[38;5;124;43mshell\u001b[39;49m\u001b[38;5;124;43m\"\u001b[39;49m\u001b[43m]\u001b[49m\u001b[43m,\u001b[49m\n\u001b[0;32m   1194\u001b[0m \u001b[43m    \u001b[49m\u001b[38;5;28;43mself\u001b[39;49m\u001b[38;5;241;43m.\u001b[39;49m\u001b[43mget_parent\u001b[49m\u001b[43m(\u001b[49m\u001b[38;5;124;43m\"\u001b[39;49m\u001b[38;5;124;43mshell\u001b[39;49m\u001b[38;5;124;43m\"\u001b[39;49m\u001b[43m)\u001b[49m\u001b[43m,\u001b[49m\n\u001b[0;32m   1195\u001b[0m \u001b[43m    \u001b[49m\u001b[43mpassword\u001b[49m\u001b[38;5;241;43m=\u001b[39;49m\u001b[38;5;28;43;01mFalse\u001b[39;49;00m\u001b[43m,\u001b[49m\n\u001b[0;32m   1196\u001b[0m \u001b[43m\u001b[49m\u001b[43m)\u001b[49m\n",
      "File \u001b[1;32m~\\AppData\\Roaming\\Python\\Python310\\site-packages\\ipykernel\\kernelbase.py:1234\u001b[0m, in \u001b[0;36mKernel._input_request\u001b[1;34m(self, prompt, ident, parent, password)\u001b[0m\n\u001b[0;32m   1231\u001b[0m \u001b[38;5;28;01mexcept\u001b[39;00m \u001b[38;5;167;01mKeyboardInterrupt\u001b[39;00m:\n\u001b[0;32m   1232\u001b[0m     \u001b[38;5;66;03m# re-raise KeyboardInterrupt, to truncate traceback\u001b[39;00m\n\u001b[0;32m   1233\u001b[0m     msg \u001b[38;5;241m=\u001b[39m \u001b[38;5;124m\"\u001b[39m\u001b[38;5;124mInterrupted by user\u001b[39m\u001b[38;5;124m\"\u001b[39m\n\u001b[1;32m-> 1234\u001b[0m     \u001b[38;5;28;01mraise\u001b[39;00m \u001b[38;5;167;01mKeyboardInterrupt\u001b[39;00m(msg) \u001b[38;5;28;01mfrom\u001b[39;00m \u001b[38;5;28mNone\u001b[39m\n\u001b[0;32m   1235\u001b[0m \u001b[38;5;28;01mexcept\u001b[39;00m \u001b[38;5;167;01mException\u001b[39;00m:\n\u001b[0;32m   1236\u001b[0m     \u001b[38;5;28mself\u001b[39m\u001b[38;5;241m.\u001b[39mlog\u001b[38;5;241m.\u001b[39mwarning(\u001b[38;5;124m\"\u001b[39m\u001b[38;5;124mInvalid Message:\u001b[39m\u001b[38;5;124m\"\u001b[39m, exc_info\u001b[38;5;241m=\u001b[39m\u001b[38;5;28;01mTrue\u001b[39;00m)\n",
      "\u001b[1;31mKeyboardInterrupt\u001b[0m: Interrupted by user"
     ]
    }
   ],
   "source": [
    "money = input(\"돈을 넣어주세요.\")\n",
    "print(money)\n",
    "coke = 500\n",
    "cider = 600\n",
    "fanta = 700\n",
    "\n",
    "none = money == \"\"\n",
    "print(\"none\")\n",
    "print(none)\n",
    "moneyCk = isinstance(money, int)\n",
    "# nullCk = isinstance(money, \"\")\n",
    "print(moneyCk)\n",
    "print(noneCk)\n",
    "\n",
    "# money 가 숫자가 아닐 경우 False / 700원 보다 작을 경우 False / 공백일 경우 False / 숫자일 경우 True\n",
    "if moneyCk == False and none == False:\n",
    "    mInt = int(money)\n",
    "    if mInt < 700 and mInt < 0:\n",
    "        print(\"금액이 부족합니다.\")\n",
    "        money = input(\"돈을 더 넣어주세요.\")\n",
    "        mInt = int(money)\n",
    "        print(mInt)\n",
    "        mInt = mInt + mInt\n",
    "        print(\"계산: \", mInt)\n",
    "        drink = input(\"음료를 선택해주세요. 1.콜라 2.사이다 3.환타\")\n",
    "        if drink == \"1\" or drink == \"콜라\":\n",
    "            result = mInt - coke\n",
    "            reCoke = \"콜라\"\n",
    "            print(\"선택한 음료: \", reCoke, \" 잔돈: \", result, \"원\")\n",
    "        elif drink == \"2\" or drink == \"사이다\":\n",
    "            result = mInt - cider\n",
    "            reCider = \"사이다\"\n",
    "            print(\"선택한 음료: \", reCider, \" 잔돈: \", result, \"원\")\n",
    "        elif drink == \"3\" or drink == \"환타\":\n",
    "            result = mInt - fanta\n",
    "            reFanta = \"환타\"\n",
    "            print(\"선택한 음료: \", reFanta, \" 잔돈: \", result, \"원\")\n",
    "    else:\n",
    "        drink = input(\"음료를 선택해주세요. 1.콜라 2.사이다 3.환타\")\n",
    "        if drink == \"1\" or drink == \"콜라\":\n",
    "            result = mInt - coke\n",
    "            reCoke = \"콜라\"\n",
    "            print(\"선택한 음료: \", reCoke, \" 잔돈: \", result, \"원\")\n",
    "        elif drink == \"2\" or drink == \"사이다\":\n",
    "            result = mInt - cider\n",
    "            reCider = \"사이다\"\n",
    "            print(\"선택한 음료: \", reCider, \" 잔돈: \", result, \"원\")\n",
    "        elif drink == \"3\" or drink == \"환타\":\n",
    "            result = mInt - fanta\n",
    "            reFanta = \"환타\"\n",
    "            print(\"선택한 음료: \", reFanta, \" 잔돈: \", result, \"원\")\n",
    "elif moneyCk == True or none == True:\n",
    "    print(\"잘못 입력하셨습니다.\")\n",
    "    money = input(\"돈을 넣어주세요.\")\n",
    "    mInt = int(money)\n",
    "    print(mInt)\n",
    "    drink = input(\"음료를 선택해주세요. 1.콜라 2.사이다 3.환타\")\n",
    "    if drink == \"1\" or drink == \"콜라\":\n",
    "        result = mInt - coke\n",
    "        reCoke = \"콜라\"\n",
    "        print(\"선택한 음료: \", reCoke, \" 잔돈: \", result, \"원\")\n",
    "    elif drink == \"2\" or drink == \"사이다\":\n",
    "        result = mInt - cider\n",
    "        reCider = \"사이다\"\n",
    "        print(\"선택한 음료: \", reCider, \" 잔돈: \", result, \"원\")\n",
    "    elif drink == \"3\" or drink == \"환타\":\n",
    "        result = mInt - fanta\n",
    "        reFanta = \"환타\"\n",
    "        print(\"선택한 음료: \", reFanta, \" 잔돈: \", result, \"원\")"
   ]
  },
  {
   "cell_type": "markdown",
   "id": "4a54615e-05c2-4e8c-b72c-9139ca71055a",
   "metadata": {
    "tags": []
   },
   "source": [
    "- 돈 입력 받기 => input()\n",
    "- 입력 받은 돈이 700원 보다 작을 경우, \"잔돈이 부족합니다.\" 출력할 것\n",
    "- 700원 보다 클 때\n",
    "    - 콜라, 사이다, 환타 중 1개 고르기\n",
    "    - 각각의 가격 콜라: 500원 사이다: 600원 환타: 700원\n",
    "    - 입력 받은 금액 - 음료수 값 계산\n",
    "    - 계산한 값 출력"
   ]
  },
  {
   "cell_type": "code",
   "execution_count": 162,
   "id": "1fd3b3d5-43d7-4f6f-8f4f-5b3be8bd4a04",
   "metadata": {
    "tags": []
   },
   "outputs": [
    {
     "name": "stdin",
     "output_type": "stream",
     "text": [
      "돈을 넣어주세요. 1000\n"
     ]
    },
    {
     "name": "stdout",
     "output_type": "stream",
     "text": [
      "음료 고르기\n"
     ]
    },
    {
     "name": "stdin",
     "output_type": "stream",
     "text": [
      "음료를 고르세요. 1. 콜라, 2. 사이다, 3번. 환타 1\n"
     ]
    },
    {
     "name": "stdout",
     "output_type": "stream",
     "text": [
      "콜라를 선택했습니다. 잔돈은 500입니다.\n"
     ]
    }
   ],
   "source": [
    "money1 = int(input(\"돈을 넣어주세요.\"))\n",
    "\n",
    "# 입력 받은 돈이 700원보다 작을 경우, \"잔돈이 부족합니다.\" 출력할 것\n",
    "if money1 < 700:\n",
    "    \"잔돈이 부족합니다.\"\n",
    "else: # 700원 보다 크다\n",
    "      # 콜라, 사이다, 환타 고르기 : 1. 콜라, 2. 사이다, 3번. 환타\n",
    "    print(\"음료 고르기\")\n",
    "    choice_drink = input(\"음료를 고르세요. 1. 콜라, 2. 사이다, 3번. 환타\")\n",
    "    if choice_drink == \"1\" or choice_drink == \"콜라\":\n",
    "        print(f\"콜라를 선택했습니다. 잔돈은 {money1-500}입니다.\")\n",
    "    elif choice_drink == \"2\" or choice_drink == \"사이다\":\n",
    "        print(f\"콜라를 선택했습니다. 잔돈은 {money1-600}입니다.\")\n",
    "    elif choice_drink == \"3\" or choice_drink == \"환타\":\n",
    "        print(f\"콜라를 선택했습니다. 잔돈은 {money1-500}입니다.\")\n",
    "    else:\n",
    "        print(f\"선택한 음료가 없습니다. 잔돈은 {money1}입니다.\")"
   ]
  },
  {
   "cell_type": "markdown",
   "id": "6ed3e3f1-1f18-483b-8b39-d407a9a70856",
   "metadata": {
    "tags": []
   },
   "source": [
    "# 확인 문제3"
   ]
  },
  {
   "cell_type": "markdown",
   "id": "74cbb58e-f543-4f1e-a8bc-e59d0fd777a6",
   "metadata": {},
   "source": [
    "- 아래 조건을 추가\n",
    "    - 500원보다 작으면 잔돈이 부족합니다.\n",
    "    - 700 이상: 콜라, 사이다, 환타\n",
    "    - 600 이상: 콜라, 사이다\n",
    "    - 500 이상: 콜라"
   ]
  },
  {
   "cell_type": "code",
   "execution_count": 184,
   "id": "a0fd93d6-52c9-46e1-a74d-bab1d91671c9",
   "metadata": {
    "collapsed": true,
    "jupyter": {
     "outputs_hidden": true
    },
    "tags": []
   },
   "outputs": [
    {
     "name": "stdin",
     "output_type": "stream",
     "text": [
      "돈을 넣어주세요. 1000\n"
     ]
    },
    {
     "name": "stdout",
     "output_type": "stream",
     "text": [
      "1000\n",
      "none\n",
      "False\n",
      "False\n",
      "('', False)\n",
      "계산:  1000\n"
     ]
    },
    {
     "name": "stdin",
     "output_type": "stream",
     "text": [
      "음료를 선택해주세요. 1.콜라 2.사이다 3.환타 1\n"
     ]
    },
    {
     "name": "stdout",
     "output_type": "stream",
     "text": [
      "선택한 음료:  콜라  잔돈:  500 원\n"
     ]
    }
   ],
   "source": [
    "money = input(\"돈을 넣어주세요.\")\n",
    "print(money)\n",
    "coke = 500\n",
    "cider = 600\n",
    "fanta = 700\n",
    "\n",
    "none = money == \"\"\n",
    "print(\"none\")\n",
    "print(none)\n",
    "moneyCk = isinstance(money, int)\n",
    "# nullCk = isinstance(money, \"\")\n",
    "print(moneyCk)\n",
    "print(noneCk)\n",
    "\n",
    "# money 가 숫자가 아닐 경우 False / 700원 보다 작을 경우 False / 공백일 경우 False / 숫자일 경우 True\n",
    "if moneyCk == False and none == False:\n",
    "    mInt = int(money)\n",
    "    if mInt <= 400:\n",
    "        print(\"잔돈이 부족합니다.\")\n",
    "    elif 500 <= mInt < 600:\n",
    "        drink = input(\"콜라를 선택하실 수 있습니다. 1. 콜라 2. 선택 안함\")\n",
    "        if drink == \"1\" or drink == \"콜라\":\n",
    "            result = mInt - coke\n",
    "            reCoke = \"콜라\"\n",
    "            print(\"선택한 음료: \", reCoke, \" 잔돈: \", result, \"원\")\n",
    "        else:\n",
    "            print(f\"선택한 음료가 없습니다. 잔돈은 {result}입니다.\")\n",
    "    elif 600 <= mInt < 700:\n",
    "        drink = input(\"음료를 선택해주세요. 1.콜라 2.사이다\")\n",
    "        if drink == \"1\" or drink == \"콜라\":\n",
    "            result = mInt - coke\n",
    "            reCoke = \"콜라\"\n",
    "            print(\"선택한 음료: \", reCoke, \" 잔돈: \", result, \"원\")\n",
    "        elif drink == \"2\" or drink == \"사이다\":\n",
    "            result = mInt - cider\n",
    "            reCider = \"사이다\"\n",
    "            print(\"선택한 음료: \", reCider, \" 잔돈: \", result, \"원\")\n",
    "    elif 700 <= mInt:\n",
    "        print(\"계산: \", mInt)\n",
    "        drink = input(\"음료를 선택해주세요. 1.콜라 2.사이다 3.환타\")\n",
    "        if drink == \"1\" or drink == \"콜라\":\n",
    "            result = mInt - coke\n",
    "            reCoke = \"콜라\"\n",
    "            print(\"선택한 음료: \", reCoke, \" 잔돈: \", result, \"원\")\n",
    "        elif drink == \"2\" or drink == \"사이다\":\n",
    "            result = mInt - cider\n",
    "            reCider = \"사이다\"\n",
    "            print(\"선택한 음료: \", reCider, \" 잔돈: \", result, \"원\")\n",
    "        elif drink == \"3\" or drink == \"환타\":\n",
    "            result = mInt - fanta\n",
    "            reFanta = \"환타\"\n",
    "            print(\"선택한 음료: \", reFanta, \" 잔돈: \", result, \"원\")\n",
    "elif moneyCk == True or none == True:\n",
    "    print(\"잘못 입력하셨습니다.\")\n",
    "    money = input(\"돈을 넣어주세요.\")\n",
    "    mInt = int(money)\n",
    "    print(mInt)\n",
    "    drink = input(\"음료를 선택해주세요. 1.콜라 2.사이다 3.환타\")\n",
    "    if drink == \"1\" or drink == \"콜라\":\n",
    "        result = mInt - coke\n",
    "        reCoke = \"콜라\"\n",
    "        print(\"선택한 음료: \", reCoke, \" 잔돈: \", result, \"원\")\n",
    "    elif drink == \"2\" or drink == \"사이다\":\n",
    "        result = mInt - cider\n",
    "        reCider = \"사이다\"\n",
    "        print(\"선택한 음료: \", reCider, \" 잔돈: \", result, \"원\")\n",
    "    elif drink == \"3\" or drink == \"환타\":\n",
    "        result = mInt - fanta\n",
    "        reFanta = \"환타\"\n",
    "        print(\"선택한 음료: \", reFanta, \" 잔돈: \", result, \"원\")"
   ]
  },
  {
   "cell_type": "code",
   "execution_count": null,
   "id": "f42c2e6b-06ff-48e5-9a7b-ff79339c7572",
   "metadata": {},
   "outputs": [],
   "source": [
    "# 강사님 코드\n",
    "\n",
    "# 입력받은 돈이 500원보다 작을 경우, \"잔돈이 부족합니다.\" 출력할것\n",
    "money = eval(input(\"돈을 입력하세요 예) 1000 >> \"))\n",
    "\n",
    "if money < 500:\n",
    "    print(\"잔돈이 부족합니다.\")\n",
    "else:  # money >= 500 \n",
    "    if money >= 700:\n",
    "        choice_drink = int(input(\"음료를 고르세요 예)1.콜라, 2.사이다, 3.환타 >> \"))    \n",
    "    elif money >= 600:\n",
    "        choice_drink = int(input(\"음료를 고르세요 예)1.콜라, 2.사이다 >> \"))    \n",
    "    elif money >= 500:\n",
    "        choice_drink = int(input(\"음료를 고르세요 1.콜라만 고를 수 있어요.>> \"))    \n",
    "\n",
    "    # print(choice_drink)\n",
    "    # 각각의 가격: 콜라 500, 사이다 600, 환타 700\n",
    "    if choice_drink == 1:\n",
    "        print(f\"콜라를 선택하였습니다. 잔돈은 {money - 500}입니다.\")\n",
    "    elif choice_drink == 2:\n",
    "        print(f\"사이다를 선택하였습니다. 잔돈은 {money - 600}입니다.\")\n",
    "    elif choice_drink == 3:\n",
    "        print(f\"환타를 선택하였습니다. 잔돈은 {money - 700}입니다.\")\n",
    "    else:\n",
    "        print(\"선택한 음료는 없습니다.\")"
   ]
  },
  {
   "cell_type": "code",
   "execution_count": null,
   "id": "baa9a9c7-69b2-4bdc-81b7-12ce015371c9",
   "metadata": {
    "tags": []
   },
   "outputs": [],
   "source": [
    "money = input(\"돈을 넣어주세요.\")\n",
    "print(money)\n",
    "coke = 500\n",
    "cider = 600\n",
    "fanta = 700\n",
    "\n",
    "none = money == \"\"\n",
    "print(\"none\")\n",
    "print(none)\n",
    "moneyCk = isinstance(money, int)\n",
    "# nullCk = isinstance(money, \"\")\n",
    "print(moneyCk)\n",
    "\n",
    "# money 가 숫자가 아닐 경우 False / 700원 보다 작을 경우 False / 공백일 경우 False / 숫자일 경우 True\n",
    "if moneyCk == False and none == False:\n",
    "    mInt = int(money)\n",
    "    if mInt <= 400:\n",
    "        print(\"잔돈이 부족합니다.\")\n",
    "    elif 500 <= mInt < 600:\n",
    "        drink = input(\"콜라를 선택하실 수 있습니다. 1. 콜라 2. 선택 안함\")\n",
    "        if drink == \"1\" or drink == \"콜라\":\n",
    "            result = mInt - coke\n",
    "            reCoke = \"콜라\"\n",
    "            print(\"선택한 음료: \", reCoke, \" 잔돈: \", result, \"원\")\n",
    "        else:\n",
    "            print(f\"선택한 음료가 없습니다. 잔돈은 {result}입니다.\")\n",
    "    elif 600 <= mInt < 700:\n",
    "        drink = input(\"음료를 선택해주세요. 1.콜라 2.사이다\")\n",
    "        if drink == \"1\" or drink == \"콜라\":\n",
    "            result = mInt - coke\n",
    "            reCoke = \"콜라\"\n",
    "            print(\"선택한 음료: \", reCoke, \" 잔돈: \", result, \"원\")\n",
    "        elif drink == \"2\" or drink == \"사이다\":\n",
    "            result = mInt - cider\n",
    "            reCider = \"사이다\"\n",
    "            print(\"선택한 음료: \", reCider, \" 잔돈: \", result, \"원\")\n",
    "    elif 700 <= mInt:\n",
    "        print(\"계산: \", mInt)\n",
    "        drink = input(\"음료를 선택해주세요. 1.콜라 2.사이다 3.환타\")\n",
    "        if drink == \"1\" or drink == \"콜라\":\n",
    "            result = mInt - coke\n",
    "            reCoke = \"콜라\"\n",
    "            print(\"선택한 음료: \", reCoke, \" 잔돈: \", result, \"원\")\n",
    "        elif drink == \"2\" or drink == \"사이다\":\n",
    "            result = mInt - cider\n",
    "            reCider = \"사이다\"\n",
    "            print(\"선택한 음료: \", reCider, \" 잔돈: \", result, \"원\")\n",
    "        elif drink == \"3\" or drink == \"환타\":\n",
    "            result = mInt - fanta\n",
    "            reFanta = \"환타\"\n",
    "            print(\"선택한 음료: \", reFanta, \" 잔돈: \", result, \"원\")\n",
    "elif moneyCk == True or none == True:\n",
    "    print(\"잘못 입력하셨습니다.\")\n",
    "    money = input(\"돈을 넣어주세요.\")\n",
    "    mInt = int(money)\n",
    "    print(mInt)\n",
    "    if mInt < 500:\n",
    "        print(\"금액이 부족합니다.\")\n",
    "        money = input(\"돈을 더 넣어주세요.\")\n",
    "        mInt1 = int(money)\n",
    "        print(mInt)\n",
    "        mInt = mInt + mInt1\n",
    "        if mInt < 500:\n",
    "            print(\"금액이 부족합니다.\")\n",
    "            money = input(\"돈을 더 넣어주세요.\")\n",
    "            mInt2 = int(money)\n",
    "            print(mInt)\n",
    "            mInt = mInt + mInt2\n",
    "        print(\"계산: \", mInt)\n",
    "        if 500 <= mInt < 600:\n",
    "            drink = input(\"콜라를 선택하실 수 있습니다. 1. 콜라 2. 선택 안함\")\n",
    "            if drink == \"1\" or drink == \"콜라\":\n",
    "                result = mInt - coke\n",
    "                reCoke = \"콜라\"\n",
    "                print(\"선택한 음료: \", reCoke, \" 잔돈: \", result, \"원\")\n",
    "            else:\n",
    "                print(f\"선택한 음료가 없습니다. 잔돈은 {result}입니다.\")\n",
    "        elif 600 <= mInt < 700:\n",
    "            drink = input(\"음료를 선택해주세요. 1.콜라 2.사이다\")\n",
    "            if drink == \"1\" or drink == \"콜라\":\n",
    "                result = mInt - coke\n",
    "                reCoke = \"콜라\"\n",
    "                print(\"선택한 음료: \", reCoke, \" 잔돈: \", result, \"원\")\n",
    "            elif drink == \"2\" or drink == \"사이다\":\n",
    "                result = mInt - cider\n",
    "                reCider = \"사이다\"\n",
    "                print(\"선택한 음료: \", reCider, \" 잔돈: \", result, \"원\")\n",
    "        elif 700 <= mInt:\n",
    "            print(\"계산: \", mInt)\n",
    "            drink = input(\"음료를 선택해주세요. 1.콜라 2.사이다 3.환타\")\n",
    "            if drink == \"1\" or drink == \"콜라\":\n",
    "                result = mInt - coke\n",
    "                reCoke = \"콜라\"\n",
    "                print(\"선택한 음료: \", reCoke, \" 잔돈: \", result, \"원\")\n",
    "            elif drink == \"2\" or drink == \"사이다\":\n",
    "                result = mInt - cider\n",
    "                reCider = \"사이다\"\n",
    "                print(\"선택한 음료: \", reCider, \" 잔돈: \", result, \"원\")\n",
    "            elif drink == \"3\" or drink == \"환타\":\n",
    "                result = mInt - fanta\n",
    "                reFanta = \"환타\"\n",
    "                print(\"선택한 음료: \", reFanta, \" 잔돈: \", result, \"원\")\n",
    "    elif 500 <= mInt < 600:\n",
    "        drink = input(\"콜라를 선택하실 수 있습니다. 1. 콜라 2. 선택 안함\")\n",
    "        if drink == \"1\" or drink == \"콜라\":\n",
    "            result = mInt - coke\n",
    "            reCoke = \"콜라\"\n",
    "            print(\"선택한 음료: \", reCoke, \" 잔돈: \", result, \"원\")\n",
    "        else:\n",
    "            print(f\"선택한 음료가 없습니다. 잔돈은 {result}입니다.\")\n",
    "    elif 600 <= mInt < 700:\n",
    "        drink = input(\"음료를 선택해주세요. 1.콜라 2.사이다\")\n",
    "        if drink == \"1\" or drink == \"콜라\":\n",
    "            result = mInt - coke\n",
    "            reCoke = \"콜라\"\n",
    "            print(\"선택한 음료: \", reCoke, \" 잔돈: \", result, \"원\")\n",
    "        elif drink == \"2\" or drink == \"사이다\":\n",
    "            result = mInt - cider\n",
    "            reCider = \"사이다\"\n",
    "            print(\"선택한 음료: \", reCider, \" 잔돈: \", result, \"원\")\n",
    "    elif 700 <= mInt:\n",
    "        print(\"계산: \", mInt)\n",
    "        drink = input(\"음료를 선택해주세요. 1.콜라 2.사이다 3.환타\")\n",
    "        if drink == \"1\" or drink == \"콜라\":\n",
    "            result = mInt - coke\n",
    "            reCoke = \"콜라\"\n",
    "            print(\"선택한 음료: \", reCoke, \" 잔돈: \", result, \"원\")\n",
    "        elif drink == \"2\" or drink == \"사이다\":\n",
    "            result = mInt - cider\n",
    "            reCider = \"사이다\"\n",
    "            print(\"선택한 음료: \", reCider, \" 잔돈: \", result, \"원\")\n",
    "        elif drink == \"3\" or drink == \"환타\":\n",
    "            result = mInt - fanta\n",
    "            reFanta = \"환타\"\n",
    "            print(\"선택한 음료: \", reFanta, \" 잔돈: \", result, \"원\")"
   ]
  },
  {
   "cell_type": "code",
   "execution_count": null,
   "id": "de7a4969-b769-4adc-8666-36feda8d179f",
   "metadata": {},
   "outputs": [],
   "source": []
  }
 ],
 "metadata": {
  "kernelspec": {
   "display_name": "Python 3 (ipykernel)",
   "language": "python",
   "name": "python3"
  },
  "language_info": {
   "codemirror_mode": {
    "name": "ipython",
    "version": 3
   },
   "file_extension": ".py",
   "mimetype": "text/x-python",
   "name": "python",
   "nbconvert_exporter": "python",
   "pygments_lexer": "ipython3",
   "version": "3.10.10"
  }
 },
 "nbformat": 4,
 "nbformat_minor": 5
}
