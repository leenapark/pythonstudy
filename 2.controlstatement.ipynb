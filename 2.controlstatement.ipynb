{
 "cells": [
  {
   "cell_type": "markdown",
   "id": "3214f784-12b8-4091-bbd6-cb92300c8d6f",
   "metadata": {},
   "source": [
    "# 2장 비교 연산자 / 논리 연산자 / 제어문"
   ]
  },
  {
   "cell_type": "markdown",
   "id": "dda6f13d-d57a-454e-9958-4c04a45bbafd",
   "metadata": {},
   "source": [
    "## 비교 연산자"
   ]
  },
  {
   "cell_type": "code",
   "execution_count": 4,
   "id": "476e35db-04f1-4a24-8137-0a5a5c3cafb9",
   "metadata": {
    "tags": []
   },
   "outputs": [
    {
     "name": "stdout",
     "output_type": "stream",
     "text": [
      "False\n",
      "True\n",
      "True\n",
      "False\n",
      "True\n",
      "False\n"
     ]
    }
   ],
   "source": [
    "print(10 == 100)\n",
    "print(10 != 100)\n",
    "print(10 < 100)\n",
    "print(10 > 100)\n",
    "print(10 <= 100)\n",
    "print(10 >= 100)"
   ]
  },
  {
   "cell_type": "code",
   "execution_count": 8,
   "id": "3933d21d-3069-48b0-add3-0d1a44bb6d86",
   "metadata": {
    "tags": []
   },
   "outputs": [
    {
     "data": {
      "text/plain": [
       "True"
      ]
     },
     "execution_count": 8,
     "metadata": {},
     "output_type": "execute_result"
    }
   ],
   "source": [
    "# 아스키 코드로 비교\n",
    "\"a\" < \"b\""
   ]
  },
  {
   "cell_type": "code",
   "execution_count": 7,
   "id": "dc585128-444e-48f4-be1f-917e99a01f2b",
   "metadata": {
    "tags": []
   },
   "outputs": [
    {
     "data": {
      "text/plain": [
       "False"
      ]
     },
     "execution_count": 7,
     "metadata": {},
     "output_type": "execute_result"
    }
   ],
   "source": [
    "\"a\" > \"b\""
   ]
  },
  {
   "cell_type": "markdown",
   "id": "d2fc5df0-2b8a-488e-8f9e-0e69d99e4ba8",
   "metadata": {},
   "source": [
    "## 논리 연산자"
   ]
  },
  {
   "cell_type": "code",
   "execution_count": 1,
   "id": "cae51484-b550-4dd8-8936-82a5e253f4b7",
   "metadata": {
    "tags": []
   },
   "outputs": [
    {
     "name": "stdout",
     "output_type": "stream",
     "text": [
      "under_20:  True\n",
      "not under_20:  False\n"
     ]
    }
   ],
   "source": [
    "x=10\n",
    "under_20 = x < 20\n",
    "print(\"under_20: \", under_20)\n",
    "print(\"not under_20: \", not under_20)"
   ]
  },
  {
   "cell_type": "code",
   "execution_count": 5,
   "id": "1d4ca18c-7f52-4cbb-abce-b71e5f6d3179",
   "metadata": {
    "tags": []
   },
   "outputs": [
    {
     "name": "stdout",
     "output_type": "stream",
     "text": [
      "True\n",
      "False\n",
      "False\n",
      "False\n",
      "True\n",
      "True\n",
      "True\n",
      "False\n"
     ]
    }
   ],
   "source": [
    "print(True and True)\n",
    "print(True and False)\n",
    "print(False and True)\n",
    "print(False and False)\n",
    "print(True or True)\n",
    "print(True or False)\n",
    "print(False or True)\n",
    "print(False or False)"
   ]
  },
  {
   "cell_type": "markdown",
   "id": "a8aeb7f6-06c7-4b0f-8d57-cd13b85236b1",
   "metadata": {},
   "source": [
    "## boolean 연산\n",
    " - and, or, not"
   ]
  },
  {
   "cell_type": "code",
   "execution_count": null,
   "id": "791454de-43f9-478e-9c38-40c3e698dc5a",
   "metadata": {},
   "outputs": [],
   "source": [
    "# 좌변 and 우변\n",
    "print(True and True)\n",
    "print(True and False)\n",
    "print(False and False)"
   ]
  },
  {
   "cell_type": "code",
   "execution_count": 10,
   "id": "f0553cac-bf1d-4cf9-99c7-51ea82a24535",
   "metadata": {
    "tags": []
   },
   "outputs": [],
   "source": [
    "a = 2\n",
    "b = 5\n",
    "c = 7"
   ]
  },
  {
   "cell_type": "code",
   "execution_count": 13,
   "id": "4423c297-4fa5-44c5-b5fa-676f3af2805b",
   "metadata": {
    "tags": []
   },
   "outputs": [
    {
     "name": "stdout",
     "output_type": "stream",
     "text": [
      "False\n",
      "False\n",
      "True\n"
     ]
    }
   ],
   "source": [
    "print(a>b and b>c) # False and False = False\n",
    "print(a<b and b>c) # False and True = False\n",
    "print(a<b and b<c) # True and True = True"
   ]
  },
  {
   "cell_type": "markdown",
   "id": "3eb37f5f-24cd-404e-a808-2ad5a7d60a00",
   "metadata": {},
   "source": [
    "## boolean : or"
   ]
  },
  {
   "cell_type": "code",
   "execution_count": 14,
   "id": "06155b65-7951-4a23-adbb-828b302cae09",
   "metadata": {
    "tags": []
   },
   "outputs": [
    {
     "name": "stdout",
     "output_type": "stream",
     "text": [
      "False\n",
      "True\n",
      "True\n"
     ]
    }
   ],
   "source": [
    "print(a>b or b>c) # False and False = False\n",
    "print(a<b or b>c) # False and True = True\n",
    "print(a<b or b<c) # True and True = True"
   ]
  },
  {
   "cell_type": "markdown",
   "id": "17e1bbe8-106d-44f0-8b74-6c8330387913",
   "metadata": {},
   "source": [
    "## boolean : not"
   ]
  },
  {
   "cell_type": "code",
   "execution_count": 15,
   "id": "c1319357-c970-4e90-8905-d9e5ca7bedd6",
   "metadata": {
    "tags": []
   },
   "outputs": [
    {
     "name": "stdout",
     "output_type": "stream",
     "text": [
      "False\n",
      "False\n",
      "False\n"
     ]
    }
   ],
   "source": [
    "print(not a>b and b>c) # False and False = False\n",
    "print(not a<b and b>c) # False and True = False\n",
    "print(not a<b and b<c) # True and True = True"
   ]
  },
  {
   "cell_type": "markdown",
   "id": "65f73c54-ee5d-457a-8120-c91b2b621771",
   "metadata": {},
   "source": [
    "# 조건문 : if"
   ]
  },
  {
   "cell_type": "code",
   "execution_count": 17,
   "id": "a3f7c6ad-abf6-458f-9d27-84230b09ee92",
   "metadata": {
    "tags": []
   },
   "outputs": [
    {
     "name": "stdout",
     "output_type": "stream",
     "text": [
      "True\n"
     ]
    }
   ],
   "source": [
    "# 문법 if 조건 :\n",
    "if True:\n",
    "    print(\"True\")\n",
    "else:\n",
    "    print(\"false\")"
   ]
  },
  {
   "cell_type": "code",
   "execution_count": 30,
   "id": "3484cb65-d7dd-4ab9-9112-724a9f1b2a5a",
   "metadata": {
    "tags": []
   },
   "outputs": [
    {
     "name": "stdin",
     "output_type": "stream",
     "text": [
      "정수 입력>  10\n"
     ]
    },
    {
     "name": "stdout",
     "output_type": "stream",
     "text": [
      "양수입니다.\n"
     ]
    }
   ],
   "source": [
    "num = int(input(\"정수 입력> \"));\n",
    "\n",
    "if num > 0:\n",
    "    print(\"양수입니다.\")\n",
    "    \n",
    "if num < 0:\n",
    "    print(\"음수입니다.\")\n",
    "    \n",
    "if num == 0:\n",
    "    print(\"0 입니다.\")"
   ]
  },
  {
   "cell_type": "code",
   "execution_count": 33,
   "id": "b8758d2b-aefd-4f38-b33f-80c9fd9af8eb",
   "metadata": {
    "tags": []
   },
   "outputs": [
    {
     "name": "stdin",
     "output_type": "stream",
     "text": [
      "정수 입력>  0\n"
     ]
    },
    {
     "name": "stdout",
     "output_type": "stream",
     "text": [
      "0 입니다.\n"
     ]
    }
   ],
   "source": [
    "num = int(input(\"정수 입력> \"));\n",
    "\n",
    "if num > 0:\n",
    "    print(\"양수입니다.\")\n",
    "    \n",
    "elif num < 0:\n",
    "    print(\"음수입니다.\")\n",
    "    \n",
    "elif num == 0:\n",
    "    print(\"0 입니다.\")"
   ]
  },
  {
   "cell_type": "code",
   "execution_count": 35,
   "id": "c88d82cb-a134-41b5-a91c-bf6ed8fe4121",
   "metadata": {
    "tags": []
   },
   "outputs": [
    {
     "name": "stdout",
     "output_type": "stream",
     "text": [
      "양수입니다.\n"
     ]
    }
   ],
   "source": [
    "# 모든 조건이 동일 할 때 : 코드가 실행되는 원리\n",
    "num=3\n",
    "\n",
    "if num > 0:\n",
    "    print(\"양수입니다.\")\n",
    "    \n",
    "elif num > 0:\n",
    "    print(\"음수입니다.\")\n",
    "    \n",
    "elif num > 0:\n",
    "    print(\"0 입니다.\")"
   ]
  },
  {
   "cell_type": "code",
   "execution_count": 45,
   "id": "312fcb57-3c9c-4102-804c-72782a4b0b74",
   "metadata": {
    "tags": []
   },
   "outputs": [
    {
     "name": "stdout",
     "output_type": "stream",
     "text": [
      "2023-03-14 14:31:18.383180\n",
      "2023년 3월 14일 14시 31분 18초\n"
     ]
    }
   ],
   "source": [
    "# module 사용 방법\n",
    "# import datetime\n",
    "now_date = datetime.datetime.now()\n",
    "print(now_date)\n",
    "now_date\n",
    "now_date.year\n",
    "now_date.month\n",
    "print(\"{}년 {}월 {}일 {}시 {}분 {}초\".format(\n",
    "    now_date.year,\n",
    "    now_date.month,\n",
    "    now_date.day,\n",
    "    now_date.hour,\n",
    "    now_date.minute,\n",
    "    now_date.second\n",
    "))"
   ]
  },
  {
   "cell_type": "code",
   "execution_count": 47,
   "id": "0256b6ec-c49d-45c0-95c4-046ba2d3c2ac",
   "metadata": {
    "tags": []
   },
   "outputs": [
    {
     "name": "stdout",
     "output_type": "stream",
     "text": [
      "현재 시각은 14시로 오후입니다.\n"
     ]
    }
   ],
   "source": [
    "now_date = datetime.datetime.now()\n",
    "if now_date.hour < 12:\n",
    "    print(f\"현재 시각은 {now_date.hour}시로 오전입니다.\")\n",
    "\n",
    "if now_date.hour > 12:\n",
    "    print(f\"현재 시각은 {now_date.hour}시로 오후입니다.\")"
   ]
  },
  {
   "cell_type": "code",
   "execution_count": 61,
   "id": "0a4a0e8f-8664-4435-93d1-0d26ac3f2870",
   "metadata": {
    "tags": []
   },
   "outputs": [
    {
     "name": "stdout",
     "output_type": "stream",
     "text": [
      "이번 달은 3월 봄입니다.\n"
     ]
    }
   ],
   "source": [
    "if 3 <= now_date.month <=5:\n",
    "    print(f\"이번 달은 {now_date.month}월 봄입니다.\")\n",
    "if 6 <= now_date.month <= 7:\n",
    "    print(f\"이번 달은 {now_date.month}월 여름입니다.\")\n",
    "if 9 <= now_date.month <= 11:\n",
    "    print(f\"이번 달은 {now_date.month}월 가을입니다.\")\n",
    "if now_date.month == 12 or 1 == now_date.month == 2:\n",
    "    print(f\"이번 달은 {now_date.month}월 겨울입니다.\")"
   ]
  },
  {
   "cell_type": "code",
   "execution_count": 62,
   "id": "2cea5384-bce1-4de6-9724-f496e1829d0b",
   "metadata": {
    "tags": []
   },
   "outputs": [
    {
     "name": "stdout",
     "output_type": "stream",
     "text": [
      "이번 달은 3월 봄입니다.\n"
     ]
    }
   ],
   "source": [
    "if 3 <= now_date.month <=5:\n",
    "    print(f\"이번 달은 {now_date.month}월 봄입니다.\")\n",
    "elif 6 <= now_date.month <= 7:\n",
    "    print(f\"이번 달은 {now_date.month}월 여름입니다.\")\n",
    "elif 9 <= now_date.month <= 11:\n",
    "    print(f\"이번 달은 {now_date.month}월 가을입니다.\")\n",
    "else:\n",
    "    print(f\"이번 달은 {now_date.month}월 겨울입니다.\")"
   ]
  },
  {
   "cell_type": "code",
   "execution_count": 58,
   "id": "25aaa6a2-3c93-4b13-9eaf-f021187b44fe",
   "metadata": {
    "tags": []
   },
   "outputs": [
    {
     "name": "stdin",
     "output_type": "stream",
     "text": [
      "정수 입력>  55\n"
     ]
    },
    {
     "name": "stdout",
     "output_type": "stream",
     "text": [
      "5\n",
      "<class 'str'>\n",
      "5\n",
      "<class 'int'>\n",
      "홀수입니다.\n"
     ]
    }
   ],
   "source": [
    "num = input(\"정수 입력> \")\n",
    "\n",
    "# 마지막 자리 숫자를 추출\n",
    "last_str = num[-1]\n",
    "print(last_str)\n",
    "print(type(last_str))\n",
    "\n",
    "# 숫자로 변환\n",
    "last_num = int(last_str)\n",
    "print(last_num)\n",
    "print(type(last_num))\n",
    "\n",
    "# 짝수 확인\n",
    "if last_num == 0\\\n",
    "    or last_num == 2\\\n",
    "    or last_num == 4\\\n",
    "    or last_num == 6\\\n",
    "    or last_num == 8:\n",
    "    print(\"짝수입니다.\")\n",
    "\n",
    "# 홀수 확인\n",
    "if last_num == 1\\\n",
    "    or last_num == 3\\\n",
    "    or last_num == 5\\\n",
    "    or last_num == 7\\\n",
    "    or last_num == 9:\n",
    "    print(\"홀수입니다.\")"
   ]
  },
  {
   "cell_type": "code",
   "execution_count": 59,
   "id": "5fa919b4-1b1c-44e9-a6c7-9aca9ac209c4",
   "metadata": {
    "tags": []
   },
   "outputs": [
    {
     "name": "stdin",
     "output_type": "stream",
     "text": [
      "정수 입력>  2\n"
     ]
    },
    {
     "name": "stdout",
     "output_type": "stream",
     "text": [
      "2\n",
      "<class 'str'>\n",
      "짝수입니다.\n"
     ]
    }
   ],
   "source": [
    "num = input(\"정수 입력> \")\n",
    "\n",
    "# 마지막 자리 숫자를 추출\n",
    "last_str = num[-1]\n",
    "print(last_str)\n",
    "print(type(last_str))\n",
    "\n",
    "if last_str in \"02468\":\n",
    "    print(\"짝수입니다.\")\n",
    "if last_str in \"13579\":\n",
    "    print(\"홀수입니다.\")"
   ]
  },
  {
   "cell_type": "code",
   "execution_count": 60,
   "id": "f99743b5-7632-4733-bc2f-7a13ef9929d1",
   "metadata": {
    "tags": []
   },
   "outputs": [
    {
     "name": "stdin",
     "output_type": "stream",
     "text": [
      "정수 입력>  5\n"
     ]
    },
    {
     "name": "stdout",
     "output_type": "stream",
     "text": [
      "홀수입니다.\n"
     ]
    }
   ],
   "source": [
    "num = int(input(\"정수 입력> \"))\n",
    "\n",
    "# 짝수 조건\n",
    "if num % 2 == 0:\n",
    "    print(\"짝수입니다.\")\n",
    "if num % 2 == 1:\n",
    "    print(\"홀수입니다.\")"
   ]
  },
  {
   "cell_type": "code",
   "execution_count": 64,
   "id": "f56b7d7a-54d2-4881-8b84-10ca3d418bbb",
   "metadata": {
    "tags": []
   },
   "outputs": [
    {
     "name": "stdin",
     "output_type": "stream",
     "text": [
      "학점 입력>  1.5\n"
     ]
    },
    {
     "name": "stdout",
     "output_type": "stream",
     "text": [
      "불가촉천민\n"
     ]
    }
   ],
   "source": [
    "score = float(input(\"학점 입력> \"))\n",
    "\n",
    "# 조건문 생성\n",
    "if score == 4.5:\n",
    "    print(\"신\")\n",
    "elif 4.2 <= score:\n",
    "    print(\"교수님의 사랑\")\n",
    "elif 3.5 <= score:\n",
    "    print(\"현 체제의 수호자\")\n",
    "elif 2.8 <= score:\n",
    "    print(\"일반인\")\n",
    "elif 2.3 <= score:\n",
    "    print(\"일탈을 꿈꾸는 소시민\")\n",
    "elif 1.75 <= score:\n",
    "    print(\"오락문화의 선구자\")\n",
    "elif 1.0 <= score:\n",
    "    print(\"불가촉천민\")\n",
    "elif 0.5 <= score:\n",
    "    print(\"자벌레\")\n",
    "elif 0 < score:\n",
    "    print(\"플랑크톤\")\n",
    "elif 0 == score:\n",
    "    print(\"시대를 앞서가는 혁명의 씨앗\")\n",
    "else:\n",
    "    print(\"잘못 입력하셨습니다.\")"
   ]
  },
  {
   "cell_type": "code",
   "execution_count": 73,
   "id": "cbb883c4-5a5d-4705-9c38-44bdd97ba2ca",
   "metadata": {
    "tags": []
   },
   "outputs": [
    {
     "name": "stdout",
     "output_type": "stream",
     "text": [
      "0은 false로 변환됩니다.\n",
      "\n",
      "빈 문자열은 false로 변환됩니다.\n"
     ]
    }
   ],
   "source": [
    "# if 조건문에 0 넣기\n",
    "if 0:\n",
    "    print(\"0은 True로 변환됩니다.\")\n",
    "else:\n",
    "    print(\"0은 false로 변환됩니다.\")\n",
    "print()\n",
    "\n",
    "# if 조건문에 빈 문자열 넣기\n",
    "if \"\":\n",
    "    print(\"빈 문자열은 True로 변환됩니다.\")\n",
    "else:\n",
    "    print(\"빈 문자열은 false로 변환됩니다.\")\n",
    "# error\n",
    "# if zero == 0:\n",
    "# else:"
   ]
  },
  {
   "cell_type": "code",
   "execution_count": 74,
   "id": "f722da96-8f9a-49e0-8e3e-1b8af85b426b",
   "metadata": {
    "tags": []
   },
   "outputs": [
    {
     "ename": "IndentationError",
     "evalue": "expected an indented block after 'if' statement on line 4 (3323201974.py, line 6)",
     "output_type": "error",
     "traceback": [
      "\u001b[1;36m  Cell \u001b[1;32mIn[74], line 6\u001b[1;36m\u001b[0m\n\u001b[1;33m    else:\u001b[0m\n\u001b[1;37m    ^\u001b[0m\n\u001b[1;31mIndentationError\u001b[0m\u001b[1;31m:\u001b[0m expected an indented block after 'if' statement on line 4\n"
     ]
    }
   ],
   "source": [
    "num = int(input(\"정수 입력> \"))\n",
    "\n",
    "# 조건문\n",
    "if num > 0:\n",
    "    # 미구현\n",
    "else:\n",
    "    # 미구현"
   ]
  },
  {
   "cell_type": "code",
   "execution_count": 76,
   "id": "0ed4aaa4-6488-4caa-9ab3-e82d309fc0ce",
   "metadata": {
    "tags": []
   },
   "outputs": [
    {
     "name": "stdin",
     "output_type": "stream",
     "text": [
      "정수 입력>  0\n"
     ]
    }
   ],
   "source": [
    "num = int(input(\"정수 입력> \"))\n",
    "\n",
    "# 조건문\n",
    "if num > 0:\n",
    "    # 미구현\n",
    "    pass\n",
    "else:\n",
    "    # 미구현\n",
    "    pass"
   ]
  },
  {
   "cell_type": "markdown",
   "id": "95749636-49fc-418b-82d6-7fe230ce38d2",
   "metadata": {},
   "source": [
    "# 확인 문제"
   ]
  },
  {
   "cell_type": "markdown",
   "id": "93604502-7487-4f95-ac91-b188efd5f615",
   "metadata": {},
   "source": [
    "## 확인문제 1\n",
    "\n",
    "\"주머니에 돈이 있으면 택시를 타고, 주머니에 돈은 없지만 카드가 있으면 택시를 타고, 돈도 없고 카드도 없으면 걸어 가라.\""
   ]
  },
  {
   "cell_type": "code",
   "execution_count": 194,
   "id": "c9dcc148-4f82-4e40-8329-88bdc36260b2",
   "metadata": {
    "tags": []
   },
   "outputs": [
    {
     "name": "stdin",
     "output_type": "stream",
     "text": [
      "주머니에 뭐가 있나요? 1.돈 2.카드 3.없음 2\n"
     ]
    },
    {
     "name": "stdout",
     "output_type": "stream",
     "text": [
      "택시를 타세요.\n"
     ]
    }
   ],
   "source": [
    "str = input(\"주머니에 뭐가 있나요? 1.돈 2.카드 3.없음\")\n",
    "\n",
    "if str == \"1\" or str == \"2\" or str == \"돈\" or str == \"카드\" or str == \"card\":\n",
    "    print(\"택시를 타세요.\")\n",
    "elif str == \"3\" or str == \"없음\":\n",
    "    print(\"걸어가세요.\")\n",
    "else:\n",
    "    print(\"선택지를 입력해주세요.\")\n",
    "    str = input(\"주머니에 뭐가 있나요? 1.돈 2.카드 3.없음\")\n",
    "    if str == \"1\" or str == \"2\" or str == \"돈\" or str == \"카드\" or str == \"card\":\n",
    "        print(\"택시를 타세요.\")\n",
    "    elif str == \"3\" or str == \"없음\":\n",
    "        print(\"걸어가세요.\")"
   ]
  },
  {
   "cell_type": "code",
   "execution_count": 1,
   "id": "2f10614d-3273-4181-87f9-b1ec8cf8acd0",
   "metadata": {},
   "outputs": [
    {
     "name": "stdout",
     "output_type": "stream",
     "text": [
      "택시를 타세요.\n"
     ]
    }
   ],
   "source": [
    "# 포켓의 상태\n",
    "pocket = \"paper, pocket\"\n",
    "card = True\n",
    "\n",
    "if \"money\" in pocket:\n",
    "    print(\"택시를 타세요.\")\n",
    "elif card == True:\n",
    "    print(\"택시를 타세요.\")\n",
    "else:\n",
    "    print(\"걸어가세요\")"
   ]
  },
  {
   "cell_type": "code",
   "execution_count": null,
   "id": "9d1deb37-a6a8-4fcd-a64b-cc22e1cb2c95",
   "metadata": {},
   "outputs": [],
   "source": [
    "# 포켓의 상태\n",
    "pocket = \"paper, pocket\"\n",
    "card = True\n",
    "\n",
    "if \"money\" in pocket or card == True:\n",
    "    print(\"택시를 타세요.\")\n",
    "else:\n",
    "    print(\"걸어가세요\")"
   ]
  },
  {
   "cell_type": "markdown",
   "id": "a418e82e-6a3b-474c-9720-037efe688502",
   "metadata": {},
   "source": [
    "## 확인 문제2\n",
    "\n",
    "자판기 문제, \n",
    "돈을 넣고 => input()으로 입력 받음\n",
    "콜라, 사이다, 환타를 고를 수 있음 => input()으로 입력 받음\n",
    "한번에 1개만 고를 수 있음.\n",
    "고른 것에 따라 값을 차감하고 고른것과 잔돈을 출력함\n",
    "각각의 가격:\n",
    "콜라 : 500, 사이다 600, 환타 700 \n",
    "만약 : 입력값이 700원보다 작을 경우, \"잔돈이 부족합니다.\" 출력할것"
   ]
  },
  {
   "cell_type": "code",
   "execution_count": 164,
   "id": "5b8f6b32-929e-4042-a029-977ed9767a5e",
   "metadata": {
    "tags": []
   },
   "outputs": [
    {
     "ename": "KeyboardInterrupt",
     "evalue": "Interrupted by user",
     "output_type": "error",
     "traceback": [
      "\u001b[1;31m---------------------------------------------------------------------------\u001b[0m",
      "\u001b[1;31mKeyboardInterrupt\u001b[0m                         Traceback (most recent call last)",
      "Cell \u001b[1;32mIn[164], line 1\u001b[0m\n\u001b[1;32m----> 1\u001b[0m money \u001b[38;5;241m=\u001b[39m \u001b[38;5;28;43minput\u001b[39;49m\u001b[43m(\u001b[49m\u001b[38;5;124;43m\"\u001b[39;49m\u001b[38;5;124;43m돈을 넣어주세요.\u001b[39;49m\u001b[38;5;124;43m\"\u001b[39;49m\u001b[43m)\u001b[49m\n\u001b[0;32m      2\u001b[0m \u001b[38;5;28mprint\u001b[39m(money)\n\u001b[0;32m      3\u001b[0m coke \u001b[38;5;241m=\u001b[39m \u001b[38;5;241m500\u001b[39m\n",
      "File \u001b[1;32m~\\AppData\\Roaming\\Python\\Python310\\site-packages\\ipykernel\\kernelbase.py:1191\u001b[0m, in \u001b[0;36mKernel.raw_input\u001b[1;34m(self, prompt)\u001b[0m\n\u001b[0;32m   1189\u001b[0m     msg \u001b[38;5;241m=\u001b[39m \u001b[38;5;124m\"\u001b[39m\u001b[38;5;124mraw_input was called, but this frontend does not support input requests.\u001b[39m\u001b[38;5;124m\"\u001b[39m\n\u001b[0;32m   1190\u001b[0m     \u001b[38;5;28;01mraise\u001b[39;00m StdinNotImplementedError(msg)\n\u001b[1;32m-> 1191\u001b[0m \u001b[38;5;28;01mreturn\u001b[39;00m \u001b[38;5;28;43mself\u001b[39;49m\u001b[38;5;241;43m.\u001b[39;49m\u001b[43m_input_request\u001b[49m\u001b[43m(\u001b[49m\n\u001b[0;32m   1192\u001b[0m \u001b[43m    \u001b[49m\u001b[38;5;28;43mstr\u001b[39;49m\u001b[43m(\u001b[49m\u001b[43mprompt\u001b[49m\u001b[43m)\u001b[49m\u001b[43m,\u001b[49m\n\u001b[0;32m   1193\u001b[0m \u001b[43m    \u001b[49m\u001b[38;5;28;43mself\u001b[39;49m\u001b[38;5;241;43m.\u001b[39;49m\u001b[43m_parent_ident\u001b[49m\u001b[43m[\u001b[49m\u001b[38;5;124;43m\"\u001b[39;49m\u001b[38;5;124;43mshell\u001b[39;49m\u001b[38;5;124;43m\"\u001b[39;49m\u001b[43m]\u001b[49m\u001b[43m,\u001b[49m\n\u001b[0;32m   1194\u001b[0m \u001b[43m    \u001b[49m\u001b[38;5;28;43mself\u001b[39;49m\u001b[38;5;241;43m.\u001b[39;49m\u001b[43mget_parent\u001b[49m\u001b[43m(\u001b[49m\u001b[38;5;124;43m\"\u001b[39;49m\u001b[38;5;124;43mshell\u001b[39;49m\u001b[38;5;124;43m\"\u001b[39;49m\u001b[43m)\u001b[49m\u001b[43m,\u001b[49m\n\u001b[0;32m   1195\u001b[0m \u001b[43m    \u001b[49m\u001b[43mpassword\u001b[49m\u001b[38;5;241;43m=\u001b[39;49m\u001b[38;5;28;43;01mFalse\u001b[39;49;00m\u001b[43m,\u001b[49m\n\u001b[0;32m   1196\u001b[0m \u001b[43m\u001b[49m\u001b[43m)\u001b[49m\n",
      "File \u001b[1;32m~\\AppData\\Roaming\\Python\\Python310\\site-packages\\ipykernel\\kernelbase.py:1234\u001b[0m, in \u001b[0;36mKernel._input_request\u001b[1;34m(self, prompt, ident, parent, password)\u001b[0m\n\u001b[0;32m   1231\u001b[0m \u001b[38;5;28;01mexcept\u001b[39;00m \u001b[38;5;167;01mKeyboardInterrupt\u001b[39;00m:\n\u001b[0;32m   1232\u001b[0m     \u001b[38;5;66;03m# re-raise KeyboardInterrupt, to truncate traceback\u001b[39;00m\n\u001b[0;32m   1233\u001b[0m     msg \u001b[38;5;241m=\u001b[39m \u001b[38;5;124m\"\u001b[39m\u001b[38;5;124mInterrupted by user\u001b[39m\u001b[38;5;124m\"\u001b[39m\n\u001b[1;32m-> 1234\u001b[0m     \u001b[38;5;28;01mraise\u001b[39;00m \u001b[38;5;167;01mKeyboardInterrupt\u001b[39;00m(msg) \u001b[38;5;28;01mfrom\u001b[39;00m \u001b[38;5;28mNone\u001b[39m\n\u001b[0;32m   1235\u001b[0m \u001b[38;5;28;01mexcept\u001b[39;00m \u001b[38;5;167;01mException\u001b[39;00m:\n\u001b[0;32m   1236\u001b[0m     \u001b[38;5;28mself\u001b[39m\u001b[38;5;241m.\u001b[39mlog\u001b[38;5;241m.\u001b[39mwarning(\u001b[38;5;124m\"\u001b[39m\u001b[38;5;124mInvalid Message:\u001b[39m\u001b[38;5;124m\"\u001b[39m, exc_info\u001b[38;5;241m=\u001b[39m\u001b[38;5;28;01mTrue\u001b[39;00m)\n",
      "\u001b[1;31mKeyboardInterrupt\u001b[0m: Interrupted by user"
     ]
    }
   ],
   "source": [
    "money = input(\"돈을 넣어주세요.\")\n",
    "print(money)\n",
    "coke = 500\n",
    "cider = 600\n",
    "fanta = 700\n",
    "\n",
    "none = money == \"\"\n",
    "print(\"none\")\n",
    "print(none)\n",
    "moneyCk = isinstance(money, int)\n",
    "# nullCk = isinstance(money, \"\")\n",
    "print(moneyCk)\n",
    "print(noneCk)\n",
    "\n",
    "# money 가 숫자가 아닐 경우 False / 700원 보다 작을 경우 False / 공백일 경우 False / 숫자일 경우 True\n",
    "if moneyCk == False and none == False:\n",
    "    mInt = int(money)\n",
    "    if mInt < 700 and mInt < 0:\n",
    "        print(\"금액이 부족합니다.\")\n",
    "        money = input(\"돈을 더 넣어주세요.\")\n",
    "        mInt = int(money)\n",
    "        print(mInt)\n",
    "        mInt = mInt + mInt\n",
    "        print(\"계산: \", mInt)\n",
    "        drink = input(\"음료를 선택해주세요. 1.콜라 2.사이다 3.환타\")\n",
    "        if drink == \"1\" or drink == \"콜라\":\n",
    "            result = mInt - coke\n",
    "            reCoke = \"콜라\"\n",
    "            print(\"선택한 음료: \", reCoke, \" 잔돈: \", result, \"원\")\n",
    "        elif drink == \"2\" or drink == \"사이다\":\n",
    "            result = mInt - cider\n",
    "            reCider = \"사이다\"\n",
    "            print(\"선택한 음료: \", reCider, \" 잔돈: \", result, \"원\")\n",
    "        elif drink == \"3\" or drink == \"환타\":\n",
    "            result = mInt - fanta\n",
    "            reFanta = \"환타\"\n",
    "            print(\"선택한 음료: \", reFanta, \" 잔돈: \", result, \"원\")\n",
    "    else:\n",
    "        drink = input(\"음료를 선택해주세요. 1.콜라 2.사이다 3.환타\")\n",
    "        if drink == \"1\" or drink == \"콜라\":\n",
    "            result = mInt - coke\n",
    "            reCoke = \"콜라\"\n",
    "            print(\"선택한 음료: \", reCoke, \" 잔돈: \", result, \"원\")\n",
    "        elif drink == \"2\" or drink == \"사이다\":\n",
    "            result = mInt - cider\n",
    "            reCider = \"사이다\"\n",
    "            print(\"선택한 음료: \", reCider, \" 잔돈: \", result, \"원\")\n",
    "        elif drink == \"3\" or drink == \"환타\":\n",
    "            result = mInt - fanta\n",
    "            reFanta = \"환타\"\n",
    "            print(\"선택한 음료: \", reFanta, \" 잔돈: \", result, \"원\")\n",
    "elif moneyCk == True or none == True:\n",
    "    print(\"잘못 입력하셨습니다.\")\n",
    "    money = input(\"돈을 넣어주세요.\")\n",
    "    mInt = int(money)\n",
    "    print(mInt)\n",
    "    drink = input(\"음료를 선택해주세요. 1.콜라 2.사이다 3.환타\")\n",
    "    if drink == \"1\" or drink == \"콜라\":\n",
    "        result = mInt - coke\n",
    "        reCoke = \"콜라\"\n",
    "        print(\"선택한 음료: \", reCoke, \" 잔돈: \", result, \"원\")\n",
    "    elif drink == \"2\" or drink == \"사이다\":\n",
    "        result = mInt - cider\n",
    "        reCider = \"사이다\"\n",
    "        print(\"선택한 음료: \", reCider, \" 잔돈: \", result, \"원\")\n",
    "    elif drink == \"3\" or drink == \"환타\":\n",
    "        result = mInt - fanta\n",
    "        reFanta = \"환타\"\n",
    "        print(\"선택한 음료: \", reFanta, \" 잔돈: \", result, \"원\")"
   ]
  },
  {
   "cell_type": "markdown",
   "id": "4a54615e-05c2-4e8c-b72c-9139ca71055a",
   "metadata": {
    "tags": []
   },
   "source": [
    "- 돈 입력 받기 => input()\n",
    "- 입력 받은 돈이 700원 보다 작을 경우, \"잔돈이 부족합니다.\" 출력할 것\n",
    "- 700원 보다 클 때\n",
    "    - 콜라, 사이다, 환타 중 1개 고르기\n",
    "    - 각각의 가격 콜라: 500원 사이다: 600원 환타: 700원\n",
    "    - 입력 받은 금액 - 음료수 값 계산\n",
    "    - 계산한 값 출력"
   ]
  },
  {
   "cell_type": "code",
   "execution_count": 162,
   "id": "1fd3b3d5-43d7-4f6f-8f4f-5b3be8bd4a04",
   "metadata": {
    "tags": []
   },
   "outputs": [
    {
     "name": "stdin",
     "output_type": "stream",
     "text": [
      "돈을 넣어주세요. 1000\n"
     ]
    },
    {
     "name": "stdout",
     "output_type": "stream",
     "text": [
      "음료 고르기\n"
     ]
    },
    {
     "name": "stdin",
     "output_type": "stream",
     "text": [
      "음료를 고르세요. 1. 콜라, 2. 사이다, 3번. 환타 1\n"
     ]
    },
    {
     "name": "stdout",
     "output_type": "stream",
     "text": [
      "콜라를 선택했습니다. 잔돈은 500입니다.\n"
     ]
    }
   ],
   "source": [
    "money1 = int(input(\"돈을 넣어주세요.\"))\n",
    "\n",
    "# 입력 받은 돈이 700원보다 작을 경우, \"잔돈이 부족합니다.\" 출력할 것\n",
    "if money1 < 700:\n",
    "    \"잔돈이 부족합니다.\"\n",
    "else: # 700원 보다 크다\n",
    "      # 콜라, 사이다, 환타 고르기 : 1. 콜라, 2. 사이다, 3번. 환타\n",
    "    print(\"음료 고르기\")\n",
    "    choice_drink = input(\"음료를 고르세요. 1. 콜라, 2. 사이다, 3번. 환타\")\n",
    "    if choice_drink == \"1\" or choice_drink == \"콜라\":\n",
    "        print(f\"콜라를 선택했습니다. 잔돈은 {money1-500}입니다.\")\n",
    "    elif choice_drink == \"2\" or choice_drink == \"사이다\":\n",
    "        print(f\"콜라를 선택했습니다. 잔돈은 {money1-600}입니다.\")\n",
    "    elif choice_drink == \"3\" or choice_drink == \"환타\":\n",
    "        print(f\"콜라를 선택했습니다. 잔돈은 {money1-500}입니다.\")\n",
    "    else:\n",
    "        print(f\"선택한 음료가 없습니다. 잔돈은 {money1}입니다.\")"
   ]
  },
  {
   "cell_type": "markdown",
   "id": "6ed3e3f1-1f18-483b-8b39-d407a9a70856",
   "metadata": {
    "tags": []
   },
   "source": [
    "# 확인 문제3"
   ]
  },
  {
   "cell_type": "markdown",
   "id": "74cbb58e-f543-4f1e-a8bc-e59d0fd777a6",
   "metadata": {},
   "source": [
    "- 아래 조건을 추가\n",
    "    - 500원보다 작으면 잔돈이 부족합니다.\n",
    "    - 700 이상: 콜라, 사이다, 환타\n",
    "    - 600 이상: 콜라, 사이다\n",
    "    - 500 이상: 콜라"
   ]
  },
  {
   "cell_type": "code",
   "execution_count": 184,
   "id": "a0fd93d6-52c9-46e1-a74d-bab1d91671c9",
   "metadata": {
    "collapsed": true,
    "jupyter": {
     "outputs_hidden": true
    },
    "tags": []
   },
   "outputs": [
    {
     "name": "stdin",
     "output_type": "stream",
     "text": [
      "돈을 넣어주세요. 1000\n"
     ]
    },
    {
     "name": "stdout",
     "output_type": "stream",
     "text": [
      "1000\n",
      "none\n",
      "False\n",
      "False\n",
      "('', False)\n",
      "계산:  1000\n"
     ]
    },
    {
     "name": "stdin",
     "output_type": "stream",
     "text": [
      "음료를 선택해주세요. 1.콜라 2.사이다 3.환타 1\n"
     ]
    },
    {
     "name": "stdout",
     "output_type": "stream",
     "text": [
      "선택한 음료:  콜라  잔돈:  500 원\n"
     ]
    }
   ],
   "source": [
    "money = input(\"돈을 넣어주세요.\")\n",
    "print(money)\n",
    "coke = 500\n",
    "cider = 600\n",
    "fanta = 700\n",
    "\n",
    "none = money == \"\"\n",
    "print(\"none\")\n",
    "print(none)\n",
    "moneyCk = isinstance(money, int)\n",
    "# nullCk = isinstance(money, \"\")\n",
    "print(moneyCk)\n",
    "print(noneCk)\n",
    "\n",
    "# money 가 숫자가 아닐 경우 False / 700원 보다 작을 경우 False / 공백일 경우 False / 숫자일 경우 True\n",
    "if moneyCk == False and none == False:\n",
    "    mInt = int(money)\n",
    "    if mInt <= 400:\n",
    "        print(\"잔돈이 부족합니다.\")\n",
    "    elif 500 <= mInt < 600:\n",
    "        drink = input(\"콜라를 선택하실 수 있습니다. 1. 콜라 2. 선택 안함\")\n",
    "        if drink == \"1\" or drink == \"콜라\":\n",
    "            result = mInt - coke\n",
    "            reCoke = \"콜라\"\n",
    "            print(\"선택한 음료: \", reCoke, \" 잔돈: \", result, \"원\")\n",
    "        else:\n",
    "            print(f\"선택한 음료가 없습니다. 잔돈은 {result}입니다.\")\n",
    "    elif 600 <= mInt < 700:\n",
    "        drink = input(\"음료를 선택해주세요. 1.콜라 2.사이다\")\n",
    "        if drink == \"1\" or drink == \"콜라\":\n",
    "            result = mInt - coke\n",
    "            reCoke = \"콜라\"\n",
    "            print(\"선택한 음료: \", reCoke, \" 잔돈: \", result, \"원\")\n",
    "        elif drink == \"2\" or drink == \"사이다\":\n",
    "            result = mInt - cider\n",
    "            reCider = \"사이다\"\n",
    "            print(\"선택한 음료: \", reCider, \" 잔돈: \", result, \"원\")\n",
    "    elif 700 <= mInt:\n",
    "        print(\"계산: \", mInt)\n",
    "        drink = input(\"음료를 선택해주세요. 1.콜라 2.사이다 3.환타\")\n",
    "        if drink == \"1\" or drink == \"콜라\":\n",
    "            result = mInt - coke\n",
    "            reCoke = \"콜라\"\n",
    "            print(\"선택한 음료: \", reCoke, \" 잔돈: \", result, \"원\")\n",
    "        elif drink == \"2\" or drink == \"사이다\":\n",
    "            result = mInt - cider\n",
    "            reCider = \"사이다\"\n",
    "            print(\"선택한 음료: \", reCider, \" 잔돈: \", result, \"원\")\n",
    "        elif drink == \"3\" or drink == \"환타\":\n",
    "            result = mInt - fanta\n",
    "            reFanta = \"환타\"\n",
    "            print(\"선택한 음료: \", reFanta, \" 잔돈: \", result, \"원\")\n",
    "elif moneyCk == True or none == True:\n",
    "    print(\"잘못 입력하셨습니다.\")\n",
    "    money = input(\"돈을 넣어주세요.\")\n",
    "    mInt = int(money)\n",
    "    print(mInt)\n",
    "    drink = input(\"음료를 선택해주세요. 1.콜라 2.사이다 3.환타\")\n",
    "    if drink == \"1\" or drink == \"콜라\":\n",
    "        result = mInt - coke\n",
    "        reCoke = \"콜라\"\n",
    "        print(\"선택한 음료: \", reCoke, \" 잔돈: \", result, \"원\")\n",
    "    elif drink == \"2\" or drink == \"사이다\":\n",
    "        result = mInt - cider\n",
    "        reCider = \"사이다\"\n",
    "        print(\"선택한 음료: \", reCider, \" 잔돈: \", result, \"원\")\n",
    "    elif drink == \"3\" or drink == \"환타\":\n",
    "        result = mInt - fanta\n",
    "        reFanta = \"환타\"\n",
    "        print(\"선택한 음료: \", reFanta, \" 잔돈: \", result, \"원\")"
   ]
  },
  {
   "cell_type": "code",
   "execution_count": null,
   "id": "f42c2e6b-06ff-48e5-9a7b-ff79339c7572",
   "metadata": {},
   "outputs": [],
   "source": [
    "# 강사님 코드\n",
    "\n",
    "# 입력받은 돈이 500원보다 작을 경우, \"잔돈이 부족합니다.\" 출력할것\n",
    "money = eval(input(\"돈을 입력하세요 예) 1000 >> \"))\n",
    "\n",
    "if money < 500:\n",
    "    print(\"잔돈이 부족합니다.\")\n",
    "else:  # money >= 500 \n",
    "    if money >= 700:\n",
    "        choice_drink = int(input(\"음료를 고르세요 예)1.콜라, 2.사이다, 3.환타 >> \"))    \n",
    "    elif money >= 600:\n",
    "        choice_drink = int(input(\"음료를 고르세요 예)1.콜라, 2.사이다 >> \"))    \n",
    "    elif money >= 500:\n",
    "        choice_drink = int(input(\"음료를 고르세요 1.콜라만 고를 수 있어요.>> \"))    \n",
    "\n",
    "    # print(choice_drink)\n",
    "    # 각각의 가격: 콜라 500, 사이다 600, 환타 700\n",
    "    if choice_drink == 1:\n",
    "        print(f\"콜라를 선택하였습니다. 잔돈은 {money - 500}입니다.\")\n",
    "    elif choice_drink == 2:\n",
    "        print(f\"사이다를 선택하였습니다. 잔돈은 {money - 600}입니다.\")\n",
    "    elif choice_drink == 3:\n",
    "        print(f\"환타를 선택하였습니다. 잔돈은 {money - 700}입니다.\")\n",
    "    else:\n",
    "        print(\"선택한 음료는 없습니다.\")"
   ]
  },
  {
   "cell_type": "code",
   "execution_count": 181,
   "id": "baa9a9c7-69b2-4bdc-81b7-12ce015371c9",
   "metadata": {
    "tags": []
   },
   "outputs": [
    {
     "name": "stdin",
     "output_type": "stream",
     "text": [
      "돈을 넣어주세요. kkjk\n"
     ]
    },
    {
     "name": "stdout",
     "output_type": "stream",
     "text": [
      "kkjk\n",
      "none\n",
      "False\n",
      "False\n"
     ]
    },
    {
     "ename": "ValueError",
     "evalue": "invalid literal for int() with base 10: 'kkjk'",
     "output_type": "error",
     "traceback": [
      "\u001b[1;31m---------------------------------------------------------------------------\u001b[0m",
      "\u001b[1;31mValueError\u001b[0m                                Traceback (most recent call last)",
      "Cell \u001b[1;32mIn[181], line 16\u001b[0m\n\u001b[0;32m     14\u001b[0m \u001b[38;5;66;03m# money 가 숫자가 아닐 경우 False / 700원 보다 작을 경우 False / 공백일 경우 False / 숫자일 경우 True\u001b[39;00m\n\u001b[0;32m     15\u001b[0m \u001b[38;5;28;01mif\u001b[39;00m moneyCk \u001b[38;5;241m==\u001b[39m \u001b[38;5;28;01mFalse\u001b[39;00m \u001b[38;5;129;01mand\u001b[39;00m none \u001b[38;5;241m==\u001b[39m \u001b[38;5;28;01mFalse\u001b[39;00m:\n\u001b[1;32m---> 16\u001b[0m     mInt \u001b[38;5;241m=\u001b[39m \u001b[38;5;28;43mint\u001b[39;49m\u001b[43m(\u001b[49m\u001b[43mmoney\u001b[49m\u001b[43m)\u001b[49m\n\u001b[0;32m     17\u001b[0m     \u001b[38;5;28;01mif\u001b[39;00m mInt \u001b[38;5;241m<\u001b[39m\u001b[38;5;241m=\u001b[39m \u001b[38;5;241m400\u001b[39m:\n\u001b[0;32m     18\u001b[0m         \u001b[38;5;28mprint\u001b[39m(\u001b[38;5;124m\"\u001b[39m\u001b[38;5;124m잔돈이 부족합니다.\u001b[39m\u001b[38;5;124m\"\u001b[39m)\n",
      "\u001b[1;31mValueError\u001b[0m: invalid literal for int() with base 10: 'kkjk'"
     ]
    }
   ],
   "source": [
    "money = input(\"돈을 넣어주세요.\")\n",
    "print(money)\n",
    "coke = 500\n",
    "cider = 600\n",
    "fanta = 700\n",
    "\n",
    "none = money == \"\"\n",
    "print(\"none\")\n",
    "print(none)\n",
    "moneyCk = isinstance(money, int)\n",
    "# nullCk = isinstance(money, \"\")\n",
    "print(moneyCk)\n",
    "\n",
    "# money 가 숫자가 아닐 경우 False / 700원 보다 작을 경우 False / 공백일 경우 False / 숫자일 경우 True\n",
    "if moneyCk == False and none == False:\n",
    "    mInt = int(money)\n",
    "    if mInt <= 400:\n",
    "        print(\"잔돈이 부족합니다.\")\n",
    "    elif 500 <= mInt < 600:\n",
    "        drink = input(\"콜라를 선택하실 수 있습니다. 1. 콜라 2. 선택 안함\")\n",
    "        if drink == \"1\" or drink == \"콜라\":\n",
    "            result = mInt - coke\n",
    "            reCoke = \"콜라\"\n",
    "            print(\"선택한 음료: \", reCoke, \" 잔돈: \", result, \"원\")\n",
    "        else:\n",
    "            print(f\"선택한 음료가 없습니다. 잔돈은 {result}입니다.\")\n",
    "    elif 600 <= mInt < 700:\n",
    "        drink = input(\"음료를 선택해주세요. 1.콜라 2.사이다\")\n",
    "        if drink == \"1\" or drink == \"콜라\":\n",
    "            result = mInt - coke\n",
    "            reCoke = \"콜라\"\n",
    "            print(\"선택한 음료: \", reCoke, \" 잔돈: \", result, \"원\")\n",
    "        elif drink == \"2\" or drink == \"사이다\":\n",
    "            result = mInt - cider\n",
    "            reCider = \"사이다\"\n",
    "            print(\"선택한 음료: \", reCider, \" 잔돈: \", result, \"원\")\n",
    "    elif 700 <= mInt:\n",
    "        print(\"계산: \", mInt)\n",
    "        drink = input(\"음료를 선택해주세요. 1.콜라 2.사이다 3.환타\")\n",
    "        if drink == \"1\" or drink == \"콜라\":\n",
    "            result = mInt - coke\n",
    "            reCoke = \"콜라\"\n",
    "            print(\"선택한 음료: \", reCoke, \" 잔돈: \", result, \"원\")\n",
    "        elif drink == \"2\" or drink == \"사이다\":\n",
    "            result = mInt - cider\n",
    "            reCider = \"사이다\"\n",
    "            print(\"선택한 음료: \", reCider, \" 잔돈: \", result, \"원\")\n",
    "        elif drink == \"3\" or drink == \"환타\":\n",
    "            result = mInt - fanta\n",
    "            reFanta = \"환타\"\n",
    "            print(\"선택한 음료: \", reFanta, \" 잔돈: \", result, \"원\")\n",
    "elif moneyCk == True or none == True:\n",
    "    print(\"잘못 입력하셨습니다.\")\n",
    "    money = input(\"돈을 넣어주세요.\")\n",
    "    mInt = int(money)\n",
    "    print(mInt)\n",
    "    if mInt < 500:\n",
    "        print(\"금액이 부족합니다.\")\n",
    "        money = input(\"돈을 더 넣어주세요.\")\n",
    "        mInt1 = int(money)\n",
    "        print(mInt)\n",
    "        mInt = mInt + mInt1\n",
    "        if mInt < 500:\n",
    "            print(\"금액이 부족합니다.\")\n",
    "            money = input(\"돈을 더 넣어주세요.\")\n",
    "            mInt2 = int(money)\n",
    "            print(mInt)\n",
    "            mInt = mInt + mInt2\n",
    "        print(\"계산: \", mInt)\n",
    "        if 500 <= mInt < 600:\n",
    "            drink = input(\"콜라를 선택하실 수 있습니다. 1. 콜라 2. 선택 안함\")\n",
    "            if drink == \"1\" or drink == \"콜라\":\n",
    "                result = mInt - coke\n",
    "                reCoke = \"콜라\"\n",
    "                print(\"선택한 음료: \", reCoke, \" 잔돈: \", result, \"원\")\n",
    "            else:\n",
    "                print(f\"선택한 음료가 없습니다. 잔돈은 {result}입니다.\")\n",
    "        elif 600 <= mInt < 700:\n",
    "            drink = input(\"음료를 선택해주세요. 1.콜라 2.사이다\")\n",
    "            if drink == \"1\" or drink == \"콜라\":\n",
    "                result = mInt - coke\n",
    "                reCoke = \"콜라\"\n",
    "                print(\"선택한 음료: \", reCoke, \" 잔돈: \", result, \"원\")\n",
    "            elif drink == \"2\" or drink == \"사이다\":\n",
    "                result = mInt - cider\n",
    "                reCider = \"사이다\"\n",
    "                print(\"선택한 음료: \", reCider, \" 잔돈: \", result, \"원\")\n",
    "        elif 700 <= mInt:\n",
    "            print(\"계산: \", mInt)\n",
    "            drink = input(\"음료를 선택해주세요. 1.콜라 2.사이다 3.환타\")\n",
    "            if drink == \"1\" or drink == \"콜라\":\n",
    "                result = mInt - coke\n",
    "                reCoke = \"콜라\"\n",
    "                print(\"선택한 음료: \", reCoke, \" 잔돈: \", result, \"원\")\n",
    "            elif drink == \"2\" or drink == \"사이다\":\n",
    "                result = mInt - cider\n",
    "                reCider = \"사이다\"\n",
    "                print(\"선택한 음료: \", reCider, \" 잔돈: \", result, \"원\")\n",
    "            elif drink == \"3\" or drink == \"환타\":\n",
    "                result = mInt - fanta\n",
    "                reFanta = \"환타\"\n",
    "                print(\"선택한 음료: \", reFanta, \" 잔돈: \", result, \"원\")\n",
    "    elif 500 <= mInt < 600:\n",
    "        drink = input(\"콜라를 선택하실 수 있습니다. 1. 콜라 2. 선택 안함\")\n",
    "        if drink == \"1\" or drink == \"콜라\":\n",
    "            result = mInt - coke\n",
    "            reCoke = \"콜라\"\n",
    "            print(\"선택한 음료: \", reCoke, \" 잔돈: \", result, \"원\")\n",
    "        else:\n",
    "            print(f\"선택한 음료가 없습니다. 잔돈은 {result}입니다.\")\n",
    "    elif 600 <= mInt < 700:\n",
    "        drink = input(\"음료를 선택해주세요. 1.콜라 2.사이다\")\n",
    "        if drink == \"1\" or drink == \"콜라\":\n",
    "            result = mInt - coke\n",
    "            reCoke = \"콜라\"\n",
    "            print(\"선택한 음료: \", reCoke, \" 잔돈: \", result, \"원\")\n",
    "        elif drink == \"2\" or drink == \"사이다\":\n",
    "            result = mInt - cider\n",
    "            reCider = \"사이다\"\n",
    "            print(\"선택한 음료: \", reCider, \" 잔돈: \", result, \"원\")\n",
    "    elif 700 <= mInt:\n",
    "        print(\"계산: \", mInt)\n",
    "        drink = input(\"음료를 선택해주세요. 1.콜라 2.사이다 3.환타\")\n",
    "        if drink == \"1\" or drink == \"콜라\":\n",
    "            result = mInt - coke\n",
    "            reCoke = \"콜라\"\n",
    "            print(\"선택한 음료: \", reCoke, \" 잔돈: \", result, \"원\")\n",
    "        elif drink == \"2\" or drink == \"사이다\":\n",
    "            result = mInt - cider\n",
    "            reCider = \"사이다\"\n",
    "            print(\"선택한 음료: \", reCider, \" 잔돈: \", result, \"원\")\n",
    "        elif drink == \"3\" or drink == \"환타\":\n",
    "            result = mInt - fanta\n",
    "            reFanta = \"환타\"\n",
    "            print(\"선택한 음료: \", reFanta, \" 잔돈: \", result, \"원\")\n",
    "            \n",
    "            "
   ]
  },
  {
   "cell_type": "markdown",
   "id": "6a9fbbb8-73fc-4321-bc1c-ec8450705075",
   "metadata": {},
   "source": [
    "# 리스트(list)"
   ]
  },
  {
   "cell_type": "code",
   "execution_count": 2,
   "id": "6f4172b6-24b7-4212-a01b-a8471c8d492b",
   "metadata": {
    "tags": []
   },
   "outputs": [
    {
     "data": {
      "text/plain": [
       "[1, 3, 4, 'joy', [3, 4, 5]]"
      ]
     },
     "execution_count": 2,
     "metadata": {},
     "output_type": "execute_result"
    }
   ],
   "source": [
    "[1, 3, 4, \"joy\", [3, 4, 5]]"
   ]
  },
  {
   "cell_type": "code",
   "execution_count": 3,
   "id": "c5fcb631-e716-424f-ab6e-e9a5ffa46a55",
   "metadata": {
    "tags": []
   },
   "outputs": [],
   "source": [
    "item = [1, 3, 4, \"joy\", [3, 4, 5]]"
   ]
  },
  {
   "cell_type": "code",
   "execution_count": 4,
   "id": "d55df398-4eae-437b-87a9-8b000e927fd4",
   "metadata": {
    "tags": []
   },
   "outputs": [
    {
     "data": {
      "text/plain": [
       "[1, 3, 4, 'joy', [3, 4, 5]]"
      ]
     },
     "execution_count": 4,
     "metadata": {},
     "output_type": "execute_result"
    }
   ],
   "source": [
    "item"
   ]
  },
  {
   "cell_type": "code",
   "execution_count": 5,
   "id": "f8ed90c8-bd87-428b-9cbc-320f9d02ad35",
   "metadata": {
    "tags": []
   },
   "outputs": [
    {
     "data": {
      "text/plain": [
       "1"
      ]
     },
     "execution_count": 5,
     "metadata": {},
     "output_type": "execute_result"
    }
   ],
   "source": [
    "item[0]"
   ]
  },
  {
   "cell_type": "code",
   "execution_count": 6,
   "id": "132aa9eb-45e7-4544-ba8d-bc34c07a5524",
   "metadata": {
    "tags": []
   },
   "outputs": [],
   "source": [
    "a_str = \"안녕 하세요.\""
   ]
  },
  {
   "cell_type": "code",
   "execution_count": 7,
   "id": "8b1e2432-a58e-4f65-88ff-2f7637314a6a",
   "metadata": {
    "tags": []
   },
   "outputs": [
    {
     "data": {
      "text/plain": [
       "'안'"
      ]
     },
     "execution_count": 7,
     "metadata": {},
     "output_type": "execute_result"
    }
   ],
   "source": [
    "# 인덱싱 뷰어\n",
    "\"안녕하세요.\"[0]"
   ]
  },
  {
   "cell_type": "code",
   "execution_count": 8,
   "id": "a144f91f-d1a9-4750-a8fc-4aae012cda18",
   "metadata": {
    "tags": []
   },
   "outputs": [
    {
     "data": {
      "text/plain": [
       "3"
      ]
     },
     "execution_count": 8,
     "metadata": {},
     "output_type": "execute_result"
    }
   ],
   "source": [
    "item[4][0]"
   ]
  },
  {
   "cell_type": "code",
   "execution_count": 11,
   "id": "f93f1956-3efd-4302-911b-c9ab62bffed8",
   "metadata": {
    "tags": []
   },
   "outputs": [
    {
     "data": {
      "text/plain": [
       "['안', '녕', '하', '세', '요']"
      ]
     },
     "execution_count": 11,
     "metadata": {},
     "output_type": "execute_result"
    }
   ],
   "source": [
    "hello = \"안 녕 하 세 요\".split(\" \")\n",
    "hello"
   ]
  },
  {
   "cell_type": "code",
   "execution_count": 12,
   "id": "8032cfc0-ac40-4292-a80a-6fd0df8c0e6e",
   "metadata": {
    "tags": []
   },
   "outputs": [
    {
     "name": "stdout",
     "output_type": "stream",
     "text": [
      "['안', '녕', '하', '세', True]\n"
     ]
    }
   ],
   "source": [
    "hello[4] = True\n",
    "print(hello)"
   ]
  },
  {
   "cell_type": "code",
   "execution_count": 13,
   "id": "238b6266-0a1f-4e8d-9720-dfa4168fc435",
   "metadata": {
    "tags": []
   },
   "outputs": [],
   "source": [
    "hello[3] = [\"hi\", \"hello\"]"
   ]
  },
  {
   "cell_type": "code",
   "execution_count": 14,
   "id": "1a5943f3-2eb8-41de-a4a2-bee7f5147ced",
   "metadata": {
    "tags": []
   },
   "outputs": [
    {
     "data": {
      "text/plain": [
       "['안', '녕', '하', ['hi', 'hello'], True]"
      ]
     },
     "execution_count": 14,
     "metadata": {},
     "output_type": "execute_result"
    }
   ],
   "source": [
    "hello"
   ]
  },
  {
   "cell_type": "code",
   "execution_count": 15,
   "id": "8caa95b1-2730-49d4-a209-ab9f8d066d4e",
   "metadata": {
    "tags": []
   },
   "outputs": [
    {
     "data": {
      "text/plain": [
       "[1, '녕', '하', ['hi', 'hello'], True]"
      ]
     },
     "execution_count": 15,
     "metadata": {},
     "output_type": "execute_result"
    }
   ],
   "source": [
    "hello[0] = 1\n",
    "hello"
   ]
  },
  {
   "cell_type": "code",
   "execution_count": 16,
   "id": "358f7a6a-87fc-4e3e-a670-e0bff6bc7db4",
   "metadata": {
    "tags": []
   },
   "outputs": [
    {
     "data": {
      "text/plain": [
       "[1, '녕']"
      ]
     },
     "execution_count": 16,
     "metadata": {},
     "output_type": "execute_result"
    }
   ],
   "source": [
    "hello[0:2]"
   ]
  },
  {
   "cell_type": "code",
   "execution_count": 17,
   "id": "9cfc8091-b0c0-4b77-ab0e-3a3a2b5d3bd6",
   "metadata": {
    "tags": []
   },
   "outputs": [
    {
     "data": {
      "text/plain": [
       "[1, '녕', '하']"
      ]
     },
     "execution_count": 17,
     "metadata": {},
     "output_type": "execute_result"
    }
   ],
   "source": [
    "hello[0:3]"
   ]
  },
  {
   "cell_type": "code",
   "execution_count": 18,
   "id": "b416fe89-8caa-46b4-922c-584f41fd2f75",
   "metadata": {
    "tags": []
   },
   "outputs": [
    {
     "data": {
      "text/plain": [
       "[1, '녕', '하', ['hi', 'hello']]"
      ]
     },
     "execution_count": 18,
     "metadata": {},
     "output_type": "execute_result"
    }
   ],
   "source": [
    "hello[0:4]"
   ]
  },
  {
   "cell_type": "code",
   "execution_count": 20,
   "id": "8964e10f-2b90-4056-b8ad-87d58e8b6a8a",
   "metadata": {
    "tags": []
   },
   "outputs": [
    {
     "data": {
      "text/plain": [
       "[1, '녕', '하', ['hi', 'hello'], True]"
      ]
     },
     "execution_count": 20,
     "metadata": {},
     "output_type": "execute_result"
    }
   ],
   "source": [
    "# hello[0:연산자 사용 가능]\n",
    "hello[0:2+3]"
   ]
  },
  {
   "cell_type": "code",
   "execution_count": 21,
   "id": "8330e697-b7a9-4a5f-a7f7-e14249ff0314",
   "metadata": {
    "tags": []
   },
   "outputs": [
    {
     "data": {
      "text/plain": [
       "[['hi', 'hello'], True]"
      ]
     },
     "execution_count": 21,
     "metadata": {},
     "output_type": "execute_result"
    }
   ],
   "source": [
    "hello[3:5]"
   ]
  },
  {
   "cell_type": "code",
   "execution_count": 23,
   "id": "217c4f97-280e-42ad-81c5-0da45b23d2d0",
   "metadata": {
    "tags": []
   },
   "outputs": [
    {
     "data": {
      "text/plain": [
       "[]"
      ]
     },
     "execution_count": 23,
     "metadata": {},
     "output_type": "execute_result"
    }
   ],
   "source": [
    "# list array 는 배열을 벗어나도 오류가 나지 않음\n",
    "hello[6:7]"
   ]
  },
  {
   "cell_type": "code",
   "execution_count": 25,
   "id": "a3b54377-f246-487a-8d57-7a1886dd893b",
   "metadata": {
    "tags": []
   },
   "outputs": [
    {
     "name": "stdout",
     "output_type": "stream",
     "text": [
      "['하']\n"
     ]
    },
    {
     "data": {
      "text/plain": [
       "['하']"
      ]
     },
     "execution_count": 25,
     "metadata": {},
     "output_type": "execute_result"
    }
   ],
   "source": [
    "print(hello[2:3])\n",
    "a = hello[2:3]\n",
    "a"
   ]
  },
  {
   "cell_type": "code",
   "execution_count": 26,
   "id": "c790e5cb-9fd8-47b2-8f7d-6c557b4c5e9c",
   "metadata": {
    "tags": []
   },
   "outputs": [
    {
     "data": {
      "text/plain": [
       "'하'"
      ]
     },
     "execution_count": 26,
     "metadata": {},
     "output_type": "execute_result"
    }
   ],
   "source": [
    "a[0]"
   ]
  },
  {
   "cell_type": "code",
   "execution_count": 28,
   "id": "cd432747-9526-43fe-bd7d-8926e0a98299",
   "metadata": {
    "tags": []
   },
   "outputs": [
    {
     "data": {
      "text/plain": [
       "True"
      ]
     },
     "execution_count": 28,
     "metadata": {},
     "output_type": "execute_result"
    }
   ],
   "source": [
    "# 음수로 배열을 가져올 경우 마지막 배열부터 가져온다\n",
    "hello[-1]"
   ]
  },
  {
   "cell_type": "code",
   "execution_count": 37,
   "id": "0dea9528-746b-4fa1-9c1c-0188f1438303",
   "metadata": {
    "tags": []
   },
   "outputs": [
    {
     "data": {
      "text/plain": [
       "['하', ['hi', 'hello']]"
      ]
     },
     "execution_count": 37,
     "metadata": {},
     "output_type": "execute_result"
    }
   ],
   "source": [
    "# hello[start:end] start or end 생략 가능 생략할 시 모두 포함함\n",
    "hello[-3:-1]"
   ]
  },
  {
   "cell_type": "code",
   "execution_count": 34,
   "id": "9b02a662-4dc2-49c3-a4eb-aa5a283e982e",
   "metadata": {
    "tags": []
   },
   "outputs": [
    {
     "data": {
      "text/plain": [
       "['하', ['hi', 'hello'], True]"
      ]
     },
     "execution_count": 34,
     "metadata": {},
     "output_type": "execute_result"
    }
   ],
   "source": [
    "hello[-3:]"
   ]
  },
  {
   "cell_type": "code",
   "execution_count": 35,
   "id": "ee77475a-b2a4-4213-8146-7fedb0a32ca1",
   "metadata": {
    "tags": []
   },
   "outputs": [
    {
     "data": {
      "text/plain": [
       "[1, '녕', '하', ['hi', 'hello']]"
      ]
     },
     "execution_count": 35,
     "metadata": {},
     "output_type": "execute_result"
    }
   ],
   "source": [
    "hello[:-1]"
   ]
  },
  {
   "cell_type": "markdown",
   "id": "dd8feaa6-7224-4b6d-a2b7-b970908733ff",
   "metadata": {},
   "source": [
    "# Array: 이중 리스트[list]"
   ]
  },
  {
   "cell_type": "code",
   "execution_count": 40,
   "id": "a22d4d81-0d95-497a-9c48-a42c6e7306eb",
   "metadata": {
    "tags": []
   },
   "outputs": [
    {
     "data": {
      "text/plain": [
       "[[1, 2, 3], [4, 5, 6], [7, 8, 9]]"
      ]
     },
     "execution_count": 40,
     "metadata": {},
     "output_type": "execute_result"
    }
   ],
   "source": [
    "list_a = [[1, 2, 3], [4, 5, 6], [7, 8, 9]]\n",
    "list_a"
   ]
  },
  {
   "cell_type": "code",
   "execution_count": 41,
   "id": "a8b5e111-c9e9-4822-80f3-3fb0db7d95ee",
   "metadata": {
    "tags": []
   },
   "outputs": [
    {
     "name": "stdout",
     "output_type": "stream",
     "text": [
      "[1, 2, 3]\n",
      "[4, 5, 6]\n",
      "[7, 8, 9]\n"
     ]
    }
   ],
   "source": [
    "print(list_a[0])\n",
    "print(list_a[1])\n",
    "print(list_a[2])"
   ]
  },
  {
   "cell_type": "code",
   "execution_count": 45,
   "id": "46c158aa-5331-4373-8f28-408eb3239833",
   "metadata": {
    "tags": []
   },
   "outputs": [
    {
     "name": "stdout",
     "output_type": "stream",
     "text": [
      "2\n",
      "4\n",
      "8\n",
      "6\n"
     ]
    }
   ],
   "source": [
    "# array 안 array 값을 참조 할 때\n",
    "print(list_a[0][1])\n",
    "print(list_a[1][0])\n",
    "print(list_a[2][1])\n",
    "print(list_a[1][2])"
   ]
  },
  {
   "cell_type": "code",
   "execution_count": 46,
   "id": "a8177724-ebfa-4834-8232-acab3e17941d",
   "metadata": {
    "tags": []
   },
   "outputs": [
    {
     "ename": "IndexError",
     "evalue": "list index out of range",
     "output_type": "error",
     "traceback": [
      "\u001b[1;31m---------------------------------------------------------------------------\u001b[0m",
      "\u001b[1;31mIndexError\u001b[0m                                Traceback (most recent call last)",
      "Cell \u001b[1;32mIn[46], line 1\u001b[0m\n\u001b[1;32m----> 1\u001b[0m \u001b[43mlist_a\u001b[49m\u001b[43m[\u001b[49m\u001b[38;5;241;43m3\u001b[39;49m\u001b[43m]\u001b[49m\n",
      "\u001b[1;31mIndexError\u001b[0m: list index out of range"
     ]
    }
   ],
   "source": [
    "# 슬라이싱 할 때는 배열 값을 벗어나도 오류가 나지 않지만 단독 사용할 경우에는 오류가 남\n",
    "list_a[3]"
   ]
  },
  {
   "cell_type": "code",
   "execution_count": 48,
   "id": "946fa690-841f-49dc-8bf0-c939832b066e",
   "metadata": {
    "tags": []
   },
   "outputs": [
    {
     "name": "stdout",
     "output_type": "stream",
     "text": [
      "list_a=  [1, 2, 3]\n",
      "list_b=  [4, 5, 6]\n",
      "list_a + list_b= [1, 2, 3, 4, 5, 6]\n",
      "list_a*3=  [1, 2, 3, 1, 2, 3, 1, 2, 3]\n",
      "len(list_a)= 3\n"
     ]
    }
   ],
   "source": [
    "list_a = [1, 2, 3]\n",
    "list_b = [4, 5, 6]\n",
    "\n",
    "print(\"list_a= \", list_a)\n",
    "print(\"list_b= \", list_b)\n",
    "print(\"list_a + list_b=\", list_a + list_b)\n",
    "print(\"list_a*3= \", list_a*3)\n",
    "print(\"len(list_a)=\", len(list_a))"
   ]
  },
  {
   "cell_type": "code",
   "execution_count": 72,
   "id": "761b6046-16f3-4df9-8c0a-7ae0fe583ae9",
   "metadata": {
    "tags": []
   },
   "outputs": [],
   "source": [
    "# array 요소 추가\n",
    "# list_a.append(1)\n",
    "# print(list_a)\n",
    "\n",
    "# list 원하는 곳에 요소 추가\n",
    "# list_a.insert(2, 7)\n",
    "# print(list_a)\n",
    "\n",
    "# 기존 list 뒤에 리스트 요소 모두 추가\n",
    "# list_a.extend([4, 3, 8])\n",
    "# print(list_a)\n",
    "\n",
    "# list 연결과 요소 직접 추가의 차이\n",
    "# list_a + list_b # list 연결\n",
    "# print(list_a+list_b) # 하나의 배열처럼 출력됨 ex.[1, 2, 3, 4, 5, 6,]\n",
    "# print(list_a) # 기존 배열 변함 없음\n",
    "# print(list_b) # 기존 배열 변화 없음\n",
    "\n",
    "# list_a.extend(list_b) # list_a의 list_b 배열 요소를 추가\n",
    "# print(list_a) # 기존 배열에 배열이 추가된 값\n",
    "# print(list_b) # list_a 로 배열이 추가되었지만 기존 배열은 사라지지 않음\n",
    "\n",
    "# list 자체를 제거\n",
    "# del list_a\n",
    "# print(list_a)\n",
    "\n",
    "list_a = [1, 2, 3]\n",
    "\n",
    "# list 요소를 제거\n",
    "# del list_a[0]\n",
    "# print(list_a)\n",
    "\n",
    "# pop(요소 위치): 요소 위치를 넣지 않을 경우 마지막 배열이 제거됨\n",
    "# list_a.pop()\n",
    "# print(list_a)"
   ]
  },
  {
   "cell_type": "code",
   "execution_count": 76,
   "id": "e92a2cd5-7b04-488f-8045-f4577c4fe3aa",
   "metadata": {
    "tags": []
   },
   "outputs": [
    {
     "name": "stdout",
     "output_type": "stream",
     "text": [
      "[1, 2, 4, 5, 6]\n",
      "3\n"
     ]
    }
   ],
   "source": [
    "list_a = [1, 2, 3, 4, 5, 6]\n",
    "\n",
    "pop_data = list_a.pop(2)\n",
    "print(list_a)\n",
    "print(pop_data) # pop을 사용할 때 pop으로 빼준 값을 변수에 담을 수 있음"
   ]
  },
  {
   "cell_type": "code",
   "execution_count": 87,
   "id": "86eca288-f4dd-4845-b9e2-27634f28ffa4",
   "metadata": {
    "tags": []
   },
   "outputs": [
    {
     "name": "stdout",
     "output_type": "stream",
     "text": [
      "[1, 2, 4, 5, 6]\n",
      "[4, 5, 6]\n",
      "[1, 2]\n",
      "[1, 2, 3, 5, 6]\n",
      "[]\n",
      "True\n",
      "False\n",
      "False\n",
      "True\n"
     ]
    }
   ],
   "source": [
    "list_a = [1, 2, 3, 4, 5, 6]\n",
    "# 슬라이싱으로도 요소를 제거 할 수 있음\n",
    "del list_a[2:3]\n",
    "print(list_a)\n",
    "list_a = [1, 2, 3, 4, 5, 6]\n",
    "del list_a[:3]\n",
    "print(list_a)\n",
    "list_a = [1, 2, 3, 4, 5, 6]\n",
    "del list_a[2:]\n",
    "print(list_a)\n",
    "\n",
    "# 특정 값 제거 .remove(값)\n",
    "list_a = [1, 2, 3, 4, 5, 6]\n",
    "list_a.remove(4)\n",
    "print(list_a)\n",
    "\n",
    "# list 내부 요소 제거 : list 자체는 사라지지 않음\n",
    "list_a = [1, 2, 3, 4, 5, 6]\n",
    "list_a.clear()\n",
    "print(list_a)\n",
    "\n",
    "list_a = [0, 1, 2, 3, 4, 5, 6]\n",
    "# list 요소 찾기\n",
    "print(6 in list_a) # 값이 존재하면 True\n",
    "print(10 in list_a) # 값이 존재하지 않으면 False\n",
    "\n",
    "# list 요소에서 값이 없는지 확인\n",
    "print(1 not in list_a) # 찾는 값이 요소에 존재하면 False\n",
    "print(9 not in list_a) # 찾는 값이 요소에 존재하지 않으면 True"
   ]
  },
  {
   "cell_type": "markdown",
   "id": "5102c93a-5e1c-473d-82ee-3d21ce33d135",
   "metadata": {},
   "source": [
    "# 리스트의 메서드는 대부분 파괴적으로 메모리를 사용함"
   ]
  },
  {
   "cell_type": "code",
   "execution_count": 91,
   "id": "13bf9cc7-33db-4429-92c5-c91c0495db6e",
   "metadata": {
    "tags": []
   },
   "outputs": [
    {
     "name": "stdout",
     "output_type": "stream",
     "text": [
      "[0, 1, 2, 3, 4, 5, 6]\n",
      "[0, 1, 2, 3, 4, 5, 6]\n",
      "[7, 1, 2, 3, 4, 5, 6]\n",
      "[7, 1, 2, 3, 4, 5, 6]\n",
      "1\n",
      "1\n"
     ]
    }
   ],
   "source": [
    "list_a = [0, 1, 2, 3, 4, 5, 6]\n",
    "print(list_a)\n",
    "\n",
    "list_b = list_a\n",
    "print(list_b)\n",
    "\n",
    "list_a[0] = 7 # list의 경우 값이 변경되면 메모리 안 주소값을 참조함으로 안에 값 역시 바뀐다\n",
    "print(list_a)\n",
    "print(list_b)\n",
    "\n",
    "a=1\n",
    "b=a\n",
    "print(b)\n",
    "a=2\n",
    "print(b) # 변수에 담은 값은 변하지 않음"
   ]
  },
  {
   "cell_type": "markdown",
   "id": "9bcff0aa-1498-49cd-a850-e74ebe4747f3",
   "metadata": {},
   "source": [
    "# 반복문"
   ]
  },
  {
   "cell_type": "markdown",
   "id": "5ce51990-be70-45e1-979f-3b89b7c6889f",
   "metadata": {},
   "source": [
    "<pre>\n",
    "for 변수 in 컨테이너_자료:\n",
    "    수행문1\n",
    "    수행문2\n",
    "</pre>"
   ]
  },
  {
   "cell_type": "code",
   "execution_count": 92,
   "id": "e6aa098f-1340-49c8-aff3-380fd45a2d4d",
   "metadata": {
    "tags": []
   },
   "outputs": [
    {
     "name": "stdout",
     "output_type": "stream",
     "text": [
      "0번째 출력\n",
      "1번째 출력\n",
      "2번째 출력\n",
      "3번째 출력\n",
      "4번째 출력\n",
      "5번째 출력\n",
      "6번째 출력\n",
      "7번째 출력\n",
      "8번째 출력\n",
      "9번째 출력\n"
     ]
    }
   ],
   "source": [
    "for i in range(10):\n",
    "    print(f\"{i}번째 출력\")"
   ]
  },
  {
   "cell_type": "code",
   "execution_count": 93,
   "id": "3c407115-abb4-4773-a4b9-cfbda1a5edd0",
   "metadata": {
    "tags": []
   },
   "outputs": [
    {
     "name": "stdout",
     "output_type": "stream",
     "text": [
      "1번째 출력\n",
      "2번째 출력\n",
      "3번째 출력\n",
      "4번째 출력\n",
      "5번째 출력\n",
      "6번째 출력\n",
      "7번째 출력\n",
      "8번째 출력\n",
      "9번째 출력\n"
     ]
    }
   ],
   "source": [
    "# range(start, end): 1~10까지 범위를 만들어냄\n",
    "for i in range(1, 10):\n",
    "    print(f\"{i}번째 출력\")"
   ]
  },
  {
   "cell_type": "code",
   "execution_count": 100,
   "id": "a5a2cb9a-5d39-471d-ad86-98e63e98a0d5",
   "metadata": {
    "tags": []
   },
   "outputs": [
    {
     "name": "stdout",
     "output_type": "stream",
     "text": [
      "1번째 출력\n",
      "3번째 출력\n",
      "5번째 출력\n",
      "7번째 출력\n",
      "9번째 출력\n"
     ]
    }
   ],
   "source": [
    "# range(start, end, step): 건너뜀\n",
    "for i in range(1, 10, 2):\n",
    "    print(f\"{i}번째 출력\")"
   ]
  },
  {
   "cell_type": "code",
   "execution_count": 103,
   "id": "68939a0c-e83e-4d40-b8e1-7cdcb4985258",
   "metadata": {
    "tags": []
   },
   "outputs": [
    {
     "name": "stdout",
     "output_type": "stream",
     "text": [
      "range(1, 20, 2)\n",
      "<class 'range'>\n"
     ]
    }
   ],
   "source": [
    "a=range(1, 20, 2)\n",
    "print(a)\n",
    "print(type(a))"
   ]
  },
  {
   "cell_type": "code",
   "execution_count": 102,
   "id": "4b99f098-802a-4fd7-a77b-0f95415c4071",
   "metadata": {
    "tags": []
   },
   "outputs": [
    {
     "name": "stdout",
     "output_type": "stream",
     "text": [
      "[1, 3, 5, 7, 9, 11, 13, 15, 17, 19]\n"
     ]
    }
   ],
   "source": [
    "b = list(range(1, 20, 2))\n",
    "print(b)"
   ]
  },
  {
   "cell_type": "code",
   "execution_count": 106,
   "id": "07fd39e6-9faa-4be3-aa87-840e425c4cb1",
   "metadata": {
    "tags": []
   },
   "outputs": [
    {
     "name": "stdout",
     "output_type": "stream",
     "text": [
      "range(2, 20, 2)\n",
      "<class 'range'>\n",
      "2번째 출력\n",
      "4번째 출력\n",
      "6번째 출력\n",
      "8번째 출력\n",
      "10번째 출력\n",
      "12번째 출력\n",
      "14번째 출력\n",
      "16번째 출력\n",
      "18번째 출력\n"
     ]
    }
   ],
   "source": [
    "a=range(2, 20, 2)\n",
    "print(a)\n",
    "print(type(a))\n",
    "\n",
    "for i in a:\n",
    "    print(f\"{i}번째 출력\")"
   ]
  },
  {
   "cell_type": "code",
   "execution_count": 108,
   "id": "f0068829-45cc-481c-9822-7553f76e2aca",
   "metadata": {
    "tags": []
   },
   "outputs": [
    {
     "name": "stdout",
     "output_type": "stream",
     "text": [
      "[1, 3, 5, 7, 9, 11, 13, 15, 17, 19]\n",
      "반복되는 각 요소 1\n",
      "====================\n",
      "반복되는 각 요소 3\n",
      "====================\n",
      "반복되는 각 요소 5\n",
      "====================\n",
      "반복되는 각 요소 7\n",
      "====================\n",
      "반복되는 각 요소 9\n",
      "====================\n",
      "반복되는 각 요소 11\n",
      "====================\n",
      "반복되는 각 요소 13\n",
      "====================\n",
      "반복되는 각 요소 15\n",
      "====================\n",
      "반복되는 각 요소 17\n",
      "====================\n",
      "반복되는 각 요소 19\n",
      "====================\n"
     ]
    }
   ],
   "source": [
    "b = list(range(1, 20, 2))\n",
    "print(b)\n",
    "\n",
    "for item in b:\n",
    "    print(f\"반복되는 각 요소 {item}\")\n",
    "    print(\"=\"*20)"
   ]
  },
  {
   "cell_type": "code",
   "execution_count": 109,
   "id": "106a0568-f15a-4925-9f33-65a1cff8b41d",
   "metadata": {
    "tags": []
   },
   "outputs": [
    {
     "name": "stdout",
     "output_type": "stream",
     "text": [
      "[1, 3, 5, 7, 9, 11, 13, 15, 17, 19]\n",
      "반복되는 각 요소 1\n",
      "반복되는 각 요소 3\n",
      "반복되는 각 요소 5\n",
      "반복되는 각 요소 7\n",
      "반복되는 각 요소 9\n",
      "반복되는 각 요소 11\n",
      "반복되는 각 요소 13\n",
      "반복되는 각 요소 15\n",
      "반복되는 각 요소 17\n",
      "반복되는 각 요소 19\n",
      "====================\n"
     ]
    }
   ],
   "source": [
    "b = list(range(1, 20, 2))\n",
    "print(b)\n",
    "\n",
    "for item in b:\n",
    "    print(f\"반복되는 각 요소 {item}\")\n",
    "print(\"=\"*20)"
   ]
  },
  {
   "cell_type": "code",
   "execution_count": 111,
   "id": "75c3c5ed-c194-47c4-a454-58b887b88595",
   "metadata": {
    "tags": []
   },
   "outputs": [
    {
     "name": "stdout",
     "output_type": "stream",
     "text": [
      "[147, 479, '송태섭', 398, 'aaa', '서태웅', [True, False]]\n"
     ]
    }
   ],
   "source": [
    "arr = [147, 479, \"송태섭\", 398, \"aaa\", \"서태웅\", [True, False]]\n",
    "print(arr)"
   ]
  },
  {
   "cell_type": "code",
   "execution_count": 115,
   "id": "b380e6d7-4aef-4d6c-98ae-e671573a649b",
   "metadata": {
    "tags": []
   },
   "outputs": [
    {
     "name": "stdout",
     "output_type": "stream",
     "text": [
      "147\n",
      "479\n",
      "송태섭\n",
      "398\n",
      "aaa\n",
      "서태웅\n",
      "[True, False]\n"
     ]
    }
   ],
   "source": [
    "for ele in arr:\n",
    "    print(ele)"
   ]
  },
  {
   "cell_type": "markdown",
   "id": "92ec48ca-9487-4e14-bd3f-54cf97c3f52c",
   "metadata": {
    "tags": []
   },
   "source": [
    "# 확인 문제"
   ]
  },
  {
   "cell_type": "markdown",
   "id": "a9f84c3e-8c26-473b-ae70-fe1d46475e5b",
   "metadata": {},
   "source": [
    "- 반복문과 if 조건문을 활용해 100 이상의 숫자만 출력하기\n",
    "- 사용자로 부터 \",\" 구분된 숫자 목록을 입력 받아서 100이상의 숫자만 출력하도록 만들어보시오 숫자는 정수, 실수 모두 입력할 수 있음"
   ]
  },
  {
   "cell_type": "markdown",
   "id": "0afc717c-a6cf-4784-8f1c-19e4028afd63",
   "metadata": {},
   "source": [
    "## 확인 문제 1단계\n",
    "- 반복문과 if 조건문을 활용해 100 이상의 숫자만 출력하기"
   ]
  },
  {
   "cell_type": "code",
   "execution_count": 145,
   "id": "cdcc0a5f-21af-4e15-bdde-ed40c18aa16d",
   "metadata": {
    "tags": []
   },
   "outputs": [
    {
     "name": "stdout",
     "output_type": "stream",
     "text": [
      "100 이상 수:  273\n",
      "100 이상 수:  103\n",
      "100 이상 수:  500\n",
      "100 이상 수:  103\n",
      "100 이상 수:  147\n"
     ]
    }
   ],
   "source": [
    "arr = [273, 103, 5, 32, 65, 9, 72, 80, 500, 99, 103, 147]\n",
    "for result in arr:\n",
    "    num = int(result)\n",
    "    # print(num)\n",
    "    if num >= 100:\n",
    "        print(\"100 이상 수: \", num)"
   ]
  },
  {
   "cell_type": "markdown",
   "id": "f4d24ead-e69d-4a73-8045-44eb3024ec02",
   "metadata": {},
   "source": [
    "## 확인 문제 2단계\n",
    "- 사용자로 부터 \",\" 구분된 숫자 목록을 입력 받아서 100이상의 숫자만 출력하도록 만들어보시오 숫자는 정수, 실수 모두 입력할 수 있음"
   ]
  },
  {
   "cell_type": "code",
   "execution_count": 174,
   "id": "2c77b0f2-723a-4276-b61d-ba50b27f547f",
   "metadata": {
    "tags": []
   },
   "outputs": [
    {
     "name": "stdin",
     "output_type": "stream",
     "text": [
      "원하는 숫자를 입력해주세요. ex.9, 100, 399, 49, 298, 40, 1 10, 500, 5.25, 100.12, 45, 103, 56, 85.0, 274.25, 45, 63, 100\n"
     ]
    },
    {
     "name": "stdout",
     "output_type": "stream",
     "text": [
      "100 이상 수:  500\n",
      "100 이상 수:  100.12\n",
      "100 이상 수:  103\n",
      "100 이상 수:  274.25\n",
      "100 이상 수:  100\n"
     ]
    }
   ],
   "source": [
    "# 10, 500, 5.25, 100.12, 45, 103, 56, 85.0, 274.25, 45, 63, 100\n",
    "text = input(\"원하는 숫자를 입력해주세요. ex.9, 100, 399, 49, 298, 40, 1\")\n",
    "# print(text)\n",
    "text = text.split(\",\")\n",
    "# print(\"text:\", text)\n",
    "for result1 in text:\n",
    "    num1 = eval(result1)\n",
    "    # print(\"re:\", num1)\n",
    "    if num1 >= 100:\n",
    "        print(\"100 이상 수: \", num1)\n"
   ]
  },
  {
   "cell_type": "markdown",
   "id": "0377f95e-ad82-460b-b95b-5324a254d7be",
   "metadata": {},
   "source": [
    "## 확인 문제3\n",
    "- 각 자리수 값을 리스트로 만들어서 출력하기\n",
    "    - 1의 자리 숫자: [5, 9]\n",
    "    - 10의 자리 숫자: [32, 65, 72, 99]\n",
    "    - 100의 자리 숫자 : [273, 103, 800]"
   ]
  },
  {
   "cell_type": "code",
   "execution_count": 467,
   "id": "1c96610e-8b1b-414e-b47a-17e77ab073b8",
   "metadata": {
    "tags": []
   },
   "outputs": [
    {
     "name": "stdin",
     "output_type": "stream",
     "text": [
      "원하는 숫자를 입력해주세요. ex.9, 100, 399, 49, 298, 40, 1 dfd\n"
     ]
    },
    {
     "ename": "ValueError",
     "evalue": "invalid literal for int() with base 10: 'dfd'",
     "output_type": "error",
     "traceback": [
      "\u001b[1;31m---------------------------------------------------------------------------\u001b[0m",
      "\u001b[1;31mValueError\u001b[0m                                Traceback (most recent call last)",
      "Cell \u001b[1;32mIn[467], line 34\u001b[0m\n\u001b[0;32m     31\u001b[0m         last_li1\u001b[38;5;241m.\u001b[39mappend(list_num1)\n\u001b[0;32m     32\u001b[0m     \u001b[38;5;28;01melif\u001b[39;00m decimal \u001b[38;5;241m==\u001b[39m \u001b[38;5;28;01mFalse\u001b[39;00m:\n\u001b[0;32m     33\u001b[0m         \u001b[38;5;66;03m# print(\"decimal False: \", list_num)\u001b[39;00m\n\u001b[1;32m---> 34\u001b[0m         list_num2 \u001b[38;5;241m=\u001b[39m \u001b[38;5;28;43mint\u001b[39;49m\u001b[43m(\u001b[49m\u001b[43mlist_num\u001b[49m\u001b[43m)\u001b[49m\n\u001b[0;32m     35\u001b[0m         last_li2\u001b[38;5;241m.\u001b[39mappend(list_num2)\n\u001b[0;32m     36\u001b[0m     \u001b[38;5;66;03m# print(\"decimalFloat: \", list_num1)\u001b[39;00m\n\u001b[0;32m     37\u001b[0m     \u001b[38;5;66;03m# print(\"decimalInt: \", list_num2)\u001b[39;00m\n\u001b[0;32m     38\u001b[0m     \u001b[38;5;66;03m# print(\"test: \", list_num, \"type: \", type(list_num), \"type1: \", type(list_num1), \"type2: \", type(list_num2))\u001b[39;00m\n\u001b[0;32m     39\u001b[0m     \n\u001b[0;32m     40\u001b[0m \u001b[38;5;66;03m# print(\"last_li1: \", last_li1)\u001b[39;00m\n\u001b[0;32m     41\u001b[0m \u001b[38;5;66;03m# print(\"last_li2: \", last_li2)\u001b[39;00m\n",
      "\u001b[1;31mValueError\u001b[0m: invalid literal for int() with base 10: 'dfd'"
     ]
    }
   ],
   "source": [
    "# 10, 500, 5.25, 100.12, 45, 103, 56, 85.0, 274.25, 45, 63, 100\n",
    "# 문자가 들어왔을 경우 False 숫자만 for문 영역으로 보내야함\n",
    "text = input(\"원하는 숫자를 입력해주세요. ex.9, 100, 399, 49, 298, 40, 1\")\n",
    "# sample_li = []\n",
    "# print(text)\n",
    "nums1 = []\n",
    "nums10 = []\n",
    "nums100 = []\n",
    "last_li1 = []\n",
    "last_li2 = []\n",
    "text = text.split(\",\")\n",
    "none = text == \"\"\n",
    "# print(\"text:\", text)\n",
    "textCk = isinstance(text, int)\n",
    "# print(\"textCk: \", textCk)\n",
    "# print(text)\n",
    "new_li = [test1.strip() for test1 in text]\n",
    "# print(new_li)\n",
    "if textCk == False and none == False:\n",
    "    for list_num in new_li:\n",
    "        # print(\"in: \", \".\" in list_num)\n",
    "        decimal = \".\" in list_num\n",
    "        # print(\"decimal: \", decimal)\n",
    "        # list_num1 = eval(list_num)\n",
    "        # list_numCk = isinstance(list_num1, float)\n",
    "        # print(list_numCk)\n",
    "        if decimal == True:\n",
    "            # print(\"True is True\")\n",
    "            # print(\"decimal list: \", list_num)\n",
    "            list_num1 = float(list_num)\n",
    "            last_li1.append(list_num1)\n",
    "        elif decimal == False:\n",
    "            # print(\"decimal False: \", list_num)\n",
    "            list_num2 = int(list_num)\n",
    "            last_li2.append(list_num2)\n",
    "        # print(\"decimalFloat: \", list_num1)\n",
    "        # print(\"decimalInt: \", list_num2)\n",
    "        # print(\"test: \", list_num, \"type: \", type(list_num), \"type1: \", type(list_num1), \"type2: \", type(list_num2))\n",
    "        \n",
    "    # print(\"last_li1: \", last_li1)\n",
    "    # print(\"last_li2: \", last_li2)\n",
    "    last_li1.extend(last_li2)\n",
    "    # print(\"last_li: \", last_li1)\n",
    "    for li in last_li1:\n",
    "        if li < 10:\n",
    "            # num을 리스트의 추가\n",
    "            nums1.append(li)\n",
    "            # print(f\"1의 자리 숫자: \", nums1)\n",
    "        elif li < 100:\n",
    "            nums10.append(li)\n",
    "            # print(f\"10의 자리 숫자: \", nums10)\n",
    "        elif li > 100:\n",
    "            nums100.append(li)\n",
    "            # print(\"100의 자리 숫자: \", nums100)\n",
    "            # last_li2 = last_li2.append(list_num2)\n",
    "            # last_li = last_li1.extend(last_li2)\n",
    "            # print(\"last_li: \", last_li)\n",
    "print(f\"1의 자리 숫자: \", nums1)\n",
    "print(f\"10의 자리 숫자: \", nums10)\n",
    "print(\"100의 자리 숫자: \", nums100)\n",
    "# else textCk == True:\n",
    "    # print(\"숫자가 아닙니다.\")"
   ]
  },
  {
   "cell_type": "code",
   "execution_count": 341,
   "id": "371e857a-81f8-47cf-9ebf-52b9af2d4bd9",
   "metadata": {
    "tags": []
   },
   "outputs": [],
   "source": [
    "# # 10, 500, 5.25, 100.12, 45, 103, 56, 85.0, 274.25, 45, 63, 100\n",
    "# # 문자가 들어왔을 경우 False 숫자만 for문 영역으로 보내야함\n",
    "# sample_li = input(\"원하는 숫자를 입력해주세요. ex.9, 100, 399, 49, 298, 40, 1\")\n",
    "# # print(text)\n",
    "# text = text.split(\",\")\n",
    "# none = text == \"\"\n",
    "# # print(\"text:\", text)\n",
    "# textCk = isinstance(text, int)\n",
    "# print(textCk)\n",
    "# if textCk == False and none == False:\n",
    "#     for test in text:\n",
    "#         text[i].strip()\n",
    "#         print(test)\n",
    "#         textCK2 = test.isdigit()\n",
    "#         print(\"test: \", test, \"textCK2: \", textCK2)\n",
    "#         i = i+1\n",
    "#         print(i)\n",
    "#     # num2 = eval(text)\n",
    "#     # print(num2)\n",
    "# #     for result1 in text:\n",
    "# #         num1 = eval(result1)\n",
    "# #         # print(\"re:\", num1)\n",
    "# #         if num1 >= 100:\n",
    "# #             print(\"100 이상 수: \", num1)\n",
    "# # else textCk:\n",
    "# #     print(\"숫자가 아닙니다.\")"
   ]
  },
  {
   "cell_type": "code",
   "execution_count": 220,
   "id": "09fe19ae-9ef2-409f-a25d-3986c99be7bb",
   "metadata": {
    "tags": []
   },
   "outputs": [
    {
     "name": "stdin",
     "output_type": "stream",
     "text": [
      "원하는 숫자를 입력해주세요. ex.9, 100, 399, 49, 298, 40, 1 10, 500, 5.25, 100.12, 45, 103, 56, 85.0, 274.25, 45, 63, 100\n"
     ]
    },
    {
     "name": "stdout",
     "output_type": "stream",
     "text": [
      "1의 자리 숫자:  [5.25]\n",
      "10의 자리 숫자:  [10, 45, 56, 85.0, 45, 63]\n",
      "100의 자리 숫자:  [500, 100.12, 103, 274.25]\n"
     ]
    }
   ],
   "source": [
    "# 10, 500, 5.25, 100.12, 45, 103, 56, 85.0, 274.25, 63, 100\n",
    "text = input(\"원하는 숫자를 입력해주세요. ex.9, 100, 399, 49, 298, 40, 1\")\n",
    "# print(text)\n",
    "text = text.split(\",\")\n",
    "# print(\"text:\", text)\n",
    "nums1 = []\n",
    "nums10 = []\n",
    "nums100 = []\n",
    "for result1 in text:\n",
    "    num1 = eval(result1)\n",
    "    # print(\"re:\", num1)\n",
    "    # 100 이상의 수 출력\n",
    "    # 1의 자리 수 리스트로 구성\n",
    "    # 10의 자리수 리스트로 구성\n",
    "    # 100의 자리수 리스트로 구성\n",
    "    if num1 < 10:\n",
    "        # num을 리스트의 추가\n",
    "        nums1.append(num1)\n",
    "        # print(f\"1의 자리 숫자: \", nums1)\n",
    "    elif num1 < 100:\n",
    "        nums10.append(num1)\n",
    "        # print(f\"10의 자리 숫자: \", nums10)\n",
    "    elif num1 > 100:\n",
    "        nums100.append(num1)\n",
    "        # print(\"100의 자리 숫자: \", nums100)\n",
    "print(f\"1의 자리 숫자: \", nums1)\n",
    "print(f\"10의 자리 숫자: \", nums10)\n",
    "print(\"100의 자리 숫자: \", nums100)"
   ]
  },
  {
   "cell_type": "markdown",
   "id": "8d775ca3-82ac-4324-8191-a603b9a7b903",
   "metadata": {},
   "source": [
    "# 딕셔너리 실습"
   ]
  },
  {
   "cell_type": "code",
   "execution_count": 232,
   "id": "2b898ebf-da83-4936-ba51-20c97ed7978a",
   "metadata": {
    "tags": []
   },
   "outputs": [
    {
     "name": "stdout",
     "output_type": "stream",
     "text": [
      "{'name': '강백호', 'title': 'mavel'}\n"
     ]
    }
   ],
   "source": [
    "dict_a = {\n",
    "    \"name\": \"강백호\",\n",
    "    \"title\": \"mavel\"\n",
    "}\n",
    "print(dict_a)"
   ]
  },
  {
   "cell_type": "code",
   "execution_count": 234,
   "id": "1ee80b4a-8e80-481b-ba4c-5b8223b81d5b",
   "metadata": {
    "tags": []
   },
   "outputs": [
    {
     "data": {
      "text/plain": [
       "'강백호'"
      ]
     },
     "execution_count": 234,
     "metadata": {},
     "output_type": "execute_result"
    }
   ],
   "source": [
    "dict_a[\"name\"]"
   ]
  },
  {
   "cell_type": "code",
   "execution_count": 299,
   "id": "b0c19544-288f-47c4-8327-0ff02acc1cd5",
   "metadata": {
    "tags": []
   },
   "outputs": [
    {
     "name": "stdout",
     "output_type": "stream",
     "text": [
      "{'director': ['박찬욱', '봉준호', '변성현', '크리스토퍼 놀란'], 'cast': ['로다주', '크리스 햄스워스', '톰 홀랜드', '나탈리 포트만', '스칼렛 요한슨']}\n",
      "박찬욱\n",
      "나탈리 포트만\n"
     ]
    }
   ],
   "source": [
    "dict_b = {\n",
    "    \"director\": [\"박찬욱\", \"봉준호\", \"변성현\", \"크리스토퍼 놀란\"],\n",
    "    \"cast\": [\"로다주\", \"크리스 햄스워스\", \"톰 홀랜드\", \"나탈리 포트만\", \"스칼렛 요한슨\"]\n",
    "}\n",
    "print(dict_b)\n",
    "print(dict_b[\"director\"][0])\n",
    "print(dict_b[\"cast\"][3])"
   ]
  },
  {
   "cell_type": "code",
   "execution_count": 301,
   "id": "6a9492e3-97e5-48c7-9637-ddb01dafd205",
   "metadata": {
    "tags": []
   },
   "outputs": [
    {
     "name": "stdout",
     "output_type": "stream",
     "text": [
      "<class 'dict'>\n",
      "<class 'list'>\n"
     ]
    }
   ],
   "source": [
    "dict_c={}\n",
    "print(type(dict_c))\n",
    "l_t=[]\n",
    "print(type(l_t))"
   ]
  },
  {
   "cell_type": "code",
   "execution_count": 308,
   "id": "d4a3df84-cabb-4b08-9db9-c081b62b7f39",
   "metadata": {
    "tags": []
   },
   "outputs": [
    {
     "name": "stdout",
     "output_type": "stream",
     "text": [
      "{'name': '강백호', <class 'type'>: '농구 선수', 'type': '농구 선수'}\n"
     ]
    }
   ],
   "source": [
    "name = \"name\"\n",
    "dict_key = {\n",
    "    name:\"강백호\",\n",
    "    type: \"농구 선수\",\n",
    "    \"type\": \"농구 선수\"\n",
    "}\n",
    "print(dict_key)"
   ]
  },
  {
   "cell_type": "code",
   "execution_count": 313,
   "id": "56116013-01e1-41b0-b257-cf449afb5a60",
   "metadata": {
    "tags": []
   },
   "outputs": [
    {
     "name": "stdout",
     "output_type": "stream",
     "text": [
      "{'name': '망고'}\n"
     ]
    }
   ],
   "source": [
    "dict_d = {\n",
    "}\n",
    "dict_d[\"name\"] = \"망고\"\n",
    "print(dict_d)"
   ]
  },
  {
   "cell_type": "code",
   "execution_count": 314,
   "id": "0aac65c7-acb9-401d-b9d2-827c350ac715",
   "metadata": {
    "tags": []
   },
   "outputs": [
    {
     "name": "stdout",
     "output_type": "stream",
     "text": [
      "{'name': '딸기'}\n"
     ]
    }
   ],
   "source": [
    "dict_d[\"name\"] = \"딸기\"\n",
    "print(dict_d)"
   ]
  },
  {
   "cell_type": "code",
   "execution_count": 315,
   "id": "cc6adaf8-36ef-4fc4-90a0-828af5cbaa06",
   "metadata": {
    "tags": []
   },
   "outputs": [
    {
     "name": "stdout",
     "output_type": "stream",
     "text": [
      "{'name': '딸기', 'price': 20000}\n"
     ]
    }
   ],
   "source": [
    "dict_d[\"price\"] = 20000\n",
    "print(dict_d)"
   ]
  },
  {
   "cell_type": "code",
   "execution_count": 316,
   "id": "81f6f91e-4d68-45a8-9c48-7a0674b3fcf5",
   "metadata": {
    "tags": []
   },
   "outputs": [],
   "source": [
    "# del dictionary[\"키값\"]"
   ]
  },
  {
   "cell_type": "code",
   "execution_count": 317,
   "id": "03d7a9ef-c025-49ff-9b86-df8c8bd17698",
   "metadata": {
    "tags": []
   },
   "outputs": [
    {
     "name": "stdout",
     "output_type": "stream",
     "text": [
      "요소 추가 이전:  {}\n",
      "요소 추가 이후:  {'name': '강백호', 'age': 17, 'type': '농구 선수'}\n"
     ]
    }
   ],
   "source": [
    "dictionary = {}\n",
    "print(\"요소 추가 이전: \", dictionary)\n",
    "\n",
    "# dictionary 요소 추가\n",
    "dictionary[\"name\"] = \"강백호\"\n",
    "dictionary[\"age\"] = 17\n",
    "dictionary[\"type\"] = \"농구 선수\"\n",
    "print(\"요소 추가 이후: \", dictionary)"
   ]
  },
  {
   "cell_type": "code",
   "execution_count": 318,
   "id": "453dbab5-ccac-4310-89e7-105c986937cb",
   "metadata": {
    "tags": []
   },
   "outputs": [
    {
     "name": "stdout",
     "output_type": "stream",
     "text": [
      "요소 제거 전:  {'name': '강백호', 'age': 17, 'type': '농구 선수'}\n",
      "요소 제거 후:  {'name': '강백호', 'type': '농구 선수'}\n"
     ]
    }
   ],
   "source": [
    "# 선언\n",
    "dict_slam = {\n",
    "    name:\"강백호\",\n",
    "    \"age\": 17,\n",
    "    \"type\": \"농구 선수\"\n",
    "}\n",
    "print(\"요소 제거 전: \", dict_slam)\n",
    "\n",
    "# 요소 제거\n",
    "del dict_slam[\"age\"]\n",
    "print(\"요소 제거 후: \", dict_slam)"
   ]
  },
  {
   "cell_type": "code",
   "execution_count": 320,
   "id": "e7fb8764-482f-4710-899a-192106551b96",
   "metadata": {
    "tags": []
   },
   "outputs": [
    {
     "ename": "KeyError",
     "evalue": "'key'",
     "output_type": "error",
     "traceback": [
      "\u001b[1;31m---------------------------------------------------------------------------\u001b[0m",
      "\u001b[1;31mKeyError\u001b[0m                                  Traceback (most recent call last)",
      "Cell \u001b[1;32mIn[320], line 8\u001b[0m\n\u001b[0;32m      1\u001b[0m \u001b[38;5;66;03m# error\u001b[39;00m\n\u001b[0;32m      2\u001b[0m dict_slam \u001b[38;5;241m=\u001b[39m {\n\u001b[0;32m      3\u001b[0m     name:\u001b[38;5;124m\"\u001b[39m\u001b[38;5;124m강백호\u001b[39m\u001b[38;5;124m\"\u001b[39m,\n\u001b[0;32m      4\u001b[0m     \u001b[38;5;124m\"\u001b[39m\u001b[38;5;124mage\u001b[39m\u001b[38;5;124m\"\u001b[39m: \u001b[38;5;241m17\u001b[39m,\n\u001b[0;32m      5\u001b[0m     \u001b[38;5;124m\"\u001b[39m\u001b[38;5;124mtype\u001b[39m\u001b[38;5;124m\"\u001b[39m: \u001b[38;5;124m\"\u001b[39m\u001b[38;5;124m농구 선수\u001b[39m\u001b[38;5;124m\"\u001b[39m\n\u001b[0;32m      6\u001b[0m }\n\u001b[1;32m----> 8\u001b[0m \u001b[43mdict_slam\u001b[49m\u001b[43m[\u001b[49m\u001b[38;5;124;43m\"\u001b[39;49m\u001b[38;5;124;43mkey\u001b[39;49m\u001b[38;5;124;43m\"\u001b[39;49m\u001b[43m]\u001b[49m\n",
      "\u001b[1;31mKeyError\u001b[0m: 'key'"
     ]
    }
   ],
   "source": [
    "# error : 존재하지 않는 키값을 찾으면 발생\n",
    "dict_slam = {\n",
    "    name:\"강백호\",\n",
    "    \"age\": 17,\n",
    "    \"type\": \"농구 선수\"\n",
    "}\n",
    "\n",
    "dict_slam[\"key\"]"
   ]
  },
  {
   "cell_type": "code",
   "execution_count": 361,
   "id": "470dd1b5-a078-4326-934c-3eb5aaa3c987",
   "metadata": {
    "tags": []
   },
   "outputs": [
    {
     "name": "stdin",
     "output_type": "stream",
     "text": [
      ">접근하고자 하는 키:  name[2]\n"
     ]
    },
    {
     "name": "stdout",
     "output_type": "stream",
     "text": [
      "존재하지 않는 key 입니다.\n"
     ]
    }
   ],
   "source": [
    "# ditionary 내부 확인 : in\n",
    "dict_slam = {\n",
    "    \"school\": \"북산\",\n",
    "    \"name\": [\"강백호\", \"서태웅\", \"송태섭\", \"채치수\", \"정대만\", \"권준호\"],\n",
    "    \"age\": 17,\n",
    "    \"type\": \"농구 선수\"\n",
    "}\n",
    "\n",
    "search = input(\">접근하고자 하는 키: \")\n",
    "if search in dict_slam:\n",
    "    print(dict_slam[search])\n",
    "    # dict_slam[name[2]] dict_slam[name][2]\n",
    "else:\n",
    "    print(\"존재하지 않는 key 입니다.\")"
   ]
  },
  {
   "cell_type": "code",
   "execution_count": 366,
   "id": "806bc698-77ed-4d55-9e37-c609b3cd8413",
   "metadata": {
    "tags": []
   },
   "outputs": [
    {
     "name": "stdin",
     "output_type": "stream",
     "text": [
      ">접근하고자 하는 키:  age\n"
     ]
    },
    {
     "name": "stdout",
     "output_type": "stream",
     "text": [
      "[17, 19, 38, 20, 49]\n"
     ]
    },
    {
     "name": "stdin",
     "output_type": "stream",
     "text": [
      "숫자를 입력해주세요:  2\n"
     ]
    },
    {
     "name": "stdout",
     "output_type": "stream",
     "text": [
      "38\n"
     ]
    }
   ],
   "source": [
    "# ditionary 내부 확인 : in\n",
    "dict_slam = {\n",
    "    \"school\": \"북산\",\n",
    "    \"name\": [\"강백호\", \"서태웅\", \"송태섭\", \"채치수\", \"정대만\", \"권준호\"],\n",
    "    \"age\": [17, 19, 38, 20, 49],\n",
    "    \"type\": \"농구 선수\"\n",
    "}\n",
    "\n",
    "search = input(\">접근하고자 하는 키: \")\n",
    "if search in dict_slam:\n",
    "    print(dict_slam[search])\n",
    "    if search == \"이름\":\n",
    "        search = \"name\"\n",
    "        print(dict_slam[search])\n",
    "        if search == \"name\":\n",
    "            num = int(input(\"숫자를 입력해주세요: \"))\n",
    "            print(dict_slam[\"name\"][num])\n",
    "    if search == \"name\":\n",
    "        num = int(input(\"숫자를 입력해주세요: \"))\n",
    "        print(dict_slam[\"name\"][num])\n",
    "    elif search == \"age\":\n",
    "        num = int(input(\"숫자를 입력해주세요: \"))\n",
    "        print(dict_slam[\"age\"][num])\n",
    "else:\n",
    "    print(\"존재하지 않는 key 입니다.\")"
   ]
  },
  {
   "cell_type": "code",
   "execution_count": 359,
   "id": "c25cd0a4-9f31-4c20-ad7f-92ba9abb9022",
   "metadata": {
    "tags": []
   },
   "outputs": [
    {
     "name": "stdout",
     "output_type": "stream",
     "text": [
      "값:  None\n",
      "존재하지 않는 key 입니다.\n",
      "<class 'NoneType'>\n"
     ]
    }
   ],
   "source": [
    "dict_slam = {\n",
    "    \"school\": \"북산\",\n",
    "    \"name\": [\"강백호\", \"서태웅\", \"송태섭\", \"채치수\", \"정대만\", \"권준호\"],\n",
    "    \"age\": 17,\n",
    "    \"type\": \"농구 선수\"\n",
    "}\n",
    "\n",
    "value = dict_slam.get(\"존재하지 않는 키\")\n",
    "print(\"값: \", value)\n",
    "\n",
    "# None 확인법\n",
    "if value == None:\n",
    "    print(\"존재하지 않는 key 입니다.\")\n",
    "\n",
    "print(type(value))"
   ]
  },
  {
   "cell_type": "markdown",
   "id": "fdc89b41-3fca-4986-b77d-9018b6b4f77d",
   "metadata": {},
   "source": [
    "## 딕셔너리 for 문 순회"
   ]
  },
  {
   "cell_type": "code",
   "execution_count": 393,
   "id": "8b3b387e-0e56-47ad-ac9b-521ed9d5d832",
   "metadata": {
    "tags": []
   },
   "outputs": [
    {
     "name": "stdout",
     "output_type": "stream",
     "text": [
      "{'school': '북산', 'name': ['강백호', '서태웅', '송태섭', '채치수', '정대만', '권준호'], 'age': 17, 'type': '농구 선수'}\n",
      "==============================\n",
      "school\n",
      "name\n",
      "age\n",
      "type\n",
      "==============================\n",
      "school의 값은: 북산\n",
      "name의 값은: ['강백호', '서태웅', '송태섭', '채치수', '정대만', '권준호']\n",
      "age의 값은: 17\n",
      "type의 값은: 농구 선수\n",
      "==============================\n",
      "school의 값은: 북산\n",
      "name의 값은: ['강백호', '서태웅', '송태섭', '채치수', '정대만', '권준호']\n",
      "age의 값은: 17\n",
      "type의 값은: 농구 선수\n",
      "==============================\n",
      "type의 값은: 농구 선수\n"
     ]
    }
   ],
   "source": [
    "dict_slam = {\n",
    "    \"school\": \"북산\",\n",
    "    \"name\": [\"강백호\", \"서태웅\", \"송태섭\", \"채치수\", \"정대만\", \"권준호\"],\n",
    "    \"age\": 17,\n",
    "    \"type\": \"농구 선수\"\n",
    "}\n",
    "\n",
    "print(dict_slam)\n",
    "print(\"=\"*30)\n",
    "for k_dict in dict_slam:\n",
    "    print(k_dict) # k_dict for문을 순회할 때 변수의 key 값을 넘김\n",
    "\n",
    "print(\"=\"*30)\n",
    "for k_dict, value in dict_slam.items():\n",
    "    print(f\"{k_dict}의 값은: {value}\")\n",
    "    \n",
    "print(\"=\"*30)\n",
    "for k_dict in dict_slam:\n",
    "    print(f\"{k_dict}의 값은: {dict_slam[k_dict]}\")\n",
    "\n",
    "# 변수에 마지막 값이 저장되어 있음\n",
    "a = \"{}의 값은: {}\".format(k_dict, dict_slam[k_dict])\n",
    "print(\"=\"*30)\n",
    "print(a)"
   ]
  },
  {
   "cell_type": "code",
   "execution_count": 386,
   "id": "0ca9d63a-895b-4ab7-89d9-27535d440399",
   "metadata": {
    "tags": []
   },
   "outputs": [
    {
     "name": "stdin",
     "output_type": "stream",
     "text": [
      ">접근하고자 하는 키:  name\n"
     ]
    },
    {
     "name": "stdout",
     "output_type": "stream",
     "text": [
      "school\n",
      "school값: 북산\n",
      "name\n",
      "name값: ['강백호', '서태웅', '송태섭', '채치수', '정대만', '권준호']\n",
      "age\n",
      "age값: 17\n",
      "type\n",
      "type값: 농구 선수\n"
     ]
    }
   ],
   "source": [
    "dict_slam = {\n",
    "    \"school\": \"북산\",\n",
    "    \"name\": [\"강백호\", \"서태웅\", \"송태섭\", \"채치수\", \"정대만\", \"권준호\"],\n",
    "    \"age\": 17,\n",
    "    \"type\": \"농구 선수\"\n",
    "}\n",
    "\n",
    "# search로 짜보기\n",
    "search = input(\">접근하고자 하는 키: \")\n",
    "\n",
    "for li_dict in dict_slam:\n",
    "    print(li_dict)\n",
    "    print(f\"{li_dict}값: {dict_slam[li_dict]}\")\n"
   ]
  },
  {
   "cell_type": "markdown",
   "id": "0b1ae675-a9ee-4264-afd4-25eec51b798e",
   "metadata": {},
   "source": [
    "# dict for: 확인 문제1"
   ]
  },
  {
   "cell_type": "code",
   "execution_count": 394,
   "id": "04506a4a-c88a-4905-bd68-7a540862188f",
   "metadata": {
    "tags": []
   },
   "outputs": [
    {
     "name": "stdout",
     "output_type": "stream",
     "text": [
      "추가:  {'name': '구름'}\n",
      "제거:  {}\n"
     ]
    }
   ],
   "source": [
    "# 선언\n",
    "dict_a = {}\n",
    "\n",
    "# 추가\n",
    "dict_a[\"name\"] = \"구름\"\n",
    "print(\"추가: \", dict_a)\n",
    "\n",
    "# 제거\n",
    "del dict_a[\"name\"]\n",
    "print(\"제거: \", dict_a)"
   ]
  },
  {
   "cell_type": "markdown",
   "id": "baecf30a-6eb5-42d3-a35d-7b88d05b3714",
   "metadata": {
    "tags": []
   },
   "source": [
    "# dict for: 확인 문제2"
   ]
  },
  {
   "cell_type": "markdown",
   "id": "da185472-7944-4438-b5cf-8e1fe57a20e6",
   "metadata": {},
   "source": [
    "- counter에 숫자가 몇 번 들어가는지 출력하는 코드 만들기\n",
    "    - 숫자를 체크해줄 변수\n",
    "    - 체크한 숫자를 dict에 담아줘야함"
   ]
  },
  {
   "cell_type": "code",
   "execution_count": 418,
   "id": "5ea5aab3-0c32-4116-a59b-c362cb79d354",
   "metadata": {
    "tags": []
   },
   "outputs": [
    {
     "name": "stdout",
     "output_type": "stream",
     "text": [
      "존재하지 않는 키 입니다.\n",
      "{6: 0}\n"
     ]
    },
    {
     "ename": "NameError",
     "evalue": "name 'key' is not defined",
     "output_type": "error",
     "traceback": [
      "\u001b[1;31m---------------------------------------------------------------------------\u001b[0m",
      "\u001b[1;31mNameError\u001b[0m                                 Traceback (most recent call last)",
      "Cell \u001b[1;32mIn[418], line 9\u001b[0m\n\u001b[0;32m      7\u001b[0m     counter \u001b[38;5;241m=\u001b[39m { nums: count}    \n\u001b[0;32m      8\u001b[0m     \u001b[38;5;28mprint\u001b[39m(counter)\n\u001b[1;32m----> 9\u001b[0m     \u001b[38;5;28;01mif\u001b[39;00m counter[\u001b[43mkey\u001b[49m] \u001b[38;5;129;01min\u001b[39;00m nums:\n\u001b[0;32m     10\u001b[0m         \u001b[38;5;28mprint\u001b[39m(\u001b[38;5;124m\"\u001b[39m\u001b[38;5;124m존재하는 키\u001b[39m\u001b[38;5;124m\"\u001b[39m)\n\u001b[0;32m     13\u001b[0m \u001b[38;5;28;01mfor\u001b[39;00m nums \u001b[38;5;129;01min\u001b[39;00m num:\n\u001b[0;32m     14\u001b[0m     \u001b[38;5;66;03m# key: value\u001b[39;00m\n\u001b[0;32m     15\u001b[0m     \u001b[38;5;66;03m# print(\"진입: \", nums)\u001b[39;00m\n",
      "\u001b[1;31mNameError\u001b[0m: name 'key' is not defined"
     ]
    }
   ],
   "source": [
    "num = [1,2,3,6,8,4,9,3,5,7,2,6,8,5,3,1,2,3,6,8,4,9,5,6,3,8,5,2,0,1,4,6]\n",
    "counter = {}\n",
    "count = 0\n",
    "\n",
    "\n",
    "for nums in num:\n",
    "    # key: value\n",
    "    # print(\"진입: \", nums)\n",
    "    if nums not in counter:\n",
    "        print(\"존재하지 않는 key 입니다.\")\n",
    "        counter = {nums: count}\n",
    "        print(counter)\n",
    "    else:\n",
    "         print(counter)\n",
    "\n",
    "print(counter)"
   ]
  },
  {
   "cell_type": "code",
   "execution_count": 425,
   "id": "d8b3391f-1551-4f78-b221-3cdb36170d43",
   "metadata": {
    "tags": []
   },
   "outputs": [
    {
     "name": "stdout",
     "output_type": "stream",
     "text": [
      "{1: 3, 2: 4, 3: 5, 6: 5, 8: 4, 4: 3, 9: 2, 5: 4, 7: 1, 0: 1}\n"
     ]
    }
   ],
   "source": [
    "num = [1,2,3,6,8,4,9,3,5,7,2,6,8,5,3,1,2,3,6,8,4,9,5,6,3,8,5,2,0,1,4,6]\n",
    "counter = {}\n",
    "\n",
    "for nums in num:\n",
    "    if nums not in counter:\n",
    "        counter[nums] = 1\n",
    "        # print(counter)\n",
    "    else:\n",
    "        counter[nums] = counter[nums] + 1\n",
    "\n",
    "print(f\"{counter}\")"
   ]
  },
  {
   "cell_type": "markdown",
   "id": "65f86e08-cd13-4ba2-8111-bbe6f0c96b85",
   "metadata": {},
   "source": [
    "# dict for: 확인 문제3"
   ]
  },
  {
   "cell_type": "markdown",
   "id": "4b4825e5-ec11-406d-b508-7b482a730f59",
   "metadata": {},
   "source": [
    "- 예제를 참고하여 실행 결과 똑같이 만들기\n",
    "    - type(\"문자열\") is str\n",
    "    - type([]) is list\n",
    "    - type({}) is dict"
   ]
  },
  {
   "cell_type": "code",
   "execution_count": 507,
   "id": "d5b74598-ff5d-472b-96f1-7e3cdff65e9c",
   "metadata": {
    "tags": []
   },
   "outputs": [
    {
     "name": "stdout",
     "output_type": "stream",
     "text": [
      "name : 기사\n",
      "level : 12\n",
      "sword : 불꽃의 검\n",
      "armor : 풀플레이트\n",
      "skill :  베기\n",
      "skill :  세게 베기\n",
      "skill :  아주 세게 베기\n"
     ]
    }
   ],
   "source": [
    "# dict 선언\n",
    "# dict 안 dict 사용법 : dictName[\"key\"][\"key\"]\n",
    "char = {\n",
    "    \"name\": \"기사\",\n",
    "    \"level\": 12,\n",
    "    \"items\": {\n",
    "        \"sword\": \"불꽃의 검\",\n",
    "        \"armor\": \"풀플레이트\"\n",
    "    },\n",
    "    \"skill\": [\"베기\", \"세게 베기\", \"아주 세게 베기\"]\n",
    "}\n",
    "\n",
    "\n",
    "for char_dict in char:\n",
    "    # print(char_dict)\n",
    "    if char_dict not in \"items\" and char_dict not in \"skill\":\n",
    "        print(\"{} : {}\".format(char_dict, char[char_dict]))\n",
    "    if char_dict == \"items\":\n",
    "        # print(\"items\", char[\"items\"][\"sword\"])\n",
    "        for items_dict in char[\"items\"]:\n",
    "            # print(\"items_dict: \", items_dict)\n",
    "            print(\"{} : {}\".format(items_dict, char[char_dict][items_dict]))\n",
    "    if char_dict == \"skill\":\n",
    "        for skill_li in char[\"skill\"]:\n",
    "            print(\"skill : \", skill_li)"
   ]
  },
  {
   "cell_type": "code",
   "execution_count": 506,
   "id": "fa9b8f30-e84e-46d6-b834-b0d0f899f681",
   "metadata": {
    "tags": []
   },
   "outputs": [
    {
     "name": "stdout",
     "output_type": "stream",
     "text": [
      "name : 기사\n",
      "level : 12\n",
      "sword : 불꽃의 검\n",
      "armor : 풀플레이트\n",
      "skill1 :  베기\n",
      "skill2 :  세게 베기\n",
      "skill3 :  아주 세게 베기\n"
     ]
    }
   ],
   "source": [
    "# dict 선언\n",
    "# dict 안 dict 사용법 : dictName[\"key\"][\"key\"]\n",
    "char = {\n",
    "    \"name\": \"기사\",\n",
    "    \"level\": 12,\n",
    "    \"items\": {\n",
    "        \"sword\": \"불꽃의 검\",\n",
    "        \"armor\": \"풀플레이트\"\n",
    "    },\n",
    "    \"skill\": [\"베기\", \"세게 베기\", \"아주 세게 베기\"]\n",
    "}\n",
    "num = 1\n",
    "\n",
    "for char_dict in char:\n",
    "    # print(char_dict)\n",
    "    if char_dict not in \"items\" and char_dict not in \"skill\":\n",
    "        print(\"{} : {}\".format(char_dict, char[char_dict]))\n",
    "    if char_dict == \"items\":\n",
    "        # print(\"items\", char[\"items\"][\"sword\"])\n",
    "        for items_dict in char[\"items\"]:\n",
    "            # print(\"items_dict: \", items_dict)\n",
    "            print(\"{} : {}\".format(items_dict, char[char_dict][items_dict]))\n",
    "    if char_dict == \"skill\":\n",
    "        for skill_li in char[\"skill\"]:\n",
    "            print(f\"skill{num} : \", skill_li)\n",
    "            num = num + 1"
   ]
  },
  {
   "cell_type": "code",
   "execution_count": 505,
   "id": "2b3c359b-8b70-4df4-adbb-8dc609635560",
   "metadata": {
    "tags": []
   },
   "outputs": [
    {
     "name": "stdout",
     "output_type": "stream",
     "text": [
      "name : 기사\n",
      "level : 12\n",
      "sword : 불꽃의 검\n",
      "armor : 풀플레이트\n",
      "skill :  베기\n",
      "skill :  세게 베기\n",
      "skill :  아주 세게 베기\n"
     ]
    }
   ],
   "source": [
    "# dict 선언\n",
    "# dict 안 dict 사용법 : dictName[\"key\"][\"key\"]\n",
    "char = {\n",
    "    \"name\": \"기사\",\n",
    "    \"level\": 12,\n",
    "    \"items\": {\n",
    "        \"sword\": \"불꽃의 검\",\n",
    "        \"armor\": \"풀플레이트\"\n",
    "    },\n",
    "    \"skill\": [\"베기\", \"세게 베기\", \"아주 세게 베기\"]\n",
    "}\n",
    "\n",
    "for char_dict1 in char:\n",
    "    # print(char_dict)\n",
    "    # print(\"str: \", type(char[char_dict1]) is str)\n",
    "    # print(\"list: \", type(char[char_dict1]) is list)\n",
    "    # print(\"dict: \", type(char[char_dict1]) is dict)\n",
    "    \n",
    "    char_dict = type(char[char_dict1]) is dict\n",
    "    char_list = type(char[char_dict1]) is list\n",
    "    # char_str = type(char[char_dict1]) is str\n",
    "    \n",
    "    if char_dict == True:\n",
    "        for items_dict in char[\"items\"]:\n",
    "            # print(\"items_dict: \", items_dict)\n",
    "            print(\"{} : {}\".format(items_dict, char[char_dict1][items_dict]))\n",
    "    elif char_list == True:\n",
    "        for skill_li in char[\"skill\"]:\n",
    "            print(\"skill : \", skill_li)\n",
    "    else:\n",
    "        print(\"{} : {}\".format(char_dict1, char[char_dict1]))"
   ]
  },
  {
   "cell_type": "code",
   "execution_count": 519,
   "id": "adcde950-059d-434a-b542-ca5aa2905ff8",
   "metadata": {
    "tags": []
   },
   "outputs": [
    {
     "name": "stdout",
     "output_type": "stream",
     "text": [
      "name : 기사\n",
      "level : 12\n",
      "sword : 불꽃의 검\n",
      "armor : 풀플레이트\n",
      "skill1 :  베기\n",
      "skill2 :  세게 베기\n",
      "skill3 :  아주 세게 베기\n"
     ]
    }
   ],
   "source": [
    "# dict 선언\n",
    "# dict 안 dict 사용법 : dictName[\"key\"][\"key\"]\n",
    "char = {\n",
    "    \"name\": \"기사\",\n",
    "    \"level\": 12,\n",
    "    \"items\": {\n",
    "        \"sword\": \"불꽃의 검\",\n",
    "        \"armor\": \"풀플레이트\"\n",
    "    },\n",
    "    \"skill\": [\"베기\", \"세게 베기\", \"아주 세게 베기\"]\n",
    "}\n",
    "num = 1\n",
    "\n",
    "for char_dict1 in char:\n",
    "    # print(char_dict)\n",
    "    # print(\"str: \", type(char[char_dict1]) is str)\n",
    "    # print(\"list: \", type(char[char_dict1]) is list)\n",
    "    # print(\"dict: \", type(char[char_dict1]) is dict)\n",
    "    \n",
    "    char_dict = type(char[char_dict1]) is dict\n",
    "    char_list = type(char[char_dict1]) is list\n",
    "    # char_str = type(char[char_dict1]) is str\n",
    "    \n",
    "    if char_dict == True:\n",
    "        for items_dict in char[\"items\"]:\n",
    "            # print(\"items_dict: \", items_dict)\n",
    "            print(\"{} : {}\".format(items_dict, char[char_dict1][items_dict]))\n",
    "    elif char_list == True:\n",
    "        for skill_li in char[\"skill\"]:\n",
    "            print(f\"skill{num} : \", skill_li)\n",
    "            num = num+1\n",
    "    else:\n",
    "        print(\"{} : {}\".format(char_dict1, char[char_dict1]))"
   ]
  },
  {
   "cell_type": "code",
   "execution_count": 522,
   "id": "4a6dfac3-9797-48e9-bd35-635532fd7d98",
   "metadata": {
    "tags": []
   },
   "outputs": [
    {
     "name": "stdout",
     "output_type": "stream",
     "text": [
      "name : 기사\n",
      "level : 12\n",
      "sword : 불꽃의 검\n",
      "armor : 풀플레이트\n",
      "skill1 : 베기\n",
      "skill2 : 세게 베기\n",
      "skill3 : 아주 세게 베기\n"
     ]
    }
   ],
   "source": [
    "# 강사님 코드\n",
    "\n",
    "character = {\n",
    "    \"name\": \"기사\",\n",
    "    \"level\": 12,\n",
    "    \"items\": {\n",
    "        \"sword\": \"불꽃의 검\",\n",
    "        \"armor\": \"풀플레이트\"\n",
    "    },\n",
    "    \"skill\": [\"베기\", \"세게 베기\", \"아주 세게 베기\"]\n",
    "}\n",
    "num = 1\n",
    "# for 반복문 사용\n",
    "for key in character :\n",
    "    \n",
    "    # str 이면 : 변수 그대로 찍기, character[key]\n",
    "    if type(character[key]) is str :\n",
    "        print(f\"{key} : {character[key]}\")\n",
    "        \n",
    "    # int 이면 : 변수 그대로 찍기, character[key]\n",
    "    if type(character[key]) is int :\n",
    "        print(f\"{key} : {character[key]}\")\n",
    "        \n",
    "    # dict 이면 : character[key] 다시 순회, character[key][sub_key]\n",
    "    if type(character[key]) is dict :\n",
    "        for sub_key in character[key] :\n",
    "            #print(item)\n",
    "            print(f\"{sub_key} : {character[key][sub_key]}\")\n",
    "        \n",
    "    # list 이면 : character[key] 다시 순회 리스트 값 찍기\n",
    "    if type(character[key]) is list :\n",
    "        # character[key] : skill키의 값 => 리스트\n",
    "        # print(character[key])\n",
    "        for item in character[key] :\n",
    "            #print(item)\n",
    "            print(f\"{key}{num} : {item}\")\n",
    "            num = num+1"
   ]
  },
  {
   "cell_type": "code",
   "execution_count": 560,
   "id": "0bb46b96-17f6-46b2-a371-07b59e4f9a27",
   "metadata": {
    "tags": []
   },
   "outputs": [
    {
     "name": "stdout",
     "output_type": "stream",
     "text": [
      "name : 기사\n",
      "level : 12\n",
      "sword : 불꽃의 검\n",
      "armor : 풀플레이트\n",
      "skill1 : 베기\n",
      "skill2 : 세게 베기\n",
      "skill3 : 아주 세게 베기\n"
     ]
    }
   ],
   "source": [
    "# 강사님 코드\n",
    "\n",
    "character = {\n",
    "    \"name\": \"기사\",\n",
    "    \"level\": 12,\n",
    "    \"items\": {\n",
    "        \"sword\": \"불꽃의 검\",\n",
    "        \"armor\": \"풀플레이트\"\n",
    "    },\n",
    "    \"skill\": [\"베기\", \"세게 베기\", \"아주 세게 베기\"]\n",
    "}\n",
    "num = 1\n",
    "# for 반복문 사용\n",
    "for key in character :\n",
    "    \n",
    "    # str 이면 : 변수 그대로 찍기, character[key]\n",
    "    if type(character[key]) is str :\n",
    "        print(f\"{key} : {character[key]}\")\n",
    "        \n",
    "    # int 이면 : 변수 그대로 찍기, character[key]\n",
    "    if type(character[key]) is int :\n",
    "        print(f\"{key} : {character[key]}\")\n",
    "        \n",
    "    # dict 이면 : character[key] 다시 순회, character[key][sub_key]\n",
    "    if type(character[key]) is dict :\n",
    "        for sub_key in character[key] :\n",
    "            #print(item)\n",
    "            print(f\"{sub_key} : {character[key][sub_key]}\")\n",
    "        \n",
    "    # list 이면 : character[key] 다시 순회 리스트 값 찍기\n",
    "    if type(character[key]) is list :\n",
    "        # character[key] : skill키의 값 => 리스트\n",
    "        # print(character[key])\n",
    "        for idx, item in enumerate(character[key], 1) :\n",
    "            # print(item.index)\n",
    "            # idx += 1\n",
    "            print(f\"{key}{idx} : {item}\")\n",
    "        # for item in character[key] :\n",
    "        #     #print(item)\n",
    "        #     print(f\"{key}{num} : {item}\")\n",
    "        #     num = num+1"
   ]
  },
  {
   "cell_type": "code",
   "execution_count": null,
   "id": "2ee6b901-0608-4fc9-aed1-ecfc9612cbf4",
   "metadata": {},
   "outputs": [],
   "source": []
  }
 ],
 "metadata": {
  "kernelspec": {
   "display_name": "Python 3 (ipykernel)",
   "language": "python",
   "name": "python3"
  },
  "language_info": {
   "codemirror_mode": {
    "name": "ipython",
    "version": 3
   },
   "file_extension": ".py",
   "mimetype": "text/x-python",
   "name": "python",
   "nbconvert_exporter": "python",
   "pygments_lexer": "ipython3",
   "version": "3.10.10"
  }
 },
 "nbformat": 4,
 "nbformat_minor": 5
}
