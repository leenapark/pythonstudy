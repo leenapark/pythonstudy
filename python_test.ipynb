{
 "cells": [
  {
   "cell_type": "markdown",
   "id": "46e71ec0-6164-4d81-9e21-e84933d1f266",
   "metadata": {
    "tags": []
   },
   "source": [
    "# 파이썬 테스트\n",
    "## 주피터 랩 사용법\n",
    "- 코드셀 사용\n",
    "- 문자셀 사용\n",
    "\n",
    "### 단축키\n",
    "- 명령 모드 실행: ESC + ?\n",
    "    - a: 현재 셀의 앞쪽 셀 추가\n",
    "    - b: 현재 셀의 뒷쪽 셀 추가\n",
    "    - m: 코드셀 -> 문자셀\n",
    "    - Y: 문자셀 -> 코드셀\n",
    "    - D + D: Cell 삭제\n",
    "    - CTRL + B: 화면 확대\n",
    "    - SHIFT + M: cell 병합\n",
    "    - CTRL + SHIFT + –: 현재 커서 위치를 기준으로 2개의 cell 로 구분\n",
    "    - SHIFT+J or SHIFT + DOWN: 현재 cell 에서 아래쪽 위치 cell를 같이 선택\n",
    "    - SHIFT + K or SHIFT + UP: 현재 cell 에서 위쪽 위치 cell를 같이 선택\n",
    "    - CTRL + / : 주석\n",
    "    - CTRL+D: 한줄 삭제\n",
    "    - CTRL+\\[ or CTRL+\\] : 단체 indentation / Tab과 Shift+Tab 으로도 가능하지만, text editor 에서는 Shift+tab 이 안먹혀서 CTRL+[\n",
    "## 파이썬 기본 테스트\n",
    "- 출력 함수\n",
    "- 데이터 기본 살펴보기"
   ]
  },
  {
   "cell_type": "code",
   "execution_count": null,
   "id": "10dca7a0-d7cd-496d-a53f-a7f3736eead9",
   "metadata": {},
   "outputs": [],
   "source": []
  },
  {
   "cell_type": "code",
   "execution_count": null,
   "id": "6b822b6f-5d26-4a44-9d22-05c820033560",
   "metadata": {
    "tags": []
   },
   "outputs": [],
   "source": [
    "a=2"
   ]
  },
  {
   "cell_type": "code",
   "execution_count": 3,
   "id": "06bdcc06-2eee-4880-917c-8124389ad4c5",
   "metadata": {
    "tags": []
   },
   "outputs": [],
   "source": [
    "b=5\n",
    "\n",
    "a = \"안녕\"\n",
    "\n",
    "a+b"
   ]
  },
  {
   "cell_type": "code",
   "execution_count": null,
   "id": "bf19c304-1b7e-43fb-935d-1390838683ca",
   "metadata": {},
   "outputs": [],
   "source": []
  },
  {
   "cell_type": "code",
   "execution_count": 6,
   "id": "743f4b82-0261-491b-ad44-acbc2f3982cc",
   "metadata": {
    "tags": []
   },
   "outputs": [
    {
     "data": {
      "text/plain": [
       "'안녕'"
      ]
     },
     "execution_count": 6,
     "metadata": {},
     "output_type": "execute_result"
    }
   ],
   "source": [
    "a"
   ]
  },
  {
   "cell_type": "code",
   "execution_count": null,
   "id": "d867efc6-3457-400c-940d-23ef0ef2391f",
   "metadata": {},
   "outputs": [],
   "source": []
  }
 ],
 "metadata": {
  "kernelspec": {
   "display_name": "Python 3 (ipykernel)",
   "language": "python",
   "name": "python3"
  },
  "language_info": {
   "codemirror_mode": {
    "name": "ipython",
    "version": 3
   },
   "file_extension": ".py",
   "mimetype": "text/x-python",
   "name": "python",
   "nbconvert_exporter": "python",
   "pygments_lexer": "ipython3",
   "version": "3.10.10"
  }
 },
 "nbformat": 4,
 "nbformat_minor": 5
}
