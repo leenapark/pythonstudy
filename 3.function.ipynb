{
 "cells": [
  {
   "cell_type": "markdown",
   "id": "44f59d88-f80d-46ad-8a76-e6f2e28f87d7",
   "metadata": {},
   "source": [
    "# 함수(function) 활용"
   ]
  },
  {
   "cell_type": "markdown",
   "id": "fd63fd91-58eb-47ef-a09d-c8f5ab3db965",
   "metadata": {},
   "source": [
    "- 함수 정의부\n",
    "<pre>\n",
    "def 함수이름():\n",
    "    실행문장1\n",
    "    실행문장2\n",
    "</pre>\n",
    "- 함수 호출부\n",
    "<pre>\n",
    "    함수 이름()\n",
    "</pre>"
   ]
  },
  {
   "cell_type": "code",
   "execution_count": 4,
   "id": "ac0baf1a-91c5-449c-9290-76fe7cd9be30",
   "metadata": {
    "tags": []
   },
   "outputs": [
    {
     "name": "stdout",
     "output_type": "stream",
     "text": [
      "안녕하세요.\n",
      "안녕하세요.\n",
      "안녕하세요.\n"
     ]
    }
   ],
   "source": [
    "#함수 정의부\n",
    "def print3Times():\n",
    "    print(\"안녕하세요.\")\n",
    "    print(\"안녕하세요.\")\n",
    "    print(\"안녕하세요.\")\n",
    "\n",
    "# 함수 호출\n",
    "print3Times()"
   ]
  },
  {
   "cell_type": "code",
   "execution_count": 15,
   "id": "895fc66c-c2b5-4efb-aa7c-4b0acb9b1093",
   "metadata": {
    "tags": []
   },
   "outputs": [],
   "source": [
    "# 매개 변수(parameter)가 있는 함수\n",
    "\n",
    "def print3Num1(num):\n",
    "    print(\"안녕하세요.{}\".format(num))\n",
    "    print(\"안녕하세요.{}\".format(num+1))\n",
    "    print(\"안녕하세요.{}\".format(num+2))\n"
   ]
  },
  {
   "cell_type": "code",
   "execution_count": 16,
   "id": "2dff99cc-4410-4d23-9e34-af9348240717",
   "metadata": {
    "tags": []
   },
   "outputs": [
    {
     "name": "stdout",
     "output_type": "stream",
     "text": [
      "안녕하세요.2\n",
      "안녕하세요.3\n",
      "안녕하세요.4\n"
     ]
    }
   ],
   "source": [
    "# num은 전달인자(argument)\n",
    "print3Num1(2)"
   ]
  },
  {
   "cell_type": "code",
   "execution_count": 19,
   "id": "ae72f7a1-c365-4558-a1b6-5feb82dffb42",
   "metadata": {
    "tags": []
   },
   "outputs": [
    {
     "name": "stdout",
     "output_type": "stream",
     "text": [
      "안녕하세요.4\n",
      "안녕하세요.5\n"
     ]
    }
   ],
   "source": [
    "def print3Num2(num):\n",
    "    print(\"안녕하세요.{}\".format(num))\n",
    "    print(\"안녕하세요.{}\".format(num+1))\n",
    "    return # return 값 전까지 호출됨\n",
    "    print(\"안녕하세요.{}\".format(num+2))\n",
    "    print(\"안녕하세요.{}\".format(num+3))\n",
    "\n",
    "print3Num2(4)"
   ]
  },
  {
   "cell_type": "code",
   "execution_count": 38,
   "id": "94c71597-3db4-4ec8-a1bc-9d9a4b2d4083",
   "metadata": {
    "tags": []
   },
   "outputs": [
    {
     "name": "stdout",
     "output_type": "stream",
     "text": [
      "안녕하세요.1\n",
      "안녕하세요.2\n",
      "print:  4\n",
      "안녕하세요.1\n",
      "안녕하세요.2\n",
      "return:  4\n"
     ]
    }
   ],
   "source": [
    "def print3Num3(num):\n",
    "    print(\"안녕하세요.{}\".format(num))\n",
    "    print(\"안녕하세요.{}\".format(num+1))\n",
    "    return 4\n",
    "    print(\"안녕하세요.{}\".format(num+2))\n",
    "    print(\"안녕하세요.{}\".format(num+3))\n",
    "\n",
    "print(\"print: \", print3Num3(1))\n",
    "retVal = print3Num3(1)\n",
    "print(\"return: \", retVal)"
   ]
  },
  {
   "cell_type": "code",
   "execution_count": 37,
   "id": "890c51ea-592a-4bc5-b281-0bb3d8b4fc34",
   "metadata": {
    "tags": []
   },
   "outputs": [
    {
     "name": "stdout",
     "output_type": "stream",
     "text": [
      "안녕하세요.1\n",
      "안녕하세요.2\n",
      "안녕하세요.3\n",
      "안녕하세요.4\n",
      "print:  안녕하세요.5\n",
      "안녕하세요.1\n",
      "안녕하세요.2\n",
      "안녕하세요.3\n",
      "안녕하세요.4\n",
      "return:  안녕하세요.5\n"
     ]
    }
   ],
   "source": [
    "def print3Num3_1(num):\n",
    "    print(\"안녕하세요.{}\".format(num))\n",
    "    print(\"안녕하세요.{}\".format(num+1))\n",
    "    print(\"안녕하세요.{}\".format(num+2))\n",
    "    print(\"안녕하세요.{}\".format(num+3))\n",
    "    return \"안녕하세요.{}\".format(num+4)\n",
    "print(\"print: \", print3Num3_1(1))\n",
    "retVal1 = print3Num3_1(1)\n",
    "print(\"return: \", retVal1)"
   ]
  },
  {
   "cell_type": "code",
   "execution_count": 45,
   "id": "9f66b178-f8e0-4cc1-9fe2-493f52385763",
   "metadata": {
    "tags": []
   },
   "outputs": [
    {
     "name": "stdout",
     "output_type": "stream",
     "text": [
      "안녕하세요.1\n",
      "안녕하세요.3\n",
      "안녕하세요.5\n",
      "안녕하세요.6\n",
      "return:  None\n"
     ]
    }
   ],
   "source": [
    "def print3Num4(num):\n",
    "    print(\"안녕하세요.{}\".format(num))\n",
    "    num = num + 1\n",
    "    print(\"안녕하세요.{}\".format(num+1))\n",
    "    num = num + 1\n",
    "    if num > 3:\n",
    "        return \"return\"\n",
    "    else:\n",
    "        print(\"안녕하세요.{}\".format(num+2))\n",
    "        print(\"안녕하세요.{}\".format(num+3))\n",
    "\n",
    "retVal2 = print3Num4(1)\n",
    "print(\"return: \", retVal2)"
   ]
  },
  {
   "cell_type": "markdown",
   "id": "ed89e049-e548-4d0d-b6ab-17f998bea5e9",
   "metadata": {},
   "source": [
    "# 두 수를 전달 받아서 더하는 함수 정의"
   ]
  },
  {
   "cell_type": "code",
   "execution_count": 58,
   "id": "d3c9952b-aaec-4a8d-9f89-253f0d9f3ccf",
   "metadata": {
    "tags": []
   },
   "outputs": [
    {
     "name": "stdin",
     "output_type": "stream",
     "text": [
      "숫자를 입력해주세요. 55.25\n",
      "숫자를 입력해주세요. 46\n"
     ]
    }
   ],
   "source": [
    "num1 = eval(input(\"숫자를 입력해주세요.\"))\n",
    "num2 = eval(input(\"숫자를 입력해주세요.\"))\n",
    "\n",
    "def plus(num1, num2):\n",
    "    return num1 + num2"
   ]
  },
  {
   "cell_type": "markdown",
   "id": "c3c6b490-e215-4339-aa4d-1a5965d9ac32",
   "metadata": {},
   "source": [
    "# 정의한 함수에 두 수를 전달해서 더한 결과를 프린트 하기"
   ]
  },
  {
   "cell_type": "code",
   "execution_count": 59,
   "id": "6b053bdb-866d-48e1-ac0b-f3fa0e5775c1",
   "metadata": {
    "tags": []
   },
   "outputs": [
    {
     "name": "stdout",
     "output_type": "stream",
     "text": [
      "101.25\n"
     ]
    }
   ],
   "source": [
    "result = plus(num1, num2)\n",
    "\n",
    "print(result)"
   ]
  },
  {
   "cell_type": "code",
   "execution_count": null,
   "id": "a2d0fe8b-c77d-4731-abb7-1eda1e60d6d2",
   "metadata": {},
   "outputs": [],
   "source": []
  }
 ],
 "metadata": {
  "kernelspec": {
   "display_name": "Python 3 (ipykernel)",
   "language": "python",
   "name": "python3"
  },
  "language_info": {
   "codemirror_mode": {
    "name": "ipython",
    "version": 3
   },
   "file_extension": ".py",
   "mimetype": "text/x-python",
   "name": "python",
   "nbconvert_exporter": "python",
   "pygments_lexer": "ipython3",
   "version": "3.10.10"
  }
 },
 "nbformat": 4,
 "nbformat_minor": 5
}
