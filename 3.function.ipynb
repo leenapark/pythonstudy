{
 "cells": [
  {
   "cell_type": "markdown",
   "id": "44f59d88-f80d-46ad-8a76-e6f2e28f87d7",
   "metadata": {},
   "source": [
    "# 함수(function) 활용"
   ]
  },
  {
   "cell_type": "markdown",
   "id": "fd63fd91-58eb-47ef-a09d-c8f5ab3db965",
   "metadata": {},
   "source": [
    "- 함수 정의부\n",
    "<pre>\n",
    "def 함수이름():\n",
    "    실행문장1\n",
    "    실행문장2\n",
    "</pre>\n",
    "- 함수 호출부\n",
    "<pre>\n",
    "    함수 이름()\n",
    "</pre>"
   ]
  },
  {
   "cell_type": "code",
   "execution_count": 4,
   "id": "ac0baf1a-91c5-449c-9290-76fe7cd9be30",
   "metadata": {
    "tags": []
   },
   "outputs": [
    {
     "name": "stdout",
     "output_type": "stream",
     "text": [
      "안녕하세요.\n",
      "안녕하세요.\n",
      "안녕하세요.\n"
     ]
    }
   ],
   "source": [
    "#함수 정의부\n",
    "def print3Times():\n",
    "    print(\"안녕하세요.\")\n",
    "    print(\"안녕하세요.\")\n",
    "    print(\"안녕하세요.\")\n",
    "\n",
    "# 함수 호출\n",
    "print3Times()"
   ]
  },
  {
   "cell_type": "code",
   "execution_count": 15,
   "id": "895fc66c-c2b5-4efb-aa7c-4b0acb9b1093",
   "metadata": {
    "tags": []
   },
   "outputs": [],
   "source": [
    "# 매개 변수(parameter)가 있는 함수\n",
    "\n",
    "def print3Num1(num):\n",
    "    print(\"안녕하세요.{}\".format(num))\n",
    "    print(\"안녕하세요.{}\".format(num+1))\n",
    "    print(\"안녕하세요.{}\".format(num+2))\n"
   ]
  },
  {
   "cell_type": "code",
   "execution_count": 16,
   "id": "2dff99cc-4410-4d23-9e34-af9348240717",
   "metadata": {
    "tags": []
   },
   "outputs": [
    {
     "name": "stdout",
     "output_type": "stream",
     "text": [
      "안녕하세요.2\n",
      "안녕하세요.3\n",
      "안녕하세요.4\n"
     ]
    }
   ],
   "source": [
    "# num은 전달인자(argument)\n",
    "print3Num1(2)"
   ]
  },
  {
   "cell_type": "code",
   "execution_count": 19,
   "id": "ae72f7a1-c365-4558-a1b6-5feb82dffb42",
   "metadata": {
    "tags": []
   },
   "outputs": [
    {
     "name": "stdout",
     "output_type": "stream",
     "text": [
      "안녕하세요.4\n",
      "안녕하세요.5\n"
     ]
    }
   ],
   "source": [
    "def print3Num2(num):\n",
    "    print(\"안녕하세요.{}\".format(num))\n",
    "    print(\"안녕하세요.{}\".format(num+1))\n",
    "    return # return 값 전까지 호출됨\n",
    "    print(\"안녕하세요.{}\".format(num+2))\n",
    "    print(\"안녕하세요.{}\".format(num+3))\n",
    "\n",
    "print3Num2(4)"
   ]
  },
  {
   "cell_type": "code",
   "execution_count": 38,
   "id": "94c71597-3db4-4ec8-a1bc-9d9a4b2d4083",
   "metadata": {
    "tags": []
   },
   "outputs": [
    {
     "name": "stdout",
     "output_type": "stream",
     "text": [
      "안녕하세요.1\n",
      "안녕하세요.2\n",
      "print:  4\n",
      "안녕하세요.1\n",
      "안녕하세요.2\n",
      "return:  4\n"
     ]
    }
   ],
   "source": [
    "def print3Num3(num):\n",
    "    print(\"안녕하세요.{}\".format(num))\n",
    "    print(\"안녕하세요.{}\".format(num+1))\n",
    "    return 4\n",
    "    print(\"안녕하세요.{}\".format(num+2))\n",
    "    print(\"안녕하세요.{}\".format(num+3))\n",
    "\n",
    "print(\"print: \", print3Num3(1))\n",
    "retVal = print3Num3(1)\n",
    "print(\"return: \", retVal)"
   ]
  },
  {
   "cell_type": "code",
   "execution_count": 37,
   "id": "890c51ea-592a-4bc5-b281-0bb3d8b4fc34",
   "metadata": {
    "tags": []
   },
   "outputs": [
    {
     "name": "stdout",
     "output_type": "stream",
     "text": [
      "안녕하세요.1\n",
      "안녕하세요.2\n",
      "안녕하세요.3\n",
      "안녕하세요.4\n",
      "print:  안녕하세요.5\n",
      "안녕하세요.1\n",
      "안녕하세요.2\n",
      "안녕하세요.3\n",
      "안녕하세요.4\n",
      "return:  안녕하세요.5\n"
     ]
    }
   ],
   "source": [
    "def print3Num3_1(num):\n",
    "    print(\"안녕하세요.{}\".format(num))\n",
    "    print(\"안녕하세요.{}\".format(num+1))\n",
    "    print(\"안녕하세요.{}\".format(num+2))\n",
    "    print(\"안녕하세요.{}\".format(num+3))\n",
    "    return \"안녕하세요.{}\".format(num+4)\n",
    "print(\"print: \", print3Num3_1(1))\n",
    "retVal1 = print3Num3_1(1)\n",
    "print(\"return: \", retVal1)"
   ]
  },
  {
   "cell_type": "code",
   "execution_count": 45,
   "id": "9f66b178-f8e0-4cc1-9fe2-493f52385763",
   "metadata": {
    "tags": []
   },
   "outputs": [
    {
     "name": "stdout",
     "output_type": "stream",
     "text": [
      "안녕하세요.1\n",
      "안녕하세요.3\n",
      "안녕하세요.5\n",
      "안녕하세요.6\n",
      "return:  None\n"
     ]
    }
   ],
   "source": [
    "def print3Num4(num):\n",
    "    print(\"안녕하세요.{}\".format(num))\n",
    "    num = num + 1\n",
    "    print(\"안녕하세요.{}\".format(num+1))\n",
    "    num = num + 1\n",
    "    if num > 3:\n",
    "        return \"return\"\n",
    "    else:\n",
    "        print(\"안녕하세요.{}\".format(num+2))\n",
    "        print(\"안녕하세요.{}\".format(num+3))\n",
    "\n",
    "retVal2 = print3Num4(1)\n",
    "print(\"return: \", retVal2)"
   ]
  },
  {
   "cell_type": "markdown",
   "id": "ed89e049-e548-4d0d-b6ab-17f998bea5e9",
   "metadata": {},
   "source": [
    "# 두 수를 전달 받아서 더하는 함수 정의"
   ]
  },
  {
   "cell_type": "code",
   "execution_count": 58,
   "id": "d3c9952b-aaec-4a8d-9f89-253f0d9f3ccf",
   "metadata": {
    "tags": []
   },
   "outputs": [
    {
     "name": "stdin",
     "output_type": "stream",
     "text": [
      "숫자를 입력해주세요. 55.25\n",
      "숫자를 입력해주세요. 46\n"
     ]
    }
   ],
   "source": [
    "num1 = eval(input(\"숫자를 입력해주세요.\"))\n",
    "num2 = eval(input(\"숫자를 입력해주세요.\"))\n",
    "\n",
    "def plus(num1, num2):\n",
    "    return num1 + num2"
   ]
  },
  {
   "cell_type": "markdown",
   "id": "c3c6b490-e215-4339-aa4d-1a5965d9ac32",
   "metadata": {},
   "source": [
    "# 정의한 함수에 두 수를 전달해서 더한 결과를 프린트 하기"
   ]
  },
  {
   "cell_type": "code",
   "execution_count": 59,
   "id": "6b053bdb-866d-48e1-ac0b-f3fa0e5775c1",
   "metadata": {
    "tags": []
   },
   "outputs": [
    {
     "name": "stdout",
     "output_type": "stream",
     "text": [
      "101.25\n"
     ]
    }
   ],
   "source": [
    "result = plus(num1, num2)\n",
    "\n",
    "print(result)"
   ]
  },
  {
   "cell_type": "markdown",
   "id": "bbed55f9-c82f-4561-a892-2371a3f638fa",
   "metadata": {},
   "source": [
    "## 가변 매개변수"
   ]
  },
  {
   "cell_type": "code",
   "execution_count": 2,
   "id": "c18f7c9c-baf4-43b8-9676-ad766bc7acf2",
   "metadata": {
    "tags": []
   },
   "outputs": [],
   "source": [
    "def sumNums(num1, num2, num3, *num_etc):\n",
    "        print(f\"{num1} : {num2} : {num3} : {num_etc}\")"
   ]
  },
  {
   "cell_type": "code",
   "execution_count": 15,
   "id": "27220c75-6d03-4432-bc20-0c1f19782bce",
   "metadata": {
    "tags": []
   },
   "outputs": [
    {
     "name": "stdout",
     "output_type": "stream",
     "text": [
      "1 : 2 : 3 : [4, 5, 6, 7, 8]\n",
      "test <function sumNums at 0x000001CF391212D0>\n"
     ]
    }
   ],
   "source": [
    "# 가변 매개 변수에서 tuple로 *etc의 받아줌 : () 로 쌓여 있는 자료형\n",
    "# 가변 매개 변수 사용법 : *변수명\n",
    "sumNums(1, 2, 3, 4, 5, 6, 7, 8)\n",
    "print(\"test\", sumNums)"
   ]
  },
  {
   "cell_type": "code",
   "execution_count": 14,
   "id": "d3c036af-cb73-4815-810f-aff32bb46849",
   "metadata": {
    "tags": []
   },
   "outputs": [
    {
     "name": "stdout",
     "output_type": "stream",
     "text": [
      "1 : 2 : 3 : [4, 5, 6, 7, 8]\n"
     ]
    }
   ],
   "source": [
    "# list로 형변환 할 수 있음\n",
    "def sumNums(num1, num2, num3, *num_etc):\n",
    "        print(f\"{num1} : {num2} : {num3} : {list(num_etc)}\")\n",
    "sumNums(1, 2, 3, 4, 5, 6, 7, 8)\n",
    "# print(\"test\", sumNums(1, 2, 3, 4, 5, 6, 7, 8))"
   ]
  },
  {
   "cell_type": "code",
   "execution_count": 25,
   "id": "0c625150-b807-4ee1-9f21-00aafb6577c6",
   "metadata": {
    "tags": []
   },
   "outputs": [
    {
     "name": "stdout",
     "output_type": "stream",
     "text": [
      "11 : 12 : 13 : (1, 2, 3, 4, 5, 6, 7, 8)\n"
     ]
    }
   ],
   "source": [
    "# 가변 매개 변수는 가장 앞자리에서 사용할 수 없음\n",
    "# def sumNums(*num_etc, num1, num2, num3):\n",
    "#         print(f\"{num1} : {num2} : {num3} : {list(num_etc)}\")\n",
    "# sumNums(1, 2, 3, 4, 5, 6, 7, 8)\n",
    "# print(\"test\", sumNums(1, 2, 3, 4, 5, 6, 7, 8))\n",
    "\n",
    "# 단독 사용 가능\n",
    "# def sumNums(*num_etc):\n",
    "        # print(f\"{list(num_etc)}\")\n",
    "# sumNums(1, 2, 3, 4, 5, 6, 7, 8)\n",
    "\n",
    "# keyworld 매개 변수\n",
    "# keyworld 매개 변수는 함수 정의 시 변수에 초기값을 설정해주면 오류나지 않음\n",
    "def sumNums2(*num_etc, num1=11, num2=12, num3=13):\n",
    "        print(f\"{num1} : {num2} : {num3} : {num_etc}\")\n",
    "sumNums2(1, 2, 3, 4, 5, 6, 7, 8)"
   ]
  },
  {
   "cell_type": "code",
   "execution_count": 33,
   "id": "9b43ad79-90fe-4b1f-a661-10b9fb109562",
   "metadata": {
    "tags": []
   },
   "outputs": [
    {
     "ename": "SyntaxError",
     "evalue": "positional argument follows keyword argument (2424695491.py, line 4)",
     "output_type": "error",
     "traceback": [
      "\u001b[1;36m  Cell \u001b[1;32mIn[33], line 4\u001b[1;36m\u001b[0m\n\u001b[1;33m    sumNums3(num1=1, num2=2, num3=3, 4, 5, 6, 7, 8)\u001b[0m\n\u001b[1;37m                                                  ^\u001b[0m\n\u001b[1;31mSyntaxError\u001b[0m\u001b[1;31m:\u001b[0m positional argument follows keyword argument\n"
     ]
    }
   ],
   "source": [
    "# 호출 할 때 초기 설정한 keyworld가 뒤로 가야함\n",
    "def sumNums3(num1=11, num2=12, num3=13, *num_etc):\n",
    "        print(f\"{num1} : {num2} : {num3} : {num_etc}\")\n",
    "sumNums3(num1=1, num2=2, num3=3, 4, 5, 6, 7, 8)"
   ]
  },
  {
   "cell_type": "code",
   "execution_count": 34,
   "id": "c3fac344-1b31-493d-9784-f96da648503c",
   "metadata": {
    "tags": []
   },
   "outputs": [
    {
     "name": "stdout",
     "output_type": "stream",
     "text": [
      "1 : 2 : 3 : (4, 5, 6, 7, 8)\n"
     ]
    }
   ],
   "source": [
    "def sumNums4(*num_etc, num1, num2, num3):\n",
    "        print(f\"{num1} : {num2} : {num3} : {num_etc}\")\n",
    "sumNums4(4, 5, 6, 7, 8, num1=1, num2=2, num3=3)"
   ]
  },
  {
   "cell_type": "code",
   "execution_count": 38,
   "id": "43e91193-26eb-4841-9f17-30ad5a03ff2d",
   "metadata": {
    "tags": []
   },
   "outputs": [
    {
     "name": "stdout",
     "output_type": "stream",
     "text": [
      "1 : 2 : 3 : (4, 5, 6, 7, 8)\n"
     ]
    }
   ],
   "source": [
    "def sumNums5(*num_etc, num1=11, num2=12, num3=13):\n",
    "        print(f\"{num1} : {num2} : {num3} : {num_etc}\")\n",
    "sumNums5(4, 5, 6, 7, 8, num1=1, num2=2, num3=3)"
   ]
  },
  {
   "cell_type": "code",
   "execution_count": 41,
   "id": "fefb56a0-1bc9-4ca6-b171-677810fb62c6",
   "metadata": {
    "tags": []
   },
   "outputs": [
    {
     "name": "stdout",
     "output_type": "stream",
     "text": [
      "4 : 5 : 6 : (7, 8, 1, 2, 3, 9)\n"
     ]
    }
   ],
   "source": [
    "# 오류가 나는 건 아니지만 값이 잘못 설정될 수 있어 사용하지 않는 게 좋다\n",
    "def sumNums6(num1=11, num2=12, num3=13, *num_etc):\n",
    "        print(f\"{num1} : {num2} : {num3} : {num_etc}\")\n",
    "sumNums6(4, 5, 6, 7, 8, 1, 2, 3, 9)"
   ]
  },
  {
   "cell_type": "code",
   "execution_count": 44,
   "id": "21b3dbe3-66ca-4989-b3f6-aa5c08c841ae",
   "metadata": {
    "tags": []
   },
   "outputs": [
    {
     "name": "stdout",
     "output_type": "stream",
     "text": [
      "2 : 3 : 9 : (4, 5, 6, 7, 8, 1)\n"
     ]
    }
   ],
   "source": [
    "def sumNums7(*num_etc, num1=11, num2=12, num3=13):\n",
    "        print(f\"{num1} : {num2} : {num3} : {num_etc}\")\n",
    "sumNums7(4, 5, 6, 7, 8, 1, num1=2, num2=3, num3=9)"
   ]
  },
  {
   "cell_type": "markdown",
   "id": "d8f71f27-8297-494d-b07f-3e527e332152",
   "metadata": {},
   "source": [
    "## 기본 매개 변수 & keyworld 매개 변수 & 가변 매개 변수"
   ]
  },
  {
   "cell_type": "code",
   "execution_count": 51,
   "id": "81bfd538-012c-4613-b38d-4f84bf4feb1c",
   "metadata": {
    "tags": []
   },
   "outputs": [
    {
     "name": "stdout",
     "output_type": "stream",
     "text": [
      "2 : 3 : 9 : (6, 7, 8, 1) : 4 : 5\n"
     ]
    }
   ],
   "source": [
    "# 기본 매개 변수는 가변 매개 변수 앞에 사용할 수 있음\n",
    "\n",
    "def sumNums8(num4, num5, *num_etc, num1=11, num2=12, num3=13):\n",
    "        print(f\"{num1} : {num2} : {num3} : {num_etc} : {num4} : {num5}\")\n",
    "sumNums8(4, 5, 6, 7, 8, 1, num1=2, num2=3, num3=9)"
   ]
  },
  {
   "cell_type": "code",
   "execution_count": 55,
   "id": "aec28b23-6cce-4291-9aa4-98d4ad6491ce",
   "metadata": {
    "tags": []
   },
   "outputs": [
    {
     "name": "stdout",
     "output_type": "stream",
     "text": [
      "(6, 7, 8, 1, 2, 3, 9) : 4 : 5\n"
     ]
    }
   ],
   "source": [
    "def sumNums9(num4, num5, *num_etc):\n",
    "        print(f\"{num_etc} : {num4} : {num5}\")\n",
    "sumNums9(4, 5, 6, 7, 8, 1, 2, 3, 9)"
   ]
  },
  {
   "cell_type": "code",
   "execution_count": 57,
   "id": "441837e7-cfc3-42a9-b52e-9d7d113078f4",
   "metadata": {
    "tags": []
   },
   "outputs": [
    {
     "name": "stdout",
     "output_type": "stream",
     "text": [
      "11 : 12 : 13 : (6, 7, 8, 1) : 4 : 5\n"
     ]
    }
   ],
   "source": [
    "def sumNums8(num4, num5, *num_etc, num1=11, num2=12, num3=13):\n",
    "        print(f\"{num1} : {num2} : {num3} : {num_etc} : {num4} : {num5}\")\n",
    "sumNums8(4, 5, 6, 7, 8, 1)"
   ]
  },
  {
   "cell_type": "code",
   "execution_count": 63,
   "id": "7e75e452-7b9e-4a9a-b634-37fd0f54079a",
   "metadata": {
    "tags": []
   },
   "outputs": [
    {
     "name": "stdout",
     "output_type": "stream",
     "text": [
      "11 : 12 : 13 : () : 4 : 5\n"
     ]
    }
   ],
   "source": [
    "# 기본 매개 변수 값을 충족해주면 사용이 가능함\n",
    "# 가변 매개 변수는 값이 없어도 실행됨\n",
    "def sumNums9(num4, num5, *num_etc, num1=11, num2=12, num3=13):\n",
    "        print(f\"{num1} : {num2} : {num3} : {num_etc} : {num4} : {num5}\")\n",
    "sumNums9(4, 5)"
   ]
  },
  {
   "cell_type": "code",
   "execution_count": 62,
   "id": "5d931117-a2ed-41e3-b36b-e7e636dc483c",
   "metadata": {
    "tags": []
   },
   "outputs": [
    {
     "ename": "TypeError",
     "evalue": "sumNums9() missing 1 required positional argument: 'num5'",
     "output_type": "error",
     "traceback": [
      "\u001b[1;31m---------------------------------------------------------------------------\u001b[0m",
      "\u001b[1;31mTypeError\u001b[0m                                 Traceback (most recent call last)",
      "Cell \u001b[1;32mIn[62], line 4\u001b[0m\n\u001b[0;32m      2\u001b[0m \u001b[38;5;28;01mdef\u001b[39;00m \u001b[38;5;21msumNums9\u001b[39m(num4, num5, \u001b[38;5;241m*\u001b[39mnum_etc, num1\u001b[38;5;241m=\u001b[39m\u001b[38;5;241m11\u001b[39m, num2\u001b[38;5;241m=\u001b[39m\u001b[38;5;241m12\u001b[39m, num3\u001b[38;5;241m=\u001b[39m\u001b[38;5;241m13\u001b[39m):\n\u001b[0;32m      3\u001b[0m         \u001b[38;5;28mprint\u001b[39m(\u001b[38;5;124mf\u001b[39m\u001b[38;5;124m\"\u001b[39m\u001b[38;5;132;01m{\u001b[39;00mnum1\u001b[38;5;132;01m}\u001b[39;00m\u001b[38;5;124m : \u001b[39m\u001b[38;5;132;01m{\u001b[39;00mnum2\u001b[38;5;132;01m}\u001b[39;00m\u001b[38;5;124m : \u001b[39m\u001b[38;5;132;01m{\u001b[39;00mnum3\u001b[38;5;132;01m}\u001b[39;00m\u001b[38;5;124m : \u001b[39m\u001b[38;5;132;01m{\u001b[39;00mnum_etc\u001b[38;5;132;01m}\u001b[39;00m\u001b[38;5;124m : \u001b[39m\u001b[38;5;132;01m{\u001b[39;00mnum4\u001b[38;5;132;01m}\u001b[39;00m\u001b[38;5;124m : \u001b[39m\u001b[38;5;132;01m{\u001b[39;00mnum5\u001b[38;5;132;01m}\u001b[39;00m\u001b[38;5;124m\"\u001b[39m)\n\u001b[1;32m----> 4\u001b[0m \u001b[43msumNums9\u001b[49m\u001b[43m(\u001b[49m\u001b[38;5;241;43m4\u001b[39;49m\u001b[43m)\u001b[49m\n",
      "\u001b[1;31mTypeError\u001b[0m: sumNums9() missing 1 required positional argument: 'num5'"
     ]
    }
   ],
   "source": [
    "# 기본 매개 변수 값을 충족하지 않으면 오류남: 값이 없기 때문에\n",
    "def sumNums9(num4, num5, *num_etc, num1=11, num2=12, num3=13):\n",
    "        print(f\"{num1} : {num2} : {num3} : {num_etc} : {num4} : {num5}\")\n",
    "sumNums9(4)"
   ]
  },
  {
   "cell_type": "code",
   "execution_count": 65,
   "id": "94a4af7b-8bfa-44d2-b965-4b0c77373692",
   "metadata": {
    "tags": []
   },
   "outputs": [
    {
     "name": "stdout",
     "output_type": "stream",
     "text": [
      "()\n"
     ]
    }
   ],
   "source": [
    "# 값이 존재하지 않을 수 있기 대문에 가변 매개 변수는 단독으로도 실행이 가능함\n",
    "\n",
    "def sumNums10(*num_etc):\n",
    "        print(f\"{num_etc}\")\n",
    "sumNums10()"
   ]
  },
  {
   "cell_type": "code",
   "execution_count": 67,
   "id": "6412bd00-3f0c-4a3d-b525-59b5e4bd5568",
   "metadata": {
    "tags": []
   },
   "outputs": [
    {
     "name": "stdout",
     "output_type": "stream",
     "text": [
      "3 : 2 : 9 : (6, 7, 8, 1) : 4 : 5\n"
     ]
    }
   ],
   "source": [
    "def sumNums11(num4, num5, *num_etc, num7=11, num9=12, num8=13):\n",
    "        print(f\"{num8} : {num9} : {num7} : {num_etc} : {num4} : {num5}\")\n",
    "sumNums11(4, 5, 6, 7, 8, 1, num9=2, num8=3, num7=9)"
   ]
  },
  {
   "cell_type": "code",
   "execution_count": 71,
   "id": "63f3cfb2-760d-4170-91d0-601a6cfcefcb",
   "metadata": {
    "tags": []
   },
   "outputs": [
    {
     "ename": "SyntaxError",
     "evalue": "non-default argument follows default argument (352035972.py, line 1)",
     "output_type": "error",
     "traceback": [
      "\u001b[1;36m  Cell \u001b[1;32mIn[71], line 1\u001b[1;36m\u001b[0m\n\u001b[1;33m    def sumNums12(num4, num5, num7=11, num9, num8=13):\u001b[0m\n\u001b[1;37m                                       ^\u001b[0m\n\u001b[1;31mSyntaxError\u001b[0m\u001b[1;31m:\u001b[0m non-default argument follows default argument\n"
     ]
    }
   ],
   "source": [
    "def sumNums12(num4, num5, num7=11, num9, num8=13):\n",
    "        print(f\"{num8} : {num9} : {num7} : {num_etc} : {num4} : {num5}\")\n",
    "sumNums12(4, 5, 1, num8=3, num7=9)"
   ]
  },
  {
   "cell_type": "code",
   "execution_count": 73,
   "id": "392abdc2-4ee4-442a-bfba-edbcfb937b11",
   "metadata": {
    "tags": []
   },
   "outputs": [
    {
     "name": "stdout",
     "output_type": "stream",
     "text": [
      "5 : 2 : 9 : (6, 7, 8, 1) : 4 : 5\n"
     ]
    }
   ],
   "source": [
    "def sumNums13(num4, num5, *num_etc, num7=0, num9, num8=15):\n",
    "        print(f\"{num8} : {num9} : {num7} : {num_etc} : {num4} : {num5}\")\n",
    "sumNums13(4, 5, 6, 7, 8, 1, num9=2, num8=5, num7=9)"
   ]
  },
  {
   "cell_type": "code",
   "execution_count": 81,
   "id": "a9ad4531-1a22-4a29-b872-62961d668905",
   "metadata": {
    "tags": []
   },
   "outputs": [
    {
     "name": "stdout",
     "output_type": "stream",
     "text": [
      "안녕하세요\n",
      "즐거운\n",
      "파이썬 프로그램\n",
      "\n",
      "안녕하세요\n",
      "즐거운\n",
      "파이썬 프로그램\n",
      "\n",
      "안녕하세요\n",
      "즐거운\n",
      "파이썬 프로그램\n",
      "\n",
      "안녕하세요\n",
      "안녕하세요\n",
      "안녕하세요\n",
      "즐거운\n",
      "파이썬 프로그램\n",
      "3\n",
      "\n",
      "안녕하세요\n",
      "즐거운\n",
      "파이썬 프로그램\n",
      "3\n",
      "\n"
     ]
    }
   ],
   "source": [
    "def print_n_times(n, *values):\n",
    "    # n번 반복\n",
    "    for i in range(n):\n",
    "        for value in values:\n",
    "            print(value)\n",
    "        print()\n",
    "print_n_times(3, \"안녕하세요\", \"즐거운\", \"파이썬 프로그램\")\n",
    "\n",
    "def print_n_times2(value ,n=2):\n",
    "    # n번 반복\n",
    "    for i in range(n):\n",
    "        print(value)\n",
    "\n",
    "print_n_times2(\"안녕하세요\")\n",
    "\n",
    "# 오류 코드\n",
    "# 가변 매개 변수가 기본 매개 변수보다 앞에 있기 때문\n",
    "# def print_n_times3(n=2, *values):\n",
    "#     # n번 반복\n",
    "#     for i in range(n):\n",
    "#         for value in values:\n",
    "#             print(value)\n",
    "#         print()\n",
    "# print_n_times3(\"안녕하세요\", \"즐거운\", \"파이썬 프로그램\")\n",
    "\n",
    "# 수정 코드\n",
    "def print_n_times3(*values, n=2):\n",
    "    # n번 반복\n",
    "    for i in range(n):\n",
    "        for value in values:\n",
    "            print(value)\n",
    "        print()\n",
    "print_n_times3(\"안녕하세요\", \"즐거운\", \"파이썬 프로그램\", 3)"
   ]
  },
  {
   "cell_type": "code",
   "execution_count": 91,
   "id": "035ee159-463e-45ff-a567-11881fd379fd",
   "metadata": {
    "tags": []
   },
   "outputs": [
    {
     "ename": "NameError",
     "evalue": "name 'val' is not defined",
     "output_type": "error",
     "traceback": [
      "\u001b[1;31m---------------------------------------------------------------------------\u001b[0m",
      "\u001b[1;31mNameError\u001b[0m                                 Traceback (most recent call last)",
      "Cell \u001b[1;32mIn[91], line 1\u001b[0m\n\u001b[1;32m----> 1\u001b[0m \u001b[38;5;28mprint\u001b[39m(\u001b[43mval\u001b[49m, \u001b[38;5;241m.\u001b[39m\u001b[38;5;241m.\u001b[39m\u001b[38;5;241m.\u001b[39m, sep\u001b[38;5;241m=\u001b[39m\u001b[38;5;124m\"\u001b[39m\u001b[38;5;124m \u001b[39m\u001b[38;5;124m\"\u001b[39m, end\u001b[38;5;241m=\u001b[39m\u001b[38;5;124m\"\u001b[39m\u001b[38;5;130;01m\\n\u001b[39;00m\u001b[38;5;124m\"\u001b[39m, file\u001b[38;5;241m=\u001b[39msys\u001b[38;5;241m.\u001b[39mstdout, flush\u001b[38;5;241m=\u001b[39m\u001b[38;5;28;01mFalse\u001b[39;00m)\n\u001b[0;32m      3\u001b[0m \u001b[38;5;28;01mwhile\u001b[39;00m \u001b[38;5;28;01mTrue\u001b[39;00m:\n\u001b[0;32m      4\u001b[0m     \u001b[38;5;28mprint\u001b[39m(\u001b[38;5;124m\"\u001b[39m\u001b[38;5;124m.\u001b[39m\u001b[38;5;124m\"\u001b[39m, end\u001b[38;5;241m=\u001b[39m\u001b[38;5;124m\"\u001b[39m\u001b[38;5;124m\"\u001b[39m)\n",
      "\u001b[1;31mNameError\u001b[0m: name 'val' is not defined"
     ]
    }
   ],
   "source": [
    "print(val, ..., sep=\" \", end=\"\\n\", file=sys.stdout, flush=False)\n",
    "\n",
    "while True:\n",
    "    print(\".\", end=\"\")"
   ]
  },
  {
   "cell_type": "code",
   "execution_count": 95,
   "id": "c3cca150-38aa-4574-81e5-18042d15dbdd",
   "metadata": {
    "tags": []
   },
   "outputs": [
    {
     "name": "stdout",
     "output_type": "stream",
     "text": [
      "60\n",
      "60\n",
      "60\n",
      "220\n",
      "<function teSt at 0x000001CF3AFB2EF0>\n"
     ]
    }
   ],
   "source": [
    "def teSt(a, b=10, c=100):\n",
    "    print(a + b + c)\n",
    "    \n",
    "# 기본\n",
    "teSt(10, 20, 30)\n",
    "\n",
    "# 매개 변수\n",
    "teSt(a=10, b=20, c=30)\n",
    "\n",
    "# 키워드 매개 변수\n",
    "teSt(a=10, c=30, b=20)\n",
    "\n",
    "# 키워드 매개 변수로 일부 매개 변수 지정\n",
    "teSt(10, c=200)\n"
   ]
  },
  {
   "cell_type": "code",
   "execution_count": 94,
   "id": "a6a30b9c-a654-4c19-b8dd-420a4290bfd6",
   "metadata": {
    "tags": []
   },
   "outputs": [
    {
     "name": "stdout",
     "output_type": "stream",
     "text": [
      "안녕하세요\n",
      "즐거운\n",
      "파이썬 프로그래밍\n",
      "\n",
      "안녕하세요\n",
      "즐거운\n",
      "파이썬 프로그래밍\n",
      "\n",
      "안녕하세요\n",
      "즐거운\n",
      "파이썬 프로그래밍\n",
      "\n"
     ]
    },
    {
     "ename": "NameError",
     "evalue": "name 'n' is not defined",
     "output_type": "error",
     "traceback": [
      "\u001b[1;31m---------------------------------------------------------------------------\u001b[0m",
      "\u001b[1;31mNameError\u001b[0m                                 Traceback (most recent call last)",
      "Cell \u001b[1;32mIn[94], line 7\u001b[0m\n\u001b[0;32m      5\u001b[0m         \u001b[38;5;28mprint\u001b[39m()\n\u001b[0;32m      6\u001b[0m pnt(\u001b[38;5;124m\"\u001b[39m\u001b[38;5;124m안녕하세요\u001b[39m\u001b[38;5;124m\"\u001b[39m,\u001b[38;5;124m\"\u001b[39m\u001b[38;5;124m즐거운\u001b[39m\u001b[38;5;124m\"\u001b[39m,\u001b[38;5;124m\"\u001b[39m\u001b[38;5;124m파이썬 프로그래밍\u001b[39m\u001b[38;5;124m\"\u001b[39m, n\u001b[38;5;241m=\u001b[39m\u001b[38;5;241m3\u001b[39m)\n\u001b[1;32m----> 7\u001b[0m pnt(\u001b[43mn\u001b[49m)\n",
      "\u001b[1;31mNameError\u001b[0m: name 'n' is not defined"
     ]
    }
   ],
   "source": [
    "def pnt(*values,n=2):\n",
    "    for i in range(n):\n",
    "        for value in values:\n",
    "            print(value)\n",
    "        print()\n",
    "pnt(\"안녕하세요\",\"즐거운\",\"파이썬 프로그래밍\", n=3)"
   ]
  },
  {
   "cell_type": "markdown",
   "id": "9302139b-af37-4aca-9a27-7b34bc16e398",
   "metadata": {},
   "source": [
    "# return"
   ]
  },
  {
   "cell_type": "code",
   "execution_count": 104,
   "id": "005ac8ee-dbbf-4051-987c-a9ac800a43fb",
   "metadata": {
    "tags": []
   },
   "outputs": [
    {
     "name": "stdout",
     "output_type": "stream",
     "text": [
      "nums [1, 2, 3, 4]\n",
      "1 2 3 4\n",
      "함수 정의:  (1, 2, 3, 4)\n"
     ]
    },
    {
     "data": {
      "text/plain": [
       "10"
      ]
     },
     "execution_count": 104,
     "metadata": {},
     "output_type": "execute_result"
    }
   ],
   "source": [
    "def sumNums(*values):\n",
    "    print(\"함수 정의: \", values)\n",
    "    return sum(values)\n",
    "nums = list(range(1, 5))\n",
    "print(\"nums\", nums)\n",
    "print(*nums)\n",
    "\n",
    "# *nums: 언팩\n",
    "sumNums(*nums)"
   ]
  },
  {
   "cell_type": "code",
   "execution_count": 131,
   "id": "1d715c35-0a23-4193-9a22-4020bb2b6c47",
   "metadata": {
    "tags": []
   },
   "outputs": [
    {
     "name": "stdout",
     "output_type": "stream",
     "text": [
      "nums range(1, 5)\n",
      "unpack:  1 2 3 4\n",
      "함수 정의:  range(1, 5)\n"
     ]
    },
    {
     "data": {
      "text/plain": [
       "10"
      ]
     },
     "execution_count": 131,
     "metadata": {},
     "output_type": "execute_result"
    }
   ],
   "source": [
    "def sumNums(values2):\n",
    "    print(\"함수 정의: \", values2)\n",
    "    return sum(values2)\n",
    "nums2 = range(1, 5)\n",
    "print(\"nums\", nums2)\n",
    "print(\"unpack: \", *nums2)\n",
    " \n",
    "# *nums: 언팩\n",
    "sumNums(nums2)"
   ]
  },
  {
   "cell_type": "code",
   "execution_count": 113,
   "id": "59ab2cca-6321-4bdd-8399-012e45b99832",
   "metadata": {
    "tags": []
   },
   "outputs": [
    {
     "name": "stdout",
     "output_type": "stream",
     "text": [
      "nums range(1, 5)\n",
      "unpack:  1 2 3 4\n",
      "함수 정의:  (1, 2, 3, 4)\n"
     ]
    },
    {
     "ename": "TypeError",
     "evalue": "can only concatenate tuple (not \"int\") to tuple",
     "output_type": "error",
     "traceback": [
      "\u001b[1;31m---------------------------------------------------------------------------\u001b[0m",
      "\u001b[1;31mTypeError\u001b[0m                                 Traceback (most recent call last)",
      "Cell \u001b[1;32mIn[113], line 9\u001b[0m\n\u001b[0;32m      6\u001b[0m \u001b[38;5;28mprint\u001b[39m(\u001b[38;5;124m\"\u001b[39m\u001b[38;5;124munpack: \u001b[39m\u001b[38;5;124m\"\u001b[39m, \u001b[38;5;241m*\u001b[39mnums2)\n\u001b[0;32m      8\u001b[0m \u001b[38;5;66;03m# *nums: 언팩\u001b[39;00m\n\u001b[1;32m----> 9\u001b[0m \u001b[43msumNums\u001b[49m\u001b[43m(\u001b[49m\u001b[38;5;241;43m*\u001b[39;49m\u001b[43mnums2\u001b[49m\u001b[43m)\u001b[49m\n",
      "Cell \u001b[1;32mIn[113], line 3\u001b[0m, in \u001b[0;36msumNums\u001b[1;34m(*values2)\u001b[0m\n\u001b[0;32m      1\u001b[0m \u001b[38;5;28;01mdef\u001b[39;00m \u001b[38;5;21msumNums\u001b[39m(\u001b[38;5;241m*\u001b[39mvalues2):\n\u001b[0;32m      2\u001b[0m     \u001b[38;5;28mprint\u001b[39m(\u001b[38;5;124m\"\u001b[39m\u001b[38;5;124m함수 정의: \u001b[39m\u001b[38;5;124m\"\u001b[39m, values2)\n\u001b[1;32m----> 3\u001b[0m     \u001b[38;5;28;01mreturn\u001b[39;00m \u001b[43mvalues2\u001b[49m\u001b[43m \u001b[49m\u001b[38;5;241;43m+\u001b[39;49m\u001b[43m \u001b[49m\u001b[38;5;241;43m1\u001b[39;49m\n",
      "\u001b[1;31mTypeError\u001b[0m: can only concatenate tuple (not \"int\") to tuple"
     ]
    }
   ],
   "source": [
    "def sumNums(*values2):\n",
    "    print(\"함수 정의: \", values2)\n",
    "    return values2 + 1\n",
    "nums2 = range(1, 5)\n",
    "print(\"nums\", nums2)\n",
    "print(\"unpack: \", *nums2)\n",
    " \n",
    "# *nums: 언팩\n",
    "sumNums(*nums2)"
   ]
  },
  {
   "cell_type": "code",
   "execution_count": 123,
   "id": "f42c761e-3f0d-4b5e-a24e-a4d8a8db5766",
   "metadata": {
    "tags": []
   },
   "outputs": [
    {
     "name": "stdout",
     "output_type": "stream",
     "text": [
      "nums [1, 2, 3, 4] type:  <class 'list'>\n",
      "unpack:  1 2 3 4\n",
      "함수 정의:  (1, 2, 3, 4) type:  <class 'tuple'>\n"
     ]
    },
    {
     "data": {
      "text/plain": [
       "(1, 2, 3, 4)"
      ]
     },
     "execution_count": 123,
     "metadata": {},
     "output_type": "execute_result"
    }
   ],
   "source": [
    "def sumNums(*values2):\n",
    "    print(\"함수 정의: \", values2, \"type: \", type(values2))\n",
    "    test = values2\n",
    "    print(\n",
    "    return test\n",
    "nums2 = list(range(1, 5))\n",
    "print(\"nums\", nums2, \"type: \", type(nums2))\n",
    "print(\"unpack: \", *nums2)\n",
    " \n",
    "# *nums: 언팩\n",
    "sumNums(*nums2)"
   ]
  },
  {
   "cell_type": "code",
   "execution_count": 135,
   "id": "4a705134-8dec-4d0f-8928-6323b1c59877",
   "metadata": {
    "tags": []
   },
   "outputs": [
    {
     "name": "stdout",
     "output_type": "stream",
     "text": [
      "None\n",
      "0\n"
     ]
    }
   ],
   "source": [
    "re_test = 0\n",
    "def noReturn(num01, num02):\n",
    "    # 지역 변수\n",
    "    re_test = num01 + num02\n",
    "    # print(re_test)\n",
    "\n",
    "re_sult = noReturn(2, 4)\n",
    "print(re_sult)\n",
    "print(re_test)"
   ]
  },
  {
   "cell_type": "code",
   "execution_count": 142,
   "id": "c341d489-66e7-48c5-b9c5-956cb57d008b",
   "metadata": {
    "tags": []
   },
   "outputs": [
    {
     "name": "stdout",
     "output_type": "stream",
     "text": [
      "6\n"
     ]
    }
   ],
   "source": [
    "# 지역 변수를 전역 변수로 사용하고 싶을 때 global 선언해줘야 함\n",
    "# 사용법 : global 변수명\n",
    "\n",
    "re_test1 = 0\n",
    "def noReturn2(num03, num04):\n",
    "    global re_test1\n",
    "    # 지역 변수\n",
    "    re_test1 = num03 + num04\n",
    "    # print(re_test)\n",
    "\n",
    "noReturn2(2, 4)\n",
    "# print(re_sult1)\n",
    "print(re_test1)"
   ]
  },
  {
   "cell_type": "code",
   "execution_count": 148,
   "id": "aa31459f-0d2a-45c4-b61b-ccd39d83f5fd",
   "metadata": {
    "tags": []
   },
   "outputs": [
    {
     "name": "stdout",
     "output_type": "stream",
     "text": [
      "0\n"
     ]
    }
   ],
   "source": [
    "global re_test2\n",
    "re_test2 = 0\n",
    "def noReturn3(num05, num06):\n",
    "    # 지역 변수\n",
    "    re_test2 = num05 + num06\n",
    "    # print(re_test)\n",
    "\n",
    "noReturn3(2, 4)\n",
    "# print(re_sult1)\n",
    "print(re_test2)"
   ]
  },
  {
   "cell_type": "code",
   "execution_count": 150,
   "id": "2d6fa895-18c7-45f0-805d-c696fabf3e4f",
   "metadata": {
    "tags": []
   },
   "outputs": [
    {
     "name": "stdout",
     "output_type": "stream",
     "text": [
      "None\n",
      "<class 'NoneType'>\n"
     ]
    }
   ],
   "source": [
    "def plusNums(reNum1, reNum2):\n",
    "    # 지역 변수\n",
    "    reNums = reNum1 + reNum2\n",
    "    return\n",
    "\n",
    "plusNums(2, 6)\n",
    "print(plusNums(2, 6))\n",
    "print(type(plusNums(2, 6)))"
   ]
  },
  {
   "cell_type": "code",
   "execution_count": 152,
   "id": "82c4d844-f4ec-4dd3-8723-701f1fa0c905",
   "metadata": {
    "tags": []
   },
   "outputs": [],
   "source": [
    "import time"
   ]
  },
  {
   "cell_type": "code",
   "execution_count": 154,
   "id": "57772b84-5cbe-4306-859d-9519e1156d38",
   "metadata": {
    "tags": []
   },
   "outputs": [
    {
     "name": "stdout",
     "output_type": "stream",
     "text": [
      "8\n",
      "<class 'int'>\n"
     ]
    }
   ],
   "source": [
    "def plusNums2(reNum3, reNum4):\n",
    "    # 지역 변수\n",
    "    reNums1 = reNum3 + reNum4\n",
    "    return reNums1\n",
    "\n",
    "plusNums2(2, 6)\n",
    "print(plusNums2(2, 6))\n",
    "time.sleep(1)\n",
    "print(type(plusNums2(2, 6)))"
   ]
  },
  {
   "cell_type": "code",
   "execution_count": 317,
   "id": "07b89d92-3866-472b-973b-1b9ac924181f",
   "metadata": {
    "tags": []
   },
   "outputs": [
    {
     "name": "stdout",
     "output_type": "stream",
     "text": [
      "여기 실행될까\n"
     ]
    }
   ],
   "source": [
    "# 변수는 어디서든 호출된다 밑 주석 처리한 부분도 주석 처리를 풀면 전부 함수 호출이 됨\n",
    "\n",
    "def plusNums3(reNum3, reNum4):\n",
    "    # 지역 변수\n",
    "    reNums1 = reNum3 + reNum4\n",
    "    if reNums1 < 5:\n",
    "        return reNums1\n",
    "    else:\n",
    "        return print(\"여기 실행될까\")\n",
    "        \n",
    "\n",
    "plusNums3(2, 6)\n",
    "# print(plusNums3(2, 6))\n",
    "# time.sleep(1)\n",
    "# print(type(plusNums3(2, 6)))"
   ]
  },
  {
   "cell_type": "code",
   "execution_count": 168,
   "id": "72c85207-dbbb-4cbd-9c7e-c9e2775d7a43",
   "metadata": {
    "tags": []
   },
   "outputs": [
    {
     "name": "stdout",
     "output_type": "stream",
     "text": [
      "4\n",
      "여기 실행될까\n",
      "None\n",
      "1\n"
     ]
    }
   ],
   "source": [
    "# 변수는 어디서든 호출된다 밑 주석 처리한 부분도 주석 처리를 풀면 전부 함수 호출이 됨\n",
    "\n",
    "def plusNums4(reNum3, reNum4):\n",
    "    # 지역 변수\n",
    "    reNums1 = reNum3 + reNum4\n",
    "    if reNums1 < 5:\n",
    "        return reNums1\n",
    "    print(\"여기 실행될까\") # return 이후 코드는 실행되지 않음\n",
    "\n",
    "print(plusNums4(1, 3))\n",
    "print(plusNums4(2, 5))\n",
    "print(plusNums4(0, 1))"
   ]
  },
  {
   "cell_type": "code",
   "execution_count": 176,
   "id": "47205a38-5ee4-45c2-99db-5d5df1f1d6fe",
   "metadata": {
    "tags": []
   },
   "outputs": [
    {
     "name": "stdout",
     "output_type": "stream",
     "text": [
      "여기 실행될까\n"
     ]
    }
   ],
   "source": [
    "def plusNums5(reNum3, reNum4):\n",
    "    # 지역 변수\n",
    "    reNums1 = reNum3 + reNum4\n",
    "    if reNums1 < 5:\n",
    "        return reNums1\n",
    "    else:\n",
    "        return \"여기 실행될까\"\n",
    "        \n",
    "\n",
    "print(plusNums5(2, 6))"
   ]
  },
  {
   "cell_type": "code",
   "execution_count": 180,
   "id": "98afe81a-b2ab-4cb9-8d73-5924d12f89f8",
   "metadata": {
    "tags": []
   },
   "outputs": [
    {
     "name": "stdout",
     "output_type": "stream",
     "text": [
      "0 to 100:  5050\n",
      "0 to 1000:  500500\n",
      "50 to 100:  3825\n",
      "500 to 1000:  375750\n"
     ]
    }
   ],
   "source": [
    "def sum_all(start, end):\n",
    "    # 변수 선언\n",
    "    output = 0\n",
    "    \n",
    "    # 반복문을 돌려 숫자를 더합니다\n",
    "    for i in range(start, end+1):\n",
    "        output += i\n",
    "    \n",
    "    return output\n",
    "\n",
    "# 함수 호출\n",
    "print(\"0 to 100: \", sum_all(0, 100))\n",
    "print(\"0 to 1000: \", sum_all(0, 1000))\n",
    "print(\"50 to 100: \", sum_all(50, 100))\n",
    "print(\"500 to 1000: \", sum_all(500, 1000))"
   ]
  },
  {
   "cell_type": "code",
   "execution_count": 181,
   "id": "8cc25e13-5910-427d-b920-9c04ed184ffb",
   "metadata": {
    "tags": []
   },
   "outputs": [
    {
     "name": "stdout",
     "output_type": "stream",
     "text": [
      "A. 550\n",
      "B. 5050\n",
      "C. 2550\n"
     ]
    }
   ],
   "source": [
    "def sum_all2(start=0, end=100, step=1):\n",
    "    # 변수 선언\n",
    "    output = 0\n",
    "    \n",
    "    # 반복문을 돌려 숫자를 더합니다\n",
    "    for i in range(start, end+1, step):\n",
    "        output += i\n",
    "    \n",
    "    return output\n",
    "\n",
    "# 함수 호출\n",
    "print(\"A.\", sum_all2(0, 100, 10))\n",
    "print(\"B.\", sum_all2(end=100))\n",
    "print(\"C.\", sum_all2(end=100, step=2))"
   ]
  },
  {
   "cell_type": "markdown",
   "id": "4427c5fe-8b50-4544-924d-bad25ea2d80e",
   "metadata": {},
   "source": [
    "# 확인 문제: return\n",
    "- 조건\n",
    "    <pre>\n",
    "    - def f(x):\n",
    "        return x\n",
    "    print(f(10))\n",
    "    </pre>"
   ]
  },
  {
   "cell_type": "markdown",
   "id": "b7d4c8c2-3d29-4784-8c1c-10b95272e406",
   "metadata": {},
   "source": [
    "## 문제: f(x) = 2x+1\n",
    "<pre>\n",
    "def f(x):\n",
    "    return\n",
    "print(f(10))\n",
    "</pre>"
   ]
  },
  {
   "cell_type": "code",
   "execution_count": 319,
   "id": "982f0ece-65ab-4753-a86b-dbaa451b4e26",
   "metadata": {
    "tags": []
   },
   "outputs": [
    {
     "name": "stdout",
     "output_type": "stream",
     "text": [
      "21\n"
     ]
    }
   ],
   "source": [
    "def name(x1):\n",
    "    x1 = 2*x1+1\n",
    "    return x1\n",
    "print(name(10))"
   ]
  },
  {
   "cell_type": "markdown",
   "id": "e803c676-eeaa-4204-b7b7-7d10961136c9",
   "metadata": {},
   "source": [
    "## 문제: f(x) = x²+2x+1\n",
    "<pre>\n",
    "def f(x):\n",
    "    return\n",
    "print(f(10))\n",
    "</pre>"
   ]
  },
  {
   "cell_type": "code",
   "execution_count": 191,
   "id": "3ffd4783-f795-4a29-9db2-5225a289686d",
   "metadata": {
    "tags": []
   },
   "outputs": [
    {
     "name": "stdout",
     "output_type": "stream",
     "text": [
      "121\n"
     ]
    }
   ],
   "source": [
    "def f(x2):\n",
    "    x2 = (x2*x2)+2*(x2)+1\n",
    "    # print(x2)\n",
    "    return x2\n",
    "print(f(10))"
   ]
  },
  {
   "cell_type": "markdown",
   "id": "414d7337-8b02-4c51-aad5-897d94a99145",
   "metadata": {},
   "source": [
    "# 확인 문제2\n",
    "- 조건\n",
    "    - 다음 빈칸을 채워 매개 변수로 전달된 값들을 모두 곱해서 리턴하는 가변 매개 함수를 만들어보세요"
   ]
  },
  {
   "cell_type": "code",
   "execution_count": 248,
   "id": "186b1611-f4fe-45cb-9eb7-513e6ad2d71b",
   "metadata": {
    "tags": []
   },
   "outputs": [
    {
     "name": "stdout",
     "output_type": "stream",
     "text": [
      "3150\n"
     ]
    }
   ],
   "source": [
    "def mul(*vals):\n",
    "    # 식\n",
    "    # print(vals, \"type: \", type(vals))\n",
    "    # return vals\n",
    "    re_mul = 1\n",
    "    for i in vals:\n",
    "        # print(i, \"type: \", type(i))\n",
    "        if type(i) == int:\n",
    "            # print(\"return\")\n",
    "            re_mul = re_mul * i\n",
    "            # print(re_mul, \"*\", i, re_mul)\n",
    "            \n",
    "    return re_mul\n",
    "        \n",
    "numCk = mul(5, 7, 9, 10)\n",
    "# print(numCk, \"type: \", type(numCk))\n",
    "print(numCk)"
   ]
  },
  {
   "cell_type": "markdown",
   "id": "a8286223-ef7f-420b-98a3-14b6fa5d38ff",
   "metadata": {},
   "source": [
    "# 확인 문제3"
   ]
  },
  {
   "cell_type": "markdown",
   "id": "2a6e0ffa-04c8-4326-b2ea-c9dd21743d38",
   "metadata": {},
   "source": [
    "# 확인 문제4\n",
    "- 조건\n",
    "    - 두 수를 입력 받아 두 수의 매개 변수로 전달 받아 공배수를 구하는 함수 구현\n",
    "    - 두 수 입력 받기\n",
    "    - 공배수 식 세우기"
   ]
  },
  {
   "cell_type": "code",
   "execution_count": 325,
   "id": "f092a858-f392-415c-a442-e2f941cee799",
   "metadata": {
    "tags": []
   },
   "outputs": [
    {
     "name": "stdout",
     "output_type": "stream",
     "text": [
      "1\n",
      "15은(는) 3과 5의 공배수입니다.\n",
      "2\n",
      "30은(는) 3과 5의 공배수입니다.\n",
      "3\n",
      "45은(는) 3과 5의 공배수입니다.\n",
      "4\n",
      "60은(는) 3과 5의 공배수입니다.\n",
      "5\n",
      "75은(는) 3과 5의 공배수입니다.\n",
      "6\n",
      "90은(는) 3과 5의 공배수입니다.\n"
     ]
    }
   ],
   "source": [
    "# numIn1 = eval(input(\"숫자를 입력해주세요.\"))\n",
    "# numIn2 = eval(input(\"숫자를 입력해주세요.\"))\n",
    "# x=0\n",
    "def comMul(numIn1, numIn2):\n",
    "    # 식 세우기\n",
    "    numCom = 1\n",
    "    i = 1\n",
    "    for common in range(1, 7):\n",
    "        print(common)\n",
    "        if numIn1 % numIn1 == 0 and numIn2 % numIn2 == 0:\n",
    "            # print(\"공배수 영역\")\n",
    "            numCom = numIn1 * numIn2\n",
    "            numCom = numCom * i\n",
    "            i += 1\n",
    "        print(\"{}은(는) {}과 {}의 공배수입니다.\".format(numCom, numIn1, numIn2))\n",
    "    \n",
    "\n",
    "comMul(3, 5)\n",
    "# 출력 부분\n",
    "# print(\"{}은(는) {}과 {}의 공배수입니다.\".format(x, 3, 5))"
   ]
  },
  {
   "cell_type": "code",
   "execution_count": 386,
   "id": "656990db-22cc-4dbe-a225-4214efd0e8a6",
   "metadata": {
    "tags": []
   },
   "outputs": [
    {
     "name": "stdin",
     "output_type": "stream",
     "text": [
      "숫자를 입력해주세요. 3\n",
      "숫자를 입력해주세요. 5\n"
     ]
    },
    {
     "name": "stdout",
     "output_type": "stream",
     "text": [
      "15은(는) 3과 5의 공배수입니다.\n",
      "30은(는) 3과 5의 공배수입니다.\n",
      "45은(는) 3과 5의 공배수입니다.\n",
      "60은(는) 3과 5의 공배수입니다.\n",
      "75은(는) 3과 5의 공배수입니다.\n",
      "90은(는) 3과 5의 공배수입니다.\n"
     ]
    }
   ],
   "source": [
    "numIn1 = eval(input(\"숫자를 입력해주세요.\"))\n",
    "numIn2 = eval(input(\"숫자를 입력해주세요.\"))\n",
    "li_re = []\n",
    "# testRe = []\n",
    "def comMul(*unVal):\n",
    "    # 식 세우기\n",
    "    # print(unVal[0], unVal[1])\n",
    "    numIn1 = unVal[0]\n",
    "    numIn2 = unVal[1]\n",
    "    numCom = 1\n",
    "    i = 1\n",
    "    for common in range(1, 7):\n",
    "        # print(common)\n",
    "        if numIn1 % numIn1 == 0 and numIn2 % numIn2 == 0:\n",
    "            # print(\"공배수 영역\")\n",
    "            global li_re\n",
    "            numCom = numIn1 * numIn2\n",
    "            numCom = numCom * i\n",
    "            i += 1\n",
    "            li_re.append(\"{}은(는) {}과 {}의 공배수입니다.\".format(numCom, numIn1, numIn2))\n",
    "            # print(\"list: \",list(li_re))\n",
    "        \n",
    "    return li_re\n",
    "    \n",
    "testRe = comMul(numIn1, numIn2)\n",
    "for lastLi in range(len(testRe)):\n",
    "    print(testRe[lastLi])\n",
    "    \n",
    "# 출력 부분\n",
    "# for testRe2 in testRe:\n",
    "    # print(testRe)\n"
   ]
  },
  {
   "cell_type": "code",
   "execution_count": 370,
   "id": "4b89b86b-6ed2-46fc-86c8-073db15954b2",
   "metadata": {
    "tags": []
   },
   "outputs": [
    {
     "name": "stdout",
     "output_type": "stream",
     "text": [
      "15\n",
      "30\n",
      "45\n",
      "60\n",
      "75\n",
      "90\n",
      "[15, 30, 45, 60, 75, 90]\n",
      "30\n",
      "30은(는) 3과 5의 공배수입니다.은(는) 3과 5의 공배수입니다.\n",
      "45\n",
      "45은(는) 3과 5의 공배수입니다.은(는) 3과 5의 공배수입니다.\n",
      "60\n",
      "60은(는) 3과 5의 공배수입니다.은(는) 3과 5의 공배수입니다.\n",
      "75\n",
      "75은(는) 3과 5의 공배수입니다.은(는) 3과 5의 공배수입니다.\n",
      "90\n",
      "90은(는) 3과 5의 공배수입니다.은(는) 3과 5의 공배수입니다.\n"
     ]
    }
   ],
   "source": [
    "# 강사님 코드\n",
    "num1, num2 = 3, 5\n",
    "\n",
    "def comMulS(n1, n2):\n",
    "    # 공배수 정의\n",
    "    cm_vals = []\n",
    "    # 1~100까지 나눠서 n1으로 나눠서 떨어지는 값 찾기\n",
    "    for i in range(1, 101):\n",
    "        # if(i % n1 == 0):\n",
    "        #     # print(i)\n",
    "        #     cm_vals.append(i)\n",
    "        # if(i % n1 == 0):\n",
    "            # print(i)\n",
    "            # cm_vals.append(i)\n",
    "        # n1 과 n2 의 공배수\n",
    "        if i % n1 == 0 and i % n2 == 0:\n",
    "            print(i)\n",
    "            cm_vals.append(i)\n",
    "            \n",
    "    return cm_vals\n",
    "comList = comMulS(num1, num2)\n",
    "print(comList)\n",
    "for lastLi in range(1, len(comList)):\n",
    "    print(comList[lastLi])\n",
    "    print(\"{}은(는) {}과 {}의 공배수입니다.\".format(testRe[lastLi], 3, 5))"
   ]
  },
  {
   "cell_type": "code",
   "execution_count": 343,
   "id": "0c75082b-927e-496b-b146-2c8ccf95fba8",
   "metadata": {
    "tags": []
   },
   "outputs": [
    {
     "name": "stdout",
     "output_type": "stream",
     "text": [
      "15은(는) 3과 5의 공배수입니다.\n",
      "30은(는) 3과 5의 공배수입니다.\n",
      "45은(는) 3과 5의 공배수입니다.\n",
      "60은(는) 3과 5의 공배수입니다.\n",
      "75은(는) 3과 5의 공배수입니다.\n",
      "90은(는) 3과 5의 공배수입니다.\n"
     ]
    }
   ],
   "source": [
    "# numIn1 = eval(input(\"숫자를 입력해주세요.\"))\n",
    "# numIn2 = eval(input(\"숫자를 입력해주세요.\"))\n",
    "# x=0\n",
    "def comMul(numIn1, numIn2):\n",
    "    # 식 세우기\n",
    "    numCom = 1\n",
    "    i = 1\n",
    "    for common in range(1, 100):\n",
    "        # print(common)\n",
    "        if common % numIn1 == 0 and common % numIn2 == 0:\n",
    "            # print(common)\n",
    "            # print(\"공배수 영역\")\n",
    "            common = numIn1 * numIn2\n",
    "            numCom = common * i\n",
    "            i += 1\n",
    "            print(\"{}은(는) {}과 {}의 공배수입니다.\".format(numCom, numIn1, numIn2))\n",
    "    \n",
    "\n",
    "comMul(3, 5)\n",
    "# 출력 부분\n",
    "# print(\"{}은(는) {}과 {}의 공배수입니다.\".format(x, 3, 5))"
   ]
  },
  {
   "cell_type": "code",
   "execution_count": 381,
   "id": "9470c324-3893-4abf-8872-fbe25c928edb",
   "metadata": {
    "tags": []
   },
   "outputs": [
    {
     "name": "stdin",
     "output_type": "stream",
     "text": [
      "숫자를 입력하세요 예) 3, 5>> 3, 5\n"
     ]
    },
    {
     "name": "stdout",
     "output_type": "stream",
     "text": [
      "nums: 3, 5 : type: <class 'str'>\n",
      "num1: 3 : type: <class 'int'> : num2 5 : type : <class 'int'>\n",
      "15은(는) 3과 5의 공배수입니다.\n",
      "30은(는) 3과 5의 공배수입니다.\n",
      "45은(는) 3과 5의 공배수입니다.\n",
      "60은(는) 3과 5의 공배수입니다.\n",
      "75은(는) 3과 5의 공배수입니다.\n",
      "90은(는) 3과 5의 공배수입니다.\n"
     ]
    }
   ],
   "source": [
    "# 강사님 코드\n",
    "nums = input(\"숫자를 입력하세요 예) 3, 5>>\")\n",
    "print(\"nums: {} : type: {}\".format(nums, type(nums)))\n",
    "nums = nums.split(\",\")\n",
    "num1, num2 = eval(nums[0].strip()), eval(nums[1].strip())\n",
    "print(\"num1: {} : type: {} : num2 {} : type : {}\".format(num1, type(num1), num2, type(num2)))\n",
    "def comMulS2(n1, n2):\n",
    "    # 공배수 정의\n",
    "    cm_vals = []\n",
    "    # 1~100까지 나눠서 n1으로 나눠서 떨어지는 값 찾기\n",
    "    for i in range(1, 101):\n",
    "        # if(i % n1 == 0):\n",
    "        #     # print(i)\n",
    "        #     cm_vals.append(i)\n",
    "        # if(i % n1 == 0):\n",
    "            # print(i)\n",
    "            # cm_vals.append(i)\n",
    "        # n1 과 n2 의 공배수\n",
    "        if i % n1 == 0 and i % n2 == 0:\n",
    "            # print(i)\n",
    "            cm_vals.append(i)\n",
    "            \n",
    "    return cm_vals\n",
    "comList = comMulS2(num1, num2)\n",
    "# print(comList)\n",
    "for lastLi in range(len(comList)):\n",
    "    # print(comList[lastLi])\n",
    "    print(\"{}은(는) {}과 {}의 공배수입니다.\".format(comList[lastLi], num1, num2))"
   ]
  },
  {
   "cell_type": "code",
   "execution_count": 383,
   "id": "958844f8-46af-4993-9c97-d1b92cc7f873",
   "metadata": {
    "tags": []
   },
   "outputs": [
    {
     "name": "stdin",
     "output_type": "stream",
     "text": [
      "숫자를 입력하세요 예) 3, 5>> 3, 5\n"
     ]
    },
    {
     "name": "stdout",
     "output_type": "stream",
     "text": [
      "['3', ' 5']\n"
     ]
    }
   ],
   "source": [
    "nums = input(\"숫자를 입력하세요 예) 3, 5>>\").split(\",\")\n",
    "print(nums)"
   ]
  },
  {
   "cell_type": "markdown",
   "id": "f9385a63-086b-4596-8cb9-9dc55c8208eb",
   "metadata": {},
   "source": [
    "## 두 수의 공배수를 구하기 업그레이드\n",
    "- 조건\n",
    "    - 1 ~ n"
   ]
  },
  {
   "cell_type": "code",
   "execution_count": 408,
   "id": "5c4b59e0-4445-4fbc-a793-8dfdc5db8660",
   "metadata": {
    "tags": []
   },
   "outputs": [
    {
     "name": "stdin",
     "output_type": "stream",
     "text": [
      "숫자를 입력해주세요. 3\n",
      "숫자를 입력해주세요. 5\n",
      "범위를 입력해주세요. 100\n"
     ]
    },
    {
     "name": "stdout",
     "output_type": "stream",
     "text": [
      "3 5 100\n",
      "15은(는) 3과 5의 공배수입니다.\n",
      "30은(는) 3과 5의 공배수입니다.\n",
      "45은(는) 3과 5의 공배수입니다.\n",
      "60은(는) 3과 5의 공배수입니다.\n",
      "75은(는) 3과 5의 공배수입니다.\n",
      "90은(는) 3과 5의 공배수입니다.\n"
     ]
    }
   ],
   "source": [
    "numIn1 = eval(input(\"숫자를 입력해주세요.\"))\n",
    "numIn2 = eval(input(\"숫자를 입력해주세요.\"))\n",
    "numIn3 = eval(input(\"범위를 입력해주세요.\"))\n",
    "\n",
    "def comMulUp(*unValUp):\n",
    "    # 식 세우기\n",
    "    print(unValUp[0], unValUp[1], unValUp[2])\n",
    "    numIn1 = unValUp[0]\n",
    "    numIn2 = unValUp[1]\n",
    "    numIn3 = unValUp[2]\n",
    "    comList2 = []\n",
    "    for common1 in range(numIn3):\n",
    "        # print(common)\n",
    "        if 0 < common1 and common1 % numIn1 == 0 and common1 % numIn2 == 0:\n",
    "            # print(\"공배수 영역\")\n",
    "            # print(common1)\n",
    "            comList2.append(common1)\n",
    "        \n",
    "    return comList2\n",
    "\n",
    "comNumLi = comMulUp(numIn1, numIn2, numIn3)\n",
    "\n",
    "for comLi in range(len(comNumLi)):\n",
    "    # print(comList[lastLi])\n",
    "    print(\"{}은(는) {}과 {}의 공배수입니다.\".format(comNumLi[comLi], numIn1, numIn2))"
   ]
  },
  {
   "cell_type": "code",
   "execution_count": 415,
   "id": "1bf6378d-0ef6-4ad8-b13d-0b213f8fa9e5",
   "metadata": {},
   "outputs": [
    {
     "name": "stdin",
     "output_type": "stream",
     "text": [
      "숫자를 입력하세요 예) 3, 5, 100>> 2, 4, 200\n"
     ]
    },
    {
     "name": "stdout",
     "output_type": "stream",
     "text": [
      "4은(는) 2과 4의 공배수입니다.\n",
      "8은(는) 2과 4의 공배수입니다.\n",
      "12은(는) 2과 4의 공배수입니다.\n",
      "16은(는) 2과 4의 공배수입니다.\n",
      "20은(는) 2과 4의 공배수입니다.\n",
      "24은(는) 2과 4의 공배수입니다.\n",
      "28은(는) 2과 4의 공배수입니다.\n",
      "32은(는) 2과 4의 공배수입니다.\n",
      "36은(는) 2과 4의 공배수입니다.\n",
      "40은(는) 2과 4의 공배수입니다.\n",
      "44은(는) 2과 4의 공배수입니다.\n",
      "48은(는) 2과 4의 공배수입니다.\n",
      "52은(는) 2과 4의 공배수입니다.\n",
      "56은(는) 2과 4의 공배수입니다.\n",
      "60은(는) 2과 4의 공배수입니다.\n",
      "64은(는) 2과 4의 공배수입니다.\n",
      "68은(는) 2과 4의 공배수입니다.\n",
      "72은(는) 2과 4의 공배수입니다.\n",
      "76은(는) 2과 4의 공배수입니다.\n",
      "80은(는) 2과 4의 공배수입니다.\n",
      "84은(는) 2과 4의 공배수입니다.\n",
      "88은(는) 2과 4의 공배수입니다.\n",
      "92은(는) 2과 4의 공배수입니다.\n",
      "96은(는) 2과 4의 공배수입니다.\n",
      "100은(는) 2과 4의 공배수입니다.\n",
      "104은(는) 2과 4의 공배수입니다.\n",
      "108은(는) 2과 4의 공배수입니다.\n",
      "112은(는) 2과 4의 공배수입니다.\n",
      "116은(는) 2과 4의 공배수입니다.\n",
      "120은(는) 2과 4의 공배수입니다.\n",
      "124은(는) 2과 4의 공배수입니다.\n",
      "128은(는) 2과 4의 공배수입니다.\n",
      "132은(는) 2과 4의 공배수입니다.\n",
      "136은(는) 2과 4의 공배수입니다.\n",
      "140은(는) 2과 4의 공배수입니다.\n",
      "144은(는) 2과 4의 공배수입니다.\n",
      "148은(는) 2과 4의 공배수입니다.\n",
      "152은(는) 2과 4의 공배수입니다.\n",
      "156은(는) 2과 4의 공배수입니다.\n",
      "160은(는) 2과 4의 공배수입니다.\n",
      "164은(는) 2과 4의 공배수입니다.\n",
      "168은(는) 2과 4의 공배수입니다.\n",
      "172은(는) 2과 4의 공배수입니다.\n",
      "176은(는) 2과 4의 공배수입니다.\n",
      "180은(는) 2과 4의 공배수입니다.\n",
      "184은(는) 2과 4의 공배수입니다.\n",
      "188은(는) 2과 4의 공배수입니다.\n",
      "192은(는) 2과 4의 공배수입니다.\n",
      "196은(는) 2과 4의 공배수입니다.\n",
      "200은(는) 2과 4의 공배수입니다.\n"
     ]
    }
   ],
   "source": [
    "nums = input(\"숫자를 입력하세요 예) 3, 5, 100>>\")\n",
    "# print(\"nums: {} : type: {}\".format(nums, type(nums)))\n",
    "nums = nums.split(\",\")\n",
    "numIn1, numIn2, numIn3 = eval(nums[0].strip()), eval(nums[1].strip()), eval(nums[2].strip())\n",
    "\n",
    "def comMulUp(*unValUp):\n",
    "    # 식 세우기\n",
    "    # print(unValUp[0], unValUp[1], unValUp[2])\n",
    "    numIn1 = unValUp[0]\n",
    "    numIn2 = unValUp[1]\n",
    "    numIn3 = unValUp[2]\n",
    "    comList2 = []\n",
    "    for common1 in range(numIn3+1):\n",
    "        # print(common)\n",
    "        if 0 < common1 and common1 % numIn1 == 0 and common1 % numIn2 == 0:\n",
    "            # print(\"공배수 영역\")\n",
    "            # print(common1)\n",
    "            comList2.append(common1)\n",
    "        \n",
    "    return comList2\n",
    "\n",
    "comNumLi = comMulUp(numIn1, numIn2, numIn3)\n",
    "\n",
    "for comLi in range(len(comNumLi)):\n",
    "    # print(comList[lastLi])\n",
    "    print(\"{}은(는) {}과 {}의 공배수입니다.\".format(comNumLi[comLi], numIn1, numIn2))"
   ]
  },
  {
   "cell_type": "code",
   "execution_count": 426,
   "id": "cccf5e89-dd11-4c35-b743-49273b797bcd",
   "metadata": {},
   "outputs": [
    {
     "name": "stdin",
     "output_type": "stream",
     "text": [
      "숫자를 입력하세요 예) 3, 5, 100>> 2, 4, 50\n"
     ]
    },
    {
     "name": "stdout",
     "output_type": "stream",
     "text": [
      "8은(는) 2과 4의 공배수입니다.\n",
      "16은(는) 2과 4의 공배수입니다.\n",
      "24은(는) 2과 4의 공배수입니다.\n",
      "32은(는) 2과 4의 공배수입니다.\n",
      "40은(는) 2과 4의 공배수입니다.\n",
      "48은(는) 2과 4의 공배수입니다.\n"
     ]
    }
   ],
   "source": [
    "nums = input(\"숫자를 입력하세요 예) 3, 5, 100>>\")\n",
    "# print(\"nums: {} : type: {}\".format(nums, type(nums)))\n",
    "nums = nums.split(\",\")\n",
    "numIn1, numIn2, numIn3 = eval(nums[0].strip()), eval(nums[1].strip()), eval(nums[2].strip())\n",
    "\n",
    "def comMulUp(*unValUp):\n",
    "    # 식 세우기\n",
    "    # print(unValUp[0], unValUp[1], unValUp[2])\n",
    "    numIn1 = unValUp[0]\n",
    "    numIn2 = unValUp[1]\n",
    "    numIn3 = unValUp[2]\n",
    "    comList3 = []\n",
    "    for common2 in range(1, numIn3+1):\n",
    "        # print(common)\n",
    "        if (common2 % (numIn1*numIn2)) == 0:\n",
    "            # print(\"공배수 영역\")\n",
    "            # print(common2)\n",
    "            comList3.append(common2)\n",
    "        \n",
    "    return comList3\n",
    "\n",
    "comNumLi = comMulUp(numIn1, numIn2, numIn3)\n",
    "\n",
    "for comLi in range(len(comNumLi)):\n",
    "    # print(comList[lastLi])\n",
    "    print(\"{}은(는) {}과 {}의 공배수입니다.\".format(comNumLi[comLi], numIn1, numIn2))"
   ]
  },
  {
   "cell_type": "markdown",
   "id": "98e63f65-2c9b-4ea6-acdb-8cb065dbcc3e",
   "metadata": {},
   "source": [
    "# 재귀 함수"
   ]
  },
  {
   "cell_type": "code",
   "execution_count": 427,
   "id": "b5f469f1-d7ba-4648-91a6-f68703e8ce04",
   "metadata": {
    "tags": []
   },
   "outputs": [
    {
     "name": "stdout",
     "output_type": "stream",
     "text": [
      "1!: 1\n",
      "2!: 2\n",
      "3!: 6\n",
      "4!: 24\n",
      "5!: 120\n"
     ]
    }
   ],
   "source": [
    "# n! = n*n+1*n+2...\n",
    "\n",
    "def factorial(n):\n",
    "    # 변수 선언\n",
    "    out = 1\n",
    "    # 반복문 사용\n",
    "    for i in range(1, n+1):\n",
    "        out *= i\n",
    "    return out\n",
    "\n",
    "print(\"1!:\", factorial(1))\n",
    "print(\"2!:\", factorial(2))\n",
    "print(\"3!:\", factorial(3))\n",
    "print(\"4!:\", factorial(4))\n",
    "print(\"5!:\", factorial(5))"
   ]
  },
  {
   "cell_type": "markdown",
   "id": "14bebb44-14ae-4463-84bc-57bbbb6210e2",
   "metadata": {},
   "source": [
    "# tuple\n",
    "- list와 유사한 자료형\n",
    "- 한 번 결정된 요소는 바꿀 수 없음"
   ]
  },
  {
   "cell_type": "markdown",
   "id": "bda75831-6969-4503-bc25-80afd415bfee",
   "metadata": {},
   "source": [
    "## 자료 구조"
   ]
  },
  {
   "cell_type": "code",
   "execution_count": 435,
   "id": "93ad8e71-fb88-49b3-b868-446f91f2a97f",
   "metadata": {
    "tags": []
   },
   "outputs": [
    {
     "name": "stdout",
     "output_type": "stream",
     "text": [
      "(1, 2, 3, 4) <class 'tuple'>\n",
      "1 <class 'int'>\n",
      "(1,) <class 'tuple'>\n"
     ]
    }
   ],
   "source": [
    "tuEx1 = (1, 2, 3, 4)\n",
    "print(tuEx1, type(tuEx1))\n",
    "# 값이 하나일 때\n",
    "tuEx2 = (1)\n",
    "print(tuEx2, type(tuEx2)) # int\n",
    "tuEx3 = (1,)\n",
    "print(tuEx3, type(tuEx3)) # tuple"
   ]
  },
  {
   "cell_type": "code",
   "execution_count": 443,
   "id": "97be8ace-6d86-4b28-8ed4-bf968638052f",
   "metadata": {
    "tags": []
   },
   "outputs": [
    {
     "name": "stdout",
     "output_type": "stream",
     "text": [
      "(1, 2, 3, 4) <class 'tuple'>\n",
      "(1, 2)\n",
      "[1, 2, 3, 4]\n",
      "tuEx4: [1, 2, 3, 4] : type: <class 'list'>\n",
      "tuEx4: (1, 2, 3, 4) : type: <class 'tuple'>\n"
     ]
    }
   ],
   "source": [
    "tuEx4 = (1, 2, 3, 4)\n",
    "print(tuEx4, type(tuEx4))\n",
    "\n",
    "# tuEx4[2] = 5\n",
    "print(tuEx4[:2])\n",
    "\n",
    "chas = list(tuEx4)\n",
    "print(chas)\n",
    "\n",
    "# 만일 기존 변수에 대입하고 싶을 경우 기존 변수명을 사용하면 됨\n",
    "tuEx4 = list(tuEx4)\n",
    "print(\"tuEx4: {} : type: {}\".format(tuEx4, type(tuEx4)))\n",
    "\n",
    "tuEx4 = tuple(tuEx4)\n",
    "print(\"tuEx4: {} : type: {}\".format(tuEx4, type(tuEx4)))"
   ]
  },
  {
   "cell_type": "markdown",
   "id": "eed1a3a1-3851-4a23-b48c-cfec6aeed7af",
   "metadata": {},
   "source": [
    "### 괄호 없는 튜플"
   ]
  },
  {
   "cell_type": "code",
   "execution_count": 444,
   "id": "2064a635-1d5e-4e6b-9330-e728d6256fc2",
   "metadata": {
    "tags": []
   },
   "outputs": [
    {
     "name": "stdout",
     "output_type": "stream",
     "text": [
      "tuEx5: 10 : type: <class 'int'>\n",
      "tuEx6: 20 : type: <class 'int'>\n",
      "tuEx7: 10 : type: <class 'int'>\n",
      "tuEx8: 20 : type: <class 'int'>\n"
     ]
    }
   ],
   "source": [
    "[tuEx5, tuEx6] = [10, 20]\n",
    "(tuEx7, tuEx8) = (10, 20)\n",
    "\n",
    "print(\"tuEx5: {} : type: {}\".format(tuEx5, type(tuEx5)))\n",
    "print(\"tuEx6: {} : type: {}\".format(tuEx6, type(tuEx6)))\n",
    "print(\"tuEx7: {} : type: {}\".format(tuEx7, type(tuEx7)))\n",
    "print(\"tuEx8: {} : type: {}\".format(tuEx8, type(tuEx8)))"
   ]
  },
  {
   "cell_type": "code",
   "execution_count": 446,
   "id": "b6f0363e-d723-446a-9e98-134bf967f313",
   "metadata": {
    "tags": []
   },
   "outputs": [
    {
     "name": "stdout",
     "output_type": "stream",
     "text": [
      "# 괄호가 없는 튜플의 값과 자료형 출력\n",
      "tuExNo:  (10, 20, 30, 40)\n",
      "tuExNo: (10, 20, 30, 40) : type: <class 'tuple'>\n",
      "# 괄호가 없는 튜플을 활용한 할당\n",
      "tuExNo1: 10 : type: <class 'int'>\n",
      "tuExNo2: 20 : type: <class 'int'>\n",
      "tuExNo3: 30 : type: <class 'int'>\n",
      "# 교환 전 값\n",
      "tuExNo4: 10 : type: <class 'int'>\n",
      "tuExNo5: 20 : type: <class 'int'>\n",
      "tuExNo6: 30 : type: <class 'int'>\n",
      "# 교환 후 값\n",
      "tuExNo4: 30 : type: <class 'int'>\n",
      "tuExNo5: 10 : type: <class 'int'>\n",
      "tuExNo6: 20 : type: <class 'int'>\n"
     ]
    }
   ],
   "source": [
    "tuExNo = 10, 20, 30, 40\n",
    "print(\"# 괄호가 없는 튜플의 값과 자료형 출력\")\n",
    "print(\"tuExNo: \", tuExNo)\n",
    "print(\"tuExNo: {} : type: {}\".format(tuExNo, type(tuExNo)))\n",
    "\n",
    "tuExNo1, tuExNo2, tuExNo3 = 10, 20, 30\n",
    "print(\"# 괄호가 없는 튜플을 활용한 할당\")\n",
    "print(\"tuExNo1: {} : type: {}\".format(tuExNo1, type(tuExNo1)))\n",
    "print(\"tuExNo2: {} : type: {}\".format(tuExNo2, type(tuExNo2)))\n",
    "print(\"tuExNo3: {} : type: {}\".format(tuExNo3, type(tuExNo3)))\n",
    "\n",
    "# 변수 값을 교환하는 튜플\n",
    "print(\"# 교환 전 값\")\n",
    "tuExNo4, tuExNo5, tuExNo6 = 10, 20, 30\n",
    "print(\"tuExNo4: {} : type: {}\".format(tuExNo4, type(tuExNo4)))\n",
    "print(\"tuExNo5: {} : type: {}\".format(tuExNo5, type(tuExNo5)))\n",
    "print(\"tuExNo6: {} : type: {}\".format(tuExNo6, type(tuExNo6)))\n",
    "\n",
    "# 값 교환\n",
    "print(\"# 교환 후 값\")\n",
    "tuExNo4, tuExNo5, tuExNo6 = tuExNo6, tuExNo4, tuExNo5\n",
    "print(\"tuExNo4: {} : type: {}\".format(tuExNo4, type(tuExNo4)))\n",
    "print(\"tuExNo5: {} : type: {}\".format(tuExNo5, type(tuExNo5)))\n",
    "print(\"tuExNo6: {} : type: {}\".format(tuExNo6, type(tuExNo6)))\n",
    "\n",
    "# 튜플 안에 있는 값을 바꿀 수는 없으나 튜플끼리 교환하는 건 가능함"
   ]
  },
  {
   "cell_type": "code",
   "execution_count": 447,
   "id": "89864f38-41bd-437a-b9bf-833bb5eefee2",
   "metadata": {
    "tags": []
   },
   "outputs": [
    {
     "name": "stdout",
     "output_type": "stream",
     "text": [
      "tuExNo4: 10 : type: <class 'int'>\n",
      "tuExNo5: 20 : type: <class 'int'>\n"
     ]
    }
   ],
   "source": [
    "# 함수 선언\n",
    "def tuTest():\n",
    "    return (10, 20)\n",
    "\n",
    "tuNum1, tuNum2 = tuTest()\n",
    "print(\"tuExNo4: {} : type: {}\".format(tuNum1, type(tuNum1)))\n",
    "print(\"tuExNo5: {} : type: {}\".format(tuNum2, type(tuNum2)))"
   ]
  },
  {
   "cell_type": "code",
   "execution_count": null,
   "id": "e7434ecb-cd91-48cc-934f-3c740e3f9517",
   "metadata": {},
   "outputs": [],
   "source": []
  }
 ],
 "metadata": {
  "kernelspec": {
   "display_name": "Python 3 (ipykernel)",
   "language": "python",
   "name": "python3"
  },
  "language_info": {
   "codemirror_mode": {
    "name": "ipython",
    "version": 3
   },
   "file_extension": ".py",
   "mimetype": "text/x-python",
   "name": "python",
   "nbconvert_exporter": "python",
   "pygments_lexer": "ipython3",
   "version": "3.10.10"
  }
 },
 "nbformat": 4,
 "nbformat_minor": 5
}
